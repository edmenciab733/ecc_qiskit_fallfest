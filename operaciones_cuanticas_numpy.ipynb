{
  "nbformat": 4,
  "nbformat_minor": 0,
  "metadata": {
    "colab": {
      "provenance": [],
      "authorship_tag": "ABX9TyPwZBlSW0r5FqqBS0dV6CbD",
      "include_colab_link": true
    },
    "kernelspec": {
      "name": "python3",
      "display_name": "Python 3"
    },
    "language_info": {
      "name": "python"
    }
  },
  "cells": [
    {
      "cell_type": "markdown",
      "metadata": {
        "id": "view-in-github",
        "colab_type": "text"
      },
      "source": [
        "<a href=\"https://colab.research.google.com/github/edmenciab733/ecc_qiskit_fallfest/blob/main/operaciones_cuanticas_numpy.ipynb\" target=\"_parent\"><img src=\"https://colab.research.google.com/assets/colab-badge.svg\" alt=\"Open In Colab\"/></a>"
      ]
    },
    {
      "cell_type": "code",
      "source": [
        "%%capture\n",
        "!pip install qiskit\n",
        "!pip install qiskit-aer"
      ],
      "metadata": {
        "id": "ue5NPADfiVM1"
      },
      "execution_count": 1,
      "outputs": []
    },
    {
      "cell_type": "code",
      "execution_count": 2,
      "metadata": {
        "id": "bEkftGrjxxgb"
      },
      "outputs": [],
      "source": [
        "import numpy as np\n",
        "import qiskit"
      ]
    },
    {
      "cell_type": "markdown",
      "source": [
        "# Introducción"
      ],
      "metadata": {
        "id": "LhhgSQhk6Wm9"
      }
    },
    {
      "cell_type": "markdown",
      "source": [
        "Este notebook es una introducción al manejo de operaciones en la computación cuántica, con el apoyo de NumPy. Será útil para comprender mejor cómo se manejan los estados cuánticos dentro del álgebra lineal, evitando la inicialmente confusa notación de Dirac.  El objetivo principal es proporcionar una comprensión sólida de cómo, desde la perspectiva de un programador y con un enfoque práctico, las operaciones cuánticas pueden ser representadas y ejecutadas como un conjunto de operaciones matriciales y vectoriales, haciendo uso de arreglos (o vectores, dependiendo del contexto específico) en un entorno de programación."
      ],
      "metadata": {
        "id": "jApz-bhn5V1K"
      }
    },
    {
      "cell_type": "markdown",
      "source": [
        "## Funciónes de ayuda"
      ],
      "metadata": {
        "id": "o_VHqN-66ap9"
      }
    },
    {
      "cell_type": "code",
      "source": [
        "def separar_amplitudes(estado):\n",
        "    estado = estado.reshape(2)\n",
        "    num_q = int(np.log2(len(estado))) # saber a cuantos qubits corresponde su máxima longitud\n",
        "    for i, amplitude in enumerate(estado):\n",
        "        temp_b = format(i, \"b\") # convertir en binario el la posición del vector para poder\n",
        "        temp_b = temp_b.zfill(num_q) # rellenar con zeros a la izquierda\n",
        "        print(\"{} |{}>\".format(amplitude, temp_b)) # formatear el resultado"
      ],
      "metadata": {
        "id": "HdmyBPue4HR8"
      },
      "execution_count": 80,
      "outputs": []
    },
    {
      "cell_type": "markdown",
      "source": [
        "# Bases Computacional , Base Hadamard, y Base  Y\n",
        "\n",
        "---\n",
        "\n",
        "**Base computacional**\n",
        "\n",
        "- $ |0\\rangle $\n",
        "- $ |1\\rangle $\n",
        "\n",
        "**Operador de Hadamard y transformación a la Base Hadamard**\n",
        "\n",
        "El operador de Hadamard es una operación unitaria que actúa sobre un único qubit y tiene una variedad de aplicaciones importantes, desde la creación de superposiciones hasta la implementación de algoritmos cuánticos.\n",
        "\n",
        "\n",
        "- $ H = \\frac{1}{\\sqrt{2}}\\begin{pmatrix} 1 & 1 \\\\ 1 & -1 \\end{pmatrix} $  \n",
        "\n",
        "\n",
        "- $ |+\\rangle $ = $H  |0\\rangle $ = $ \\frac{|0\\rangle + |1\\rangle}{\\sqrt{2}} $\n",
        "\n",
        "\n",
        "- $ |-\\rangle $= $H  |1\\rangle $ = $ \\frac{|0\\rangle - |1\\rangle}{\\sqrt{2}} $\n",
        "\n",
        "**Base Y **\n",
        "\n",
        "- $ |i\\rangle $\n",
        "- $ |-i\\rangle $"
      ],
      "metadata": {
        "id": "1scozx4YyuWD"
      }
    },
    {
      "cell_type": "markdown",
      "source": [
        "## Operadores con numpy"
      ],
      "metadata": {
        "id": "i1ydJsIkcLJ0"
      }
    },
    {
      "cell_type": "code",
      "source": [
        "ket_0 = np.array([[1], [0]])\n",
        "ket_1 = np.array([[0], [1]])"
      ],
      "metadata": {
        "id": "Aawlcn5SyfLQ"
      },
      "execution_count": 3,
      "outputs": []
    },
    {
      "cell_type": "code",
      "source": [
        "separar_amplitudes(ket_0)"
      ],
      "metadata": {
        "colab": {
          "base_uri": "https://localhost:8080/"
        },
        "id": "Z1Rlq9Bj4Zu0",
        "outputId": "34701748-7534-4f67-8e77-9dd17c41f30a"
      },
      "execution_count": 81,
      "outputs": [
        {
          "output_type": "stream",
          "name": "stdout",
          "text": [
            "1 |0>\n",
            "0 |1>\n"
          ]
        }
      ]
    },
    {
      "cell_type": "code",
      "source": [
        "separar_amplitudes(ket_1)"
      ],
      "metadata": {
        "colab": {
          "base_uri": "https://localhost:8080/"
        },
        "id": "aBoIYs3E49l-",
        "outputId": "4d9cc1cf-6f91-48a9-c144-6b71225d701b"
      },
      "execution_count": 82,
      "outputs": [
        {
          "output_type": "stream",
          "name": "stdout",
          "text": [
            "0 |0>\n",
            "1 |1>\n"
          ]
        }
      ]
    },
    {
      "cell_type": "code",
      "source": [
        "H = 1/np.sqrt(2) * np.array([[1, 1], [1, -1]])"
      ],
      "metadata": {
        "id": "-PBpzOZLzSJR"
      },
      "execution_count": 4,
      "outputs": []
    },
    {
      "cell_type": "code",
      "source": [
        "ket_p  = H.dot(ket_0)"
      ],
      "metadata": {
        "id": "j_uwPcS-zhaD"
      },
      "execution_count": 5,
      "outputs": []
    },
    {
      "cell_type": "code",
      "source": [
        "separar_amplitudes(ket_p)"
      ],
      "metadata": {
        "colab": {
          "base_uri": "https://localhost:8080/"
        },
        "id": "W0mIsS4C4yJC",
        "outputId": "42cfe4e0-e304-444e-e5fb-7ef706de44aa"
      },
      "execution_count": 83,
      "outputs": [
        {
          "output_type": "stream",
          "name": "stdout",
          "text": [
            "0.7071067811865475 |0>\n",
            "0.7071067811865475 |1>\n"
          ]
        }
      ]
    },
    {
      "cell_type": "code",
      "source": [
        "ket_m = H.dot(ket_1)"
      ],
      "metadata": {
        "id": "ZnQcATyKzxje"
      },
      "execution_count": 6,
      "outputs": []
    },
    {
      "cell_type": "code",
      "source": [
        "ket_ip =  1/np.sqrt(2) * np.array([[1], [1j]])"
      ],
      "metadata": {
        "id": "YKKAijorz6NP"
      },
      "execution_count": 7,
      "outputs": []
    },
    {
      "cell_type": "code",
      "source": [
        "ket_im = 1/np.sqrt(2) * np.array([[1], [-1j]])"
      ],
      "metadata": {
        "id": "mteQ4dEr5mZw"
      },
      "execution_count": 8,
      "outputs": []
    },
    {
      "cell_type": "markdown",
      "source": [
        "## Producto Interno\n",
        "El producto intero, también conocido como producto escalar, es una operación matemática que toma dos vectores en este espacio y devuelve un número complejo. El producto interno se denota como:  $ \\langle v|u\\rangle$. Un requísito es aplicar el produnto interno es que el número de columnas del primer vector debe coincidir con el número de filas.\n",
        "\n",
        "Ejemplo con: $ \\langle0|0\\rangle $\n",
        "\n",
        "$\\begin{pmatrix} 1 \\\\ 0  \\end{pmatrix} \\times \\begin{pmatrix} 1 & 0  \\end{pmatrix} $  \n",
        "\n"
      ],
      "metadata": {
        "id": "wyR5R0iFodqw"
      }
    },
    {
      "cell_type": "markdown",
      "source": [
        "Representación numpy de un Vector Columna con un Vector Fila"
      ],
      "metadata": {
        "id": "QyaNz4Ug_cvL"
      }
    },
    {
      "cell_type": "code",
      "source": [
        "ket_0_tc = np.conj(ket_0.T)\n",
        "ket_0.shape, ket_0_tc.shape"
      ],
      "metadata": {
        "colab": {
          "base_uri": "https://localhost:8080/"
        },
        "id": "sx6tZIHNoiwT",
        "outputId": "fa4bbe14-474e-4a20-ffdf-4de36ccae70d"
      },
      "execution_count": 9,
      "outputs": [
        {
          "output_type": "execute_result",
          "data": {
            "text/plain": [
              "((2, 1), (1, 2))"
            ]
          },
          "metadata": {},
          "execution_count": 9
        }
      ]
    },
    {
      "cell_type": "markdown",
      "source": [
        "Producto Interno entre $ \\langle 0 | - \\rangle $"
      ],
      "metadata": {
        "id": "vs1Sozbo_mLC"
      }
    },
    {
      "cell_type": "code",
      "source": [
        "np.vdot(ket_0_tc,  ket_m)"
      ],
      "metadata": {
        "colab": {
          "base_uri": "https://localhost:8080/"
        },
        "id": "NfvK_-d1oo-8",
        "outputId": "7dc484d1-9983-451a-8fe0-d359e459ffb7"
      },
      "execution_count": 84,
      "outputs": [
        {
          "output_type": "execute_result",
          "data": {
            "text/plain": [
              "0.7071067811865475"
            ]
          },
          "metadata": {},
          "execution_count": 84
        }
      ]
    },
    {
      "cell_type": "markdown",
      "source": [
        "Producto Interno entre $ \\langle 0 | 0 \\rangle $"
      ],
      "metadata": {
        "id": "IJLXNKO9AqGo"
      }
    },
    {
      "cell_type": "code",
      "source": [
        "np.vdot(ket_0_tc, ket_0)"
      ],
      "metadata": {
        "colab": {
          "base_uri": "https://localhost:8080/"
        },
        "id": "eM-YkrzIx9nx",
        "outputId": "8f383e08-efef-4ccb-9a5a-9270b489ac54"
      },
      "execution_count": 86,
      "outputs": [
        {
          "output_type": "execute_result",
          "data": {
            "text/plain": [
              "1"
            ]
          },
          "metadata": {},
          "execution_count": 86
        }
      ]
    },
    {
      "cell_type": "markdown",
      "source": [
        "Producto Interno entre $ \\langle 0 | 1 \\rangle $"
      ],
      "metadata": {
        "id": "zpAbOOqyAsy0"
      }
    },
    {
      "cell_type": "code",
      "source": [
        "ket_0_tc = np.conj(ket_0.T)\n",
        "np.vdot(ket_0_tc, ket_1)"
      ],
      "metadata": {
        "colab": {
          "base_uri": "https://localhost:8080/"
        },
        "id": "6P56enGYqZ29",
        "outputId": "7015169f-b789-4cb1-96b4-b487c2ac0ca7"
      },
      "execution_count": 85,
      "outputs": [
        {
          "output_type": "execute_result",
          "data": {
            "text/plain": [
              "0"
            ]
          },
          "metadata": {},
          "execution_count": 85
        }
      ]
    },
    {
      "cell_type": "markdown",
      "source": [
        "El detalle: El producto interno puede darnos un una idea de que tan similares son los estados de dos qubits(Mientras más cerca de 1, más similiares son, podría servir de una medida de correlación). Pruebas con: $ \\langle 0|0 \\rangle = 1 $ ó $ \\langle0|1\\rangle = 0 $  ó  $ \\langle0|-\\rangle = 0.707 $"
      ],
      "metadata": {
        "id": "hNKNpZPwqtEr"
      }
    },
    {
      "cell_type": "markdown",
      "source": [
        "# Relaciones entre qubits\n",
        "\n",
        "Las relaciones entre qubits se realizan por medio producto de kronecker. Esto permite trabajar con muchos qubits sin que afecten unos con otros directamente.\n",
        "\n",
        "$|00\\rangle = |0\\rangle \\otimes |0\\rangle $\n",
        "\n",
        "$  |01\\rangle = |0\\rangle \\otimes |1\\rangle $\n",
        "\n",
        "$|10\\rangle = |1\\rangle \\otimes |0\\rangle $\n",
        "\n",
        "$|11\\rangle = |1\\rangle \\otimes|1\\rangle $\n",
        "\n",
        "\n"
      ],
      "metadata": {
        "id": "eKJojyf5ifDD"
      }
    },
    {
      "cell_type": "code",
      "source": [
        "ket_00 = np.kron(ket_0, ket_0)\n",
        "ket_01 = np.kron(ket_0, ket_1)\n",
        "ket_10 = np.kron(ket_1, ket_0)\n",
        "ket_11 = np.kron(ket_1, ket_1)"
      ],
      "metadata": {
        "id": "a_WUZ6UrkM2S"
      },
      "execution_count": 13,
      "outputs": []
    },
    {
      "cell_type": "markdown",
      "source": [
        "# Operadores(Puertas) de Pauli, combinaciones y operaciones sobre 1 qubit\n",
        "\n",
        "Los operadores de Pauli constituyen una serie de matrices que tiene efecto sobre qubits individuales.\n",
        "\n",
        "La puerta $ X $ es análoga al bit clasico actua sobre el eje $ x $ y su efecto es rotar el eje mencionado un valor $ \\pi $"
      ],
      "metadata": {
        "id": "0xPobEKR1yGy"
      }
    },
    {
      "cell_type": "code",
      "source": [
        "X = np.array([[0,1], [1, 0]])"
      ],
      "metadata": {
        "id": "bU4AgzIP2Itw"
      },
      "execution_count": 14,
      "outputs": []
    },
    {
      "cell_type": "code",
      "source": [
        "Z = np.array([[1,0], [0, -1]])"
      ],
      "metadata": {
        "id": "JN4fDIQ02uWw"
      },
      "execution_count": 15,
      "outputs": []
    },
    {
      "cell_type": "code",
      "source": [
        "Y = np.array([[0, -1j], [1j, 0]])"
      ],
      "metadata": {
        "id": "TBv7ftcz7VUP"
      },
      "execution_count": 16,
      "outputs": []
    },
    {
      "cell_type": "code",
      "source": [
        "I = np.array([[1,0], [0,1]])"
      ],
      "metadata": {
        "id": "NySyLWIiMtfU"
      },
      "execution_count": 17,
      "outputs": []
    },
    {
      "cell_type": "code",
      "source": [
        "np.dot(X, ket_1)"
      ],
      "metadata": {
        "colab": {
          "base_uri": "https://localhost:8080/"
        },
        "id": "ttD1Xwz6S7Hm",
        "outputId": "f43b6c83-e0d2-4959-cf9e-a039b42cca7e"
      },
      "execution_count": 18,
      "outputs": [
        {
          "output_type": "execute_result",
          "data": {
            "text/plain": [
              "array([[1],\n",
              "       [0]])"
            ]
          },
          "metadata": {},
          "execution_count": 18
        }
      ]
    },
    {
      "cell_type": "markdown",
      "source": [
        "Para combinar dos o n operadores cuanticos que terminaran a afectando a 2 o $ n $ qubits tambien se realiza el producto de kronecker entre los operados por ejemplo para dos puertas $ XX $ sería:\n",
        "\n",
        "$ XX = X \\otimes X $\n",
        "\n",
        "El <a href=\"https://repositoriodigital.uns.edu.ar/handle/123456789/5841#:~:text=El%20producto%20de%20Kronecker%20se,el%20c%C3%A1lculo%20de%20valores%20singulares.\" > producto de kronocker </a>garantiza que los qubits se mantengan independiente. No es una operación sobre dos qubits"
      ],
      "metadata": {
        "id": "TYj8433Ipi2-"
      }
    },
    {
      "cell_type": "code",
      "source": [
        "XX = np.kron(X, X)\n",
        "XX"
      ],
      "metadata": {
        "colab": {
          "base_uri": "https://localhost:8080/"
        },
        "id": "Z4DSN5B7oE-7",
        "outputId": "e24eaf8c-d2cc-4fc3-db66-3cc990550094"
      },
      "execution_count": 19,
      "outputs": [
        {
          "output_type": "execute_result",
          "data": {
            "text/plain": [
              "array([[0, 0, 0, 1],\n",
              "       [0, 0, 1, 0],\n",
              "       [0, 1, 0, 0],\n",
              "       [1, 0, 0, 0]])"
            ]
          },
          "metadata": {},
          "execution_count": 19
        }
      ]
    },
    {
      "cell_type": "markdown",
      "source": [
        "Ejemplo si queres afectar a aplicar al par de de qubits  $|00\\rangle$ con la puerta $ X$ aplicado a ambos qubits. La operación es cuanto sigue:\n",
        "\n",
        "$ XX |00\\rangle $\n"
      ],
      "metadata": {
        "id": "heCFDAJwqSdE"
      }
    },
    {
      "cell_type": "code",
      "source": [
        "np.dot(XX, ket_00)"
      ],
      "metadata": {
        "colab": {
          "base_uri": "https://localhost:8080/"
        },
        "id": "qQXHDkBRoKWE",
        "outputId": "a353e48a-f5b9-4be2-bb40-9b9e20ca7d14"
      },
      "execution_count": 20,
      "outputs": [
        {
          "output_type": "execute_result",
          "data": {
            "text/plain": [
              "array([[0],\n",
              "       [0],\n",
              "       [0],\n",
              "       [1]])"
            ]
          },
          "metadata": {},
          "execution_count": 20
        }
      ]
    },
    {
      "cell_type": "markdown",
      "source": [
        "En la notación de bra-ket, comúnmente utilizada en mecánica cuántica, el producto tensorial de operadores lineales se puede definir de la siguiente manera. Consideremos dos espacios vectoriales, $V$ y $U$ con vectores $ |v\\rangle $ en $V$ y $ |u\\rangle $ en $U$. El producto tensorial de los operadores  $ A y  B $ denotado por $ A \\otimes B $ actúa sobre el espacio producto tensorial de $ U \\otimes V $ por tanto se puede decir que tambien actua sobre $ u$  y $ v $\n",
        "\n",
        "\n",
        "\n",
        "\n",
        "\n",
        "\n",
        "$ (A \\otimes B ) ( |v\\rangle \\otimes |u\\rangle ) =  (A \\otimes |v\\rangle ) (B \\otimes |u\\rangle)$\n",
        "\n",
        "Ejemplo\n",
        "\n",
        "$ ZX|10\\rangle = Z|1\\rangle X|0\\rangle $"
      ],
      "metadata": {
        "id": "-jTMlfeRUZ6T"
      }
    },
    {
      "cell_type": "code",
      "source": [
        "ZX = np.kron(Z, X)\n",
        "ket1ket0 = np.kron(ket_1, ket_0)\n",
        "ZXket1ket0 = ZX.dot(ket1ket0)\n",
        "ZXket1ket0"
      ],
      "metadata": {
        "colab": {
          "base_uri": "https://localhost:8080/"
        },
        "id": "99Rait1fN2gO",
        "outputId": "36ac38da-395b-4749-859c-126a7752190c"
      },
      "execution_count": 21,
      "outputs": [
        {
          "output_type": "execute_result",
          "data": {
            "text/plain": [
              "array([[ 0],\n",
              "       [ 0],\n",
              "       [ 0],\n",
              "       [-1]])"
            ]
          },
          "metadata": {},
          "execution_count": 21
        }
      ]
    },
    {
      "cell_type": "code",
      "source": [
        "Zket1 = Z.dot(ket_1)\n",
        "Xket0 = X.dot(ket_0)\n",
        "Zket1Xket0 = np.kron(Zket1,Xket0 )\n",
        "Zket1Xket0"
      ],
      "metadata": {
        "colab": {
          "base_uri": "https://localhost:8080/"
        },
        "id": "fEB4s29iSFmV",
        "outputId": "5b44fd5e-b08f-4dab-b11c-399c1ae5384b"
      },
      "execution_count": 22,
      "outputs": [
        {
          "output_type": "execute_result",
          "data": {
            "text/plain": [
              "array([[ 0],\n",
              "       [ 0],\n",
              "       [ 0],\n",
              "       [-1]])"
            ]
          },
          "metadata": {},
          "execution_count": 22
        }
      ]
    },
    {
      "cell_type": "markdown",
      "source": [
        "# Puertas RX, RY, RZ o Puertas de desplazamiento de fase.\n",
        "\n",
        "Las puertas de desplazamiento de fase, o puertas de cambio de fase, en la computación cuántica se utilizan para modificar la fase de un estado cuántico sin cambiar sus probabilidades de medición. Estas puertas son esenciales para controlar y manipular las fases relativas de los estados cuánticos, lo que es crucial para muchos algoritmos cuánticos.\n",
        "\n",
        "\n",
        "Las puertas desplazamientos no cambia la probabilidad de medir un qubit de manera individual, pero utiliza la propiedad de la interferencia cuantica para incidir en la medida generar del sistema, en el cual se combinan amplitudes de manera constructiva o destructiva. Normalmente inciden en la medida de aquellos estados entrelazados."
      ],
      "metadata": {
        "id": "FkQb49Legijy"
      }
    },
    {
      "cell_type": "markdown",
      "source": [
        "$RX(\\theta) =  \\begin{pmatrix} \\cos(\\frac{\\phi}{2}) & -i * \\sin(\\frac{\\phi}{2}) \\\\  -i * \\sin(\\frac{\\phi}{2}) & \\cos(\\frac{\\phi}{2}) \\end{pmatrix}$\n",
        "\n",
        "----------\n",
        "$RZ(\\theta) =  \\begin{pmatrix} e^{-i\\theta/2} & 0 \\\\\n",
        "0 & e^{i\\theta/2} \\end{pmatrix}$\n",
        "\n",
        "----------\n",
        "\n",
        "$RY(\\theta) =  \\begin{pmatrix} \\cos(\\frac{\\phi}{2}) & -\\sin(\\frac{\\phi}{2})  \\\\\n",
        "\\sin(\\frac{\\phi}{2})  & \\cos(\\frac{\\phi}{2}) \\end{pmatrix}$\n"
      ],
      "metadata": {
        "id": "S_JlKR0R3LOt"
      }
    },
    {
      "cell_type": "code",
      "source": [
        "def get_matrix_rotacion(puerta, theta=np.pi):\n",
        "  if puerta == \"x\":\n",
        "    return np.array([[np.cos(theta/2), -1j * np.sin(theta/2)], [-1j * np.sin(theta/2), np.cos(theta/2) ]])\n",
        "  if puerta == \"z\":\n",
        "    return np.array([[np.exp(-1j*theta/2), 0], [0 , np.exp(1j*theta/2)  ]])\n",
        "  if puerta == \"y\":\n",
        "    return np.array([[np.cos(theta/2), -1j* np.sin(theta/2)], [np.sin(theta/2) ,np.cos(theta/2)  ]])"
      ],
      "metadata": {
        "id": "XiWGH2AtQJV0"
      },
      "execution_count": 23,
      "outputs": []
    },
    {
      "cell_type": "code",
      "source": [
        "rx = get_matrix_rotacion(\"x\")\n",
        "rz = get_matrix_rotacion(\"z\")\n",
        "ry = get_matrix_rotacion(\"y\")\n",
        "aux = rz.dot(rx.dot(ket_0))"
      ],
      "metadata": {
        "id": "3dxlV8jlRaHj"
      },
      "execution_count": 24,
      "outputs": []
    },
    {
      "cell_type": "markdown",
      "source": [
        "### Ejemplo  de una Puerta $RX(\\pi)$ con numpy"
      ],
      "metadata": {
        "id": "VI9m9ub_K5yS"
      }
    },
    {
      "cell_type": "code",
      "source": [
        "print(np.round(rx, 5))"
      ],
      "metadata": {
        "colab": {
          "base_uri": "https://localhost:8080/"
        },
        "id": "r-XCBYu1KsCE",
        "outputId": "63f49820-c274-4de6-bc0e-e0bfd490eaa4"
      },
      "execution_count": 25,
      "outputs": [
        {
          "output_type": "stream",
          "name": "stdout",
          "text": [
            "[[0.+0.j 0.-1.j]\n",
            " [0.-1.j 0.+0.j]]\n"
          ]
        }
      ]
    },
    {
      "cell_type": "markdown",
      "source": [
        "### Ejemplo con qiskit de una Puerta $RX(\\pi)$\n"
      ],
      "metadata": {
        "id": "ekGYVD_LLmCv"
      }
    },
    {
      "cell_type": "code",
      "source": [
        "from qiskit import QuantumCircuit\n",
        "from qiskit.visualization import array_to_latex\n",
        "from qiskit.quantum_info import Operator\n",
        "qc = QuantumCircuit(1,1)\n",
        "qc.rx(np.pi, 0)\n",
        "operator = Operator(qc)\n",
        "display(array_to_latex(operator, prefix=\"\\\\text{Circuito como matriz unitaria} = \"))"
      ],
      "metadata": {
        "colab": {
          "base_uri": "https://localhost:8080/",
          "height": 57
        },
        "id": "aV1DD1dCLrp-",
        "outputId": "d2ad7589-d6b2-4616-f14f-73dc4c4c812f"
      },
      "execution_count": 26,
      "outputs": [
        {
          "output_type": "display_data",
          "data": {
            "text/plain": [
              "<IPython.core.display.Latex object>"
            ],
            "text/latex": "$$\n\\text{Circuito como matriz unitaria} = \n\\begin{bmatrix}\n0 & - i  \\\\\n - i & 0  \\\\\n \\end{bmatrix}\n$$"
          },
          "metadata": {}
        }
      ]
    },
    {
      "cell_type": "markdown",
      "source": [
        "## Operación de desplazamiento de fase. Efecto sobre el $ |0\\rangle $"
      ],
      "metadata": {
        "id": "f56L2jNoLui8"
      }
    },
    {
      "cell_type": "markdown",
      "source": [
        "La puerta $ RX(\\pi) $, aplica una rotación de 180 grados y un cambio en una fase global del sistema. Eso a diferencia de la puerta $X$ que hace el mismo efecto, pero sin cambio fase."
      ],
      "metadata": {
        "id": "JwU83kGdBx-y"
      }
    },
    {
      "cell_type": "code",
      "source": [
        "np.round(rx.dot(ket_0), 5)"
      ],
      "metadata": {
        "colab": {
          "base_uri": "https://localhost:8080/"
        },
        "id": "UpVIwdJ49lpB",
        "outputId": "f801ff2c-0c3e-40a9-ee95-47079b7d393a"
      },
      "execution_count": 27,
      "outputs": [
        {
          "output_type": "execute_result",
          "data": {
            "text/plain": [
              "array([[0.+0.j],\n",
              "       [0.-1.j]])"
            ]
          },
          "metadata": {},
          "execution_count": 27
        }
      ]
    },
    {
      "cell_type": "markdown",
      "source": [
        "Si queremos tener el mismo efecto de la puerta $X$. Se puede hacer aplicando con la puerta $RZ(\\pi) RX(\\pi) |0\\rangle $"
      ],
      "metadata": {
        "id": "asgBp_20CkXv"
      }
    },
    {
      "cell_type": "code",
      "source": [
        "np.round(rz.dot(rx.dot(ket_0)), 5)"
      ],
      "metadata": {
        "colab": {
          "base_uri": "https://localhost:8080/"
        },
        "id": "Ygdns502r4M4",
        "outputId": "5efb0182-8ddc-4984-ebe7-8f69b06c741f"
      },
      "execution_count": 28,
      "outputs": [
        {
          "output_type": "execute_result",
          "data": {
            "text/plain": [
              "array([[0.-0.j],\n",
              "       [1.-0.j]])"
            ]
          },
          "metadata": {},
          "execution_count": 28
        }
      ]
    },
    {
      "cell_type": "markdown",
      "source": [
        "# Puertas U\n",
        "\n",
        "Es la operación que permite representar cualquier puerta cuantica. Sus parametros son los angulos que representan la esfera de bloch. Las puertas $ U $ cubren por ejemplo, las puertas de Pauli, la puerta Hadamard y las puertas de Desplazamiento de fase. Para resolver esto necesitamos entender la <a href=\"https://www.youtube.com/watch?v=eaP_rbGWUW4\" target=\"_blank\">exponencial compleja </a>"
      ],
      "metadata": {
        "id": "st35InTArkiP"
      }
    },
    {
      "cell_type": "markdown",
      "source": [
        "$U(\\theta ,\\phi, \\lambda ) =  \\begin{pmatrix} \\cos(\\frac{\\theta}{2}) & -e^{i\\lambda}\\sin(\\frac{\\theta}{2})\\\\\n",
        " e^{i\\phi}\\sin(\\frac{\\theta}{2}) & e^{i(\\phi + \\lambda)}\\cos(\\frac{\\theta}{2}) \\end{pmatrix}$"
      ],
      "metadata": {
        "id": "dM290ZU28LPk"
      }
    },
    {
      "cell_type": "code",
      "source": [
        "def get_matrix_u(theta = np.pi, psi =  np.pi,  lamb =  np.pi ):\n",
        "  return np.array([[np.cos(theta/2), -np.exp(1j*lamb) * np.sin(theta / 2) ], [np.exp(1j*psi) * np.sin(theta / 2), np.exp(1j*(psi + lamb)) * np.cos(theta / 2) ]])"
      ],
      "metadata": {
        "id": "0jLgvhz4rjvo"
      },
      "execution_count": 38,
      "outputs": []
    },
    {
      "cell_type": "code",
      "source": [
        "lamb = np.pi\n",
        "theta = np.pi\n",
        "psi = 0\n",
        "np.exp(1j*psi) * np.sin(theta / 2)"
      ],
      "metadata": {
        "colab": {
          "base_uri": "https://localhost:8080/"
        },
        "id": "DdphULrKNJRY",
        "outputId": "2b4a4b02-b2c9-4471-cd26-73c9d5ac3945"
      },
      "execution_count": 57,
      "outputs": [
        {
          "output_type": "execute_result",
          "data": {
            "text/plain": [
              "(1+0j)"
            ]
          },
          "metadata": {},
          "execution_count": 57
        }
      ]
    },
    {
      "cell_type": "code",
      "source": [
        "1j*lamb"
      ],
      "metadata": {
        "colab": {
          "base_uri": "https://localhost:8080/"
        },
        "id": "zLl42mqANrLZ",
        "outputId": "8f6e0664-a1cd-4189-a8e7-a6d6de50ebd0"
      },
      "execution_count": 53,
      "outputs": [
        {
          "output_type": "execute_result",
          "data": {
            "text/plain": [
              "3.141592653589793j"
            ]
          },
          "metadata": {},
          "execution_count": 53
        }
      ]
    },
    {
      "cell_type": "code",
      "source": [
        "np.round(-np.exp(1j*lamb) * np.sin(theta / 2) , 5)"
      ],
      "metadata": {
        "colab": {
          "base_uri": "https://localhost:8080/"
        },
        "id": "fu66CPETNSeJ",
        "outputId": "eab78962-c846-421c-fd51-3055d8994ea0"
      },
      "execution_count": 52,
      "outputs": [
        {
          "output_type": "execute_result",
          "data": {
            "text/plain": [
              "(1-0j)"
            ]
          },
          "metadata": {},
          "execution_count": 52
        }
      ]
    },
    {
      "cell_type": "markdown",
      "source": [
        "### Puerta X representada como una puerta U\n",
        "\n",
        "La puerta X representa como una puerta U"
      ],
      "metadata": {
        "id": "DFj_rkxaFS26"
      }
    },
    {
      "cell_type": "code",
      "source": [
        "x_u = get_matrix_u(theta = np.pi, psi = 0, lamb = 0)"
      ],
      "metadata": {
        "id": "585XCod-R_3Z"
      },
      "execution_count": 54,
      "outputs": []
    },
    {
      "cell_type": "code",
      "source": [
        "print( np.round(x_u.dot(ket_0), 5)   )"
      ],
      "metadata": {
        "colab": {
          "base_uri": "https://localhost:8080/"
        },
        "id": "vJqzouT_KsMS",
        "outputId": "62629cb3-8656-44da-fa33-1340cda2af36"
      },
      "execution_count": 55,
      "outputs": [
        {
          "output_type": "stream",
          "name": "stdout",
          "text": [
            "[[0.+0.j]\n",
            " [1.+0.j]]\n"
          ]
        }
      ]
    },
    {
      "cell_type": "markdown",
      "source": [
        "# Puertas para dos qubits"
      ],
      "metadata": {
        "id": "Im8LoKXgvZBm"
      }
    },
    {
      "cell_type": "markdown",
      "source": [
        "## Puerta CNOT"
      ],
      "metadata": {
        "id": "gGFDAV_yvhPD"
      }
    },
    {
      "cell_type": "markdown",
      "source": [
        "## Puerta SWAP"
      ],
      "metadata": {
        "id": "QBQk_Jm8Odkb"
      }
    },
    {
      "cell_type": "markdown",
      "source": [
        "## Puerta U Controlada"
      ],
      "metadata": {
        "id": "Ln26MLqFOgHA"
      }
    }
  ]
}