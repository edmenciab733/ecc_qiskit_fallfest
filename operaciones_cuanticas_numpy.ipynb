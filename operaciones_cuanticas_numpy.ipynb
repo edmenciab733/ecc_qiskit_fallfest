{
  "nbformat": 4,
  "nbformat_minor": 0,
  "metadata": {
    "colab": {
      "provenance": [],
      "authorship_tag": "ABX9TyNeMEf0+afRIs+1h/4Xq08P",
      "include_colab_link": true
    },
    "kernelspec": {
      "name": "python3",
      "display_name": "Python 3"
    },
    "language_info": {
      "name": "python"
    }
  },
  "cells": [
    {
      "cell_type": "markdown",
      "metadata": {
        "id": "view-in-github",
        "colab_type": "text"
      },
      "source": [
        "<a href=\"https://colab.research.google.com/github/edmenciab733/ecc_qiskit_fallfest/blob/main/operaciones_cuanticas_numpy.ipynb\" target=\"_parent\"><img src=\"https://colab.research.google.com/assets/colab-badge.svg\" alt=\"Open In Colab\"/></a>"
      ]
    },
    {
      "cell_type": "code",
      "source": [
        "%%capture\n",
        "!pip install qiskit\n",
        "!pip install qiskit-aer"
      ],
      "metadata": {
        "id": "ue5NPADfiVM1"
      },
      "execution_count": 1,
      "outputs": []
    },
    {
      "cell_type": "code",
      "execution_count": 2,
      "metadata": {
        "id": "bEkftGrjxxgb"
      },
      "outputs": [],
      "source": [
        "import numpy as np\n",
        "import qiskit"
      ]
    },
    {
      "cell_type": "markdown",
      "source": [
        "# Introducción"
      ],
      "metadata": {
        "id": "LhhgSQhk6Wm9"
      }
    },
    {
      "cell_type": "markdown",
      "source": [
        "Este notebook es una introducción al manejo de operaciones en la computación cuántica, con el apoyo de NumPy. Será útil para comprender mejor cómo se manejan los estados cuánticos dentro del álgebra lineal, evitando la inicialmente confusa notación de Dirac.  El objetivo principal es proporcionar una comprensión sólida de cómo, desde la perspectiva de un programador y con un enfoque práctico, las operaciones cuánticas pueden ser representadas y ejecutadas como un conjunto de operaciones matriciales y vectoriales, haciendo uso de arreglos (o vectores, dependiendo del contexto específico) en un entorno de programación."
      ],
      "metadata": {
        "id": "jApz-bhn5V1K"
      }
    },
    {
      "cell_type": "markdown",
      "source": [
        "## Funciónes de ayuda"
      ],
      "metadata": {
        "id": "o_VHqN-66ap9"
      }
    },
    {
      "cell_type": "code",
      "source": [
        "def separar_amplitudes(estado):\n",
        "    estado = estado.reshape(2)\n",
        "    num_q = int(np.log2(len(estado))) # saber a cuantos qubits corresponde su máxima longitud\n",
        "    for i, amplitude in enumerate(estado):\n",
        "        temp_b = format(i, \"b\") # convertir en binario el la posición del vector para poder\n",
        "        temp_b = temp_b.zfill(num_q) # rellenar con zeros a la izquierda\n",
        "        print(\"{} |{}>\".format(amplitude, temp_b)) # formatear el resultado"
      ],
      "metadata": {
        "id": "HdmyBPue4HR8"
      },
      "execution_count": 3,
      "outputs": []
    },
    {
      "cell_type": "markdown",
      "source": [
        "# Bases Computacional , Base Hadamard, y Base  Y\n",
        "\n",
        "---\n",
        "\n",
        "**Base computacional**\n",
        "\n",
        "- $ |0\\rangle $\n",
        "- $ |1\\rangle $\n",
        "\n",
        "**Operador de Hadamard y transformación a la Base Hadamard**\n",
        "\n",
        "El operador de Hadamard es una operación unitaria que actúa sobre un único qubit y tiene una variedad de aplicaciones importantes, desde la creación de superposiciones hasta la implementación de algoritmos cuánticos.\n",
        "\n",
        "\n",
        "- $ H = \\frac{1}{\\sqrt{2}}\\begin{pmatrix} 1 & 1 \\\\ 1 & -1 \\end{pmatrix} $  \n",
        "\n",
        "\n",
        "- $ |+\\rangle $ = $H  |0\\rangle $ = $ \\frac{|0\\rangle + |1\\rangle}{\\sqrt{2}} $\n",
        "\n",
        "\n",
        "- $ |-\\rangle $= $H  |1\\rangle $ = $ \\frac{|0\\rangle - |1\\rangle}{\\sqrt{2}} $\n",
        "\n",
        "**Base Y **\n",
        "\n",
        "- $ |i\\rangle $\n",
        "- $ |-i\\rangle $"
      ],
      "metadata": {
        "id": "1scozx4YyuWD"
      }
    },
    {
      "cell_type": "markdown",
      "source": [
        "## Operadores con numpy"
      ],
      "metadata": {
        "id": "i1ydJsIkcLJ0"
      }
    },
    {
      "cell_type": "code",
      "source": [
        "ket_0 = np.array([[1], [0]])\n",
        "ket_1 = np.array([[0], [1]])"
      ],
      "metadata": {
        "id": "Aawlcn5SyfLQ"
      },
      "execution_count": 4,
      "outputs": []
    },
    {
      "cell_type": "code",
      "source": [
        "separar_amplitudes(ket_0)"
      ],
      "metadata": {
        "colab": {
          "base_uri": "https://localhost:8080/"
        },
        "id": "Z1Rlq9Bj4Zu0",
        "outputId": "5d5b81da-5d38-4a88-9c43-ec1d31ba3ea9"
      },
      "execution_count": 5,
      "outputs": [
        {
          "output_type": "stream",
          "name": "stdout",
          "text": [
            "1 |0>\n",
            "0 |1>\n"
          ]
        }
      ]
    },
    {
      "cell_type": "code",
      "source": [
        "separar_amplitudes(ket_1)"
      ],
      "metadata": {
        "colab": {
          "base_uri": "https://localhost:8080/"
        },
        "id": "aBoIYs3E49l-",
        "outputId": "d7d184d1-0d3d-42f1-e485-61e287b4a8e3"
      },
      "execution_count": 6,
      "outputs": [
        {
          "output_type": "stream",
          "name": "stdout",
          "text": [
            "0 |0>\n",
            "1 |1>\n"
          ]
        }
      ]
    },
    {
      "cell_type": "code",
      "source": [
        "H = 1/np.sqrt(2) * np.array([[1, 1], [1, -1]])"
      ],
      "metadata": {
        "id": "-PBpzOZLzSJR"
      },
      "execution_count": 7,
      "outputs": []
    },
    {
      "cell_type": "code",
      "source": [
        "ket_p  = H.dot(ket_0)"
      ],
      "metadata": {
        "id": "j_uwPcS-zhaD"
      },
      "execution_count": 8,
      "outputs": []
    },
    {
      "cell_type": "code",
      "source": [
        "separar_amplitudes(ket_p)"
      ],
      "metadata": {
        "colab": {
          "base_uri": "https://localhost:8080/"
        },
        "id": "W0mIsS4C4yJC",
        "outputId": "708ccce8-6eeb-4d95-e38b-dbf30f8e990f"
      },
      "execution_count": 9,
      "outputs": [
        {
          "output_type": "stream",
          "name": "stdout",
          "text": [
            "0.7071067811865475 |0>\n",
            "0.7071067811865475 |1>\n"
          ]
        }
      ]
    },
    {
      "cell_type": "code",
      "source": [
        "ket_m = H.dot(ket_1)"
      ],
      "metadata": {
        "id": "ZnQcATyKzxje"
      },
      "execution_count": 10,
      "outputs": []
    },
    {
      "cell_type": "code",
      "source": [
        "ket_ip =  1/np.sqrt(2) * np.array([[1], [1j]])"
      ],
      "metadata": {
        "id": "YKKAijorz6NP"
      },
      "execution_count": 11,
      "outputs": []
    },
    {
      "cell_type": "code",
      "source": [
        "ket_im = 1/np.sqrt(2) * np.array([[1], [-1j]])"
      ],
      "metadata": {
        "id": "mteQ4dEr5mZw"
      },
      "execution_count": 12,
      "outputs": []
    },
    {
      "cell_type": "markdown",
      "source": [
        "## Producto Interno\n",
        "El producto intero, también conocido como producto escalar, es una operación matemática que toma dos vectores en este espacio y devuelve un número complejo. El producto interno se denota como:  $ \\langle v|u\\rangle$. Un requísito es aplicar el produnto interno es que el número de columnas del primer vector debe coincidir con el número de filas.\n",
        "\n",
        "Ejemplo con: $ \\langle0|0\\rangle $\n",
        "\n",
        "$\\begin{pmatrix} 1 \\\\ 0  \\end{pmatrix} \\times \\begin{pmatrix} 1 & 0  \\end{pmatrix} $  \n",
        "\n"
      ],
      "metadata": {
        "id": "wyR5R0iFodqw"
      }
    },
    {
      "cell_type": "markdown",
      "source": [
        "Representación numpy de un Vector Columna con un Vector Fila"
      ],
      "metadata": {
        "id": "QyaNz4Ug_cvL"
      }
    },
    {
      "cell_type": "code",
      "source": [
        "ket_0_tc = np.conj(ket_0.T)\n",
        "ket_0.shape, ket_0_tc.shape"
      ],
      "metadata": {
        "colab": {
          "base_uri": "https://localhost:8080/"
        },
        "id": "sx6tZIHNoiwT",
        "outputId": "3c759398-48f0-4fab-f2af-70d8ef1411a5"
      },
      "execution_count": 13,
      "outputs": [
        {
          "output_type": "execute_result",
          "data": {
            "text/plain": [
              "((2, 1), (1, 2))"
            ]
          },
          "metadata": {},
          "execution_count": 13
        }
      ]
    },
    {
      "cell_type": "markdown",
      "source": [
        "Producto Interno entre $ \\langle 0 | - \\rangle $"
      ],
      "metadata": {
        "id": "vs1Sozbo_mLC"
      }
    },
    {
      "cell_type": "code",
      "source": [
        "np.vdot(ket_0_tc,  ket_m)"
      ],
      "metadata": {
        "colab": {
          "base_uri": "https://localhost:8080/"
        },
        "id": "NfvK_-d1oo-8",
        "outputId": "db64d0e8-326f-4ac4-bbdc-2b63e9768ae3"
      },
      "execution_count": 14,
      "outputs": [
        {
          "output_type": "execute_result",
          "data": {
            "text/plain": [
              "0.7071067811865475"
            ]
          },
          "metadata": {},
          "execution_count": 14
        }
      ]
    },
    {
      "cell_type": "markdown",
      "source": [
        "Producto Interno entre $ \\langle 0 | 0 \\rangle $"
      ],
      "metadata": {
        "id": "IJLXNKO9AqGo"
      }
    },
    {
      "cell_type": "code",
      "source": [
        "np.vdot(ket_0_tc, ket_0)"
      ],
      "metadata": {
        "colab": {
          "base_uri": "https://localhost:8080/"
        },
        "id": "eM-YkrzIx9nx",
        "outputId": "a93afa36-c46b-4457-f736-7942db228ef1"
      },
      "execution_count": 15,
      "outputs": [
        {
          "output_type": "execute_result",
          "data": {
            "text/plain": [
              "1"
            ]
          },
          "metadata": {},
          "execution_count": 15
        }
      ]
    },
    {
      "cell_type": "markdown",
      "source": [
        "Producto Interno entre $ \\langle 0 | 1 \\rangle $"
      ],
      "metadata": {
        "id": "zpAbOOqyAsy0"
      }
    },
    {
      "cell_type": "code",
      "source": [
        "ket_0_tc = np.conj(ket_0.T)\n",
        "np.vdot(ket_0_tc, ket_1)"
      ],
      "metadata": {
        "colab": {
          "base_uri": "https://localhost:8080/"
        },
        "id": "6P56enGYqZ29",
        "outputId": "b93a69bf-2f5c-4842-a47a-936ee35e958e"
      },
      "execution_count": 16,
      "outputs": [
        {
          "output_type": "execute_result",
          "data": {
            "text/plain": [
              "0"
            ]
          },
          "metadata": {},
          "execution_count": 16
        }
      ]
    },
    {
      "cell_type": "markdown",
      "source": [
        "El detalle: El producto interno puede darnos un una idea de que tan similares son los estados de dos qubits(Mientras más cerca de 1, más similiares son, podría servir de una medida de correlación). Pruebas con: $ \\langle 0|0 \\rangle = 1 $ ó $ \\langle0|1\\rangle = 0 $  ó  $ \\langle0|-\\rangle = 0.707 $"
      ],
      "metadata": {
        "id": "hNKNpZPwqtEr"
      }
    },
    {
      "cell_type": "markdown",
      "source": [
        "# Relaciones entre qubits\n",
        "\n",
        "Las relaciones entre qubits se realizan por medio producto de kronecker. Esto permite trabajar con muchos qubits sin que afecten unos con otros directamente.\n",
        "\n",
        "$|00\\rangle = |0\\rangle \\otimes |0\\rangle $\n",
        "\n",
        "$  |01\\rangle = |0\\rangle \\otimes |1\\rangle $\n",
        "\n",
        "$|10\\rangle = |1\\rangle \\otimes |0\\rangle $\n",
        "\n",
        "$|11\\rangle = |1\\rangle \\otimes|1\\rangle $\n",
        "\n",
        "\n"
      ],
      "metadata": {
        "id": "eKJojyf5ifDD"
      }
    },
    {
      "cell_type": "code",
      "source": [
        "ket_00 = np.kron(ket_0, ket_0)\n",
        "ket_01 = np.kron(ket_0, ket_1)\n",
        "ket_10 = np.kron(ket_1, ket_0)\n",
        "ket_11 = np.kron(ket_1, ket_1)"
      ],
      "metadata": {
        "id": "a_WUZ6UrkM2S"
      },
      "execution_count": 17,
      "outputs": []
    },
    {
      "cell_type": "markdown",
      "source": [
        "# Operadores(Puertas) de Pauli, combinaciones y operaciones sobre 1 qubit\n",
        "\n",
        "Los operadores de Pauli constituyen una serie de matrices que tiene efecto sobre qubits individuales.\n",
        "\n",
        "La puerta $ X $ es análoga al bit clasico actua sobre el eje $ x $ y su efecto es rotar el eje mencionado un valor $ \\pi $"
      ],
      "metadata": {
        "id": "0xPobEKR1yGy"
      }
    },
    {
      "cell_type": "code",
      "source": [
        "X = np.array([[0,1], [1, 0]])"
      ],
      "metadata": {
        "id": "bU4AgzIP2Itw"
      },
      "execution_count": 18,
      "outputs": []
    },
    {
      "cell_type": "code",
      "source": [
        "Z = np.array([[1,0], [0, -1]])"
      ],
      "metadata": {
        "id": "JN4fDIQ02uWw"
      },
      "execution_count": 19,
      "outputs": []
    },
    {
      "cell_type": "code",
      "source": [
        "Y = np.array([[0, -1j], [1j, 0]])"
      ],
      "metadata": {
        "id": "TBv7ftcz7VUP"
      },
      "execution_count": 20,
      "outputs": []
    },
    {
      "cell_type": "code",
      "source": [
        "I = np.array([[1,0], [0,1]])"
      ],
      "metadata": {
        "id": "NySyLWIiMtfU"
      },
      "execution_count": 21,
      "outputs": []
    },
    {
      "cell_type": "code",
      "source": [
        "np.dot(X, ket_1)"
      ],
      "metadata": {
        "colab": {
          "base_uri": "https://localhost:8080/"
        },
        "id": "ttD1Xwz6S7Hm",
        "outputId": "75f206fd-340e-47b5-fc2b-d2c711dee9d8"
      },
      "execution_count": 22,
      "outputs": [
        {
          "output_type": "execute_result",
          "data": {
            "text/plain": [
              "array([[1],\n",
              "       [0]])"
            ]
          },
          "metadata": {},
          "execution_count": 22
        }
      ]
    },
    {
      "cell_type": "markdown",
      "source": [
        "Para combinar dos o n operadores cuanticos que terminaran a afectando a 2 o $ n $ qubits tambien se realiza el producto de kronecker entre los operados por ejemplo para dos puertas $ XX $ sería:\n",
        "\n",
        "$ XX = X \\otimes X $\n",
        "\n",
        "El <a href=\"https://repositoriodigital.uns.edu.ar/handle/123456789/5841#:~:text=El%20producto%20de%20Kronecker%20se,el%20c%C3%A1lculo%20de%20valores%20singulares.\" > producto de kronocker </a>garantiza que los qubits se mantengan independiente. No es una operación sobre dos qubits"
      ],
      "metadata": {
        "id": "TYj8433Ipi2-"
      }
    },
    {
      "cell_type": "code",
      "source": [
        "XX = np.kron(X, X)\n",
        "XX"
      ],
      "metadata": {
        "colab": {
          "base_uri": "https://localhost:8080/"
        },
        "id": "Z4DSN5B7oE-7",
        "outputId": "23ea0427-3ca5-488e-c22b-a6cf432edc93"
      },
      "execution_count": 23,
      "outputs": [
        {
          "output_type": "execute_result",
          "data": {
            "text/plain": [
              "array([[0, 0, 0, 1],\n",
              "       [0, 0, 1, 0],\n",
              "       [0, 1, 0, 0],\n",
              "       [1, 0, 0, 0]])"
            ]
          },
          "metadata": {},
          "execution_count": 23
        }
      ]
    },
    {
      "cell_type": "markdown",
      "source": [
        "Ejemplo si queres afectar a aplicar al par de de qubits  $|00\\rangle$ con la puerta $ X$ aplicado a ambos qubits. La operación es cuanto sigue:\n",
        "\n",
        "$ XX |00\\rangle $\n"
      ],
      "metadata": {
        "id": "heCFDAJwqSdE"
      }
    },
    {
      "cell_type": "code",
      "source": [
        "np.dot(XX, ket_00)"
      ],
      "metadata": {
        "colab": {
          "base_uri": "https://localhost:8080/"
        },
        "id": "qQXHDkBRoKWE",
        "outputId": "92793f28-3a93-4345-c5c7-0a85c5fdbb05"
      },
      "execution_count": 24,
      "outputs": [
        {
          "output_type": "execute_result",
          "data": {
            "text/plain": [
              "array([[0],\n",
              "       [0],\n",
              "       [0],\n",
              "       [1]])"
            ]
          },
          "metadata": {},
          "execution_count": 24
        }
      ]
    },
    {
      "cell_type": "markdown",
      "source": [
        "En la notación de bra-ket, comúnmente utilizada en mecánica cuántica, el producto tensorial de operadores lineales se puede definir de la siguiente manera. Consideremos dos espacios vectoriales, $V$ y $U$ con vectores $ |v\\rangle $ en $V$ y $ |u\\rangle $ en $U$. El producto tensorial de los operadores  $ A y  B $ denotado por $ A \\otimes B $ actúa sobre el espacio producto tensorial de $ U \\otimes V $ por tanto se puede decir que tambien actua sobre $ u$  y $ v $\n",
        "\n",
        "\n",
        "\n",
        "\n",
        "\n",
        "\n",
        "$ (A \\otimes B ) ( |v\\rangle \\otimes |u\\rangle ) =  (A \\otimes |v\\rangle ) (B \\otimes |u\\rangle)$\n",
        "\n",
        "Ejemplo\n",
        "\n",
        "$ ZX|10\\rangle = Z|1\\rangle X|0\\rangle $"
      ],
      "metadata": {
        "id": "-jTMlfeRUZ6T"
      }
    },
    {
      "cell_type": "code",
      "source": [
        "ZX = np.kron(Z, X)\n",
        "ket1ket0 = np.kron(ket_1, ket_0)\n",
        "ZXket1ket0 = ZX.dot(ket1ket0)\n",
        "ZXket1ket0"
      ],
      "metadata": {
        "colab": {
          "base_uri": "https://localhost:8080/"
        },
        "id": "99Rait1fN2gO",
        "outputId": "9ee521bc-793a-45e6-e21f-1ebbc154dd46"
      },
      "execution_count": 25,
      "outputs": [
        {
          "output_type": "execute_result",
          "data": {
            "text/plain": [
              "array([[ 0],\n",
              "       [ 0],\n",
              "       [ 0],\n",
              "       [-1]])"
            ]
          },
          "metadata": {},
          "execution_count": 25
        }
      ]
    },
    {
      "cell_type": "code",
      "source": [
        "Zket1 = Z.dot(ket_1)\n",
        "Xket0 = X.dot(ket_0)\n",
        "Zket1Xket0 = np.kron(Zket1,Xket0 )\n",
        "Zket1Xket0"
      ],
      "metadata": {
        "colab": {
          "base_uri": "https://localhost:8080/"
        },
        "id": "fEB4s29iSFmV",
        "outputId": "8c2b0911-c7e2-4cb1-e55f-5c3f886d7f10"
      },
      "execution_count": 26,
      "outputs": [
        {
          "output_type": "execute_result",
          "data": {
            "text/plain": [
              "array([[ 0],\n",
              "       [ 0],\n",
              "       [ 0],\n",
              "       [-1]])"
            ]
          },
          "metadata": {},
          "execution_count": 26
        }
      ]
    },
    {
      "cell_type": "markdown",
      "source": [
        "# Puertas RX, RY, RZ o Puertas de desplazamiento de fase.\n",
        "\n",
        "Las puertas de desplazamiento de fase, o puertas de cambio de fase, en la computación cuántica se utilizan para modificar la fase de un estado cuántico sin cambiar sus probabilidades de medición. Estas puertas son esenciales para controlar y manipular las fases relativas de los estados cuánticos, lo que es crucial para muchos algoritmos cuánticos.\n",
        "\n",
        "\n",
        "Las puertas desplazamientos no cambia la probabilidad de medir un qubit de manera individual, pero utiliza la propiedad de la interferencia cuantica para incidir en la medida generar del sistema, en el cual se combinan amplitudes de manera constructiva o destructiva. Normalmente inciden en la medida de aquellos estados entrelazados."
      ],
      "metadata": {
        "id": "FkQb49Legijy"
      }
    },
    {
      "cell_type": "markdown",
      "source": [
        "$RX(\\theta) =  \\begin{pmatrix} \\cos(\\frac{\\phi}{2}) & -i * \\sin(\\frac{\\phi}{2}) \\\\  -i * \\sin(\\frac{\\phi}{2}) & \\cos(\\frac{\\phi}{2}) \\end{pmatrix}$\n",
        "\n",
        "----------\n",
        "$RZ(\\theta) =  \\begin{pmatrix} e^{-i\\theta/2} & 0 \\\\\n",
        "0 & e^{i\\theta/2} \\end{pmatrix}$\n",
        "\n",
        "----------\n",
        "\n",
        "$RY(\\theta) =  \\begin{pmatrix} \\cos(\\frac{\\phi}{2}) & -\\sin(\\frac{\\phi}{2})  \\\\\n",
        "\\sin(\\frac{\\phi}{2})  & \\cos(\\frac{\\phi}{2}) \\end{pmatrix}$\n"
      ],
      "metadata": {
        "id": "S_JlKR0R3LOt"
      }
    },
    {
      "cell_type": "code",
      "source": [
        "def get_matrix_rotacion(puerta, theta=np.pi):\n",
        "  if puerta == \"x\":\n",
        "    return np.array([[np.cos(theta/2), -1j * np.sin(theta/2)], [-1j * np.sin(theta/2), np.cos(theta/2) ]])\n",
        "  if puerta == \"z\":\n",
        "    return np.array([[np.exp(-1j*theta/2), 0], [0 , np.exp(1j*theta/2)  ]])\n",
        "  if puerta == \"y\":\n",
        "    return np.array([[np.cos(theta/2), -1j* np.sin(theta/2)], [np.sin(theta/2) ,np.cos(theta/2)  ]])"
      ],
      "metadata": {
        "id": "XiWGH2AtQJV0"
      },
      "execution_count": 27,
      "outputs": []
    },
    {
      "cell_type": "code",
      "source": [
        "rx = get_matrix_rotacion(\"x\")\n",
        "rz = get_matrix_rotacion(\"z\")\n",
        "ry = get_matrix_rotacion(\"y\")\n",
        "aux = rz.dot(rx.dot(ket_0))"
      ],
      "metadata": {
        "id": "3dxlV8jlRaHj"
      },
      "execution_count": 28,
      "outputs": []
    },
    {
      "cell_type": "markdown",
      "source": [
        "### Ejemplo  de una Puerta $RX(\\pi)$ con numpy"
      ],
      "metadata": {
        "id": "VI9m9ub_K5yS"
      }
    },
    {
      "cell_type": "code",
      "source": [
        "print(np.round(rx, 5))"
      ],
      "metadata": {
        "colab": {
          "base_uri": "https://localhost:8080/"
        },
        "id": "r-XCBYu1KsCE",
        "outputId": "2de37a35-81dd-44e3-e805-36ca43ccf36f"
      },
      "execution_count": 29,
      "outputs": [
        {
          "output_type": "stream",
          "name": "stdout",
          "text": [
            "[[0.+0.j 0.-1.j]\n",
            " [0.-1.j 0.+0.j]]\n"
          ]
        }
      ]
    },
    {
      "cell_type": "markdown",
      "source": [
        "### Ejemplo con qiskit de una Puerta $RX(\\pi)$\n"
      ],
      "metadata": {
        "id": "ekGYVD_LLmCv"
      }
    },
    {
      "cell_type": "code",
      "source": [
        "from qiskit import QuantumCircuit\n",
        "from qiskit.visualization import array_to_latex\n",
        "from qiskit.quantum_info import Operator\n",
        "qc = QuantumCircuit(1,1)\n",
        "qc.rx(np.pi, 0)\n",
        "operator = Operator(qc)\n",
        "display(array_to_latex(operator, prefix=\"\\\\text{Circuito como matriz unitaria} = \"))"
      ],
      "metadata": {
        "colab": {
          "base_uri": "https://localhost:8080/",
          "height": 57
        },
        "id": "aV1DD1dCLrp-",
        "outputId": "b0b99552-170d-4855-afc1-0813814b1f10"
      },
      "execution_count": 30,
      "outputs": [
        {
          "output_type": "display_data",
          "data": {
            "text/plain": [
              "<IPython.core.display.Latex object>"
            ],
            "text/latex": "$$\n\\text{Circuito como matriz unitaria} = \n\\begin{bmatrix}\n0 & - i  \\\\\n - i & 0  \\\\\n \\end{bmatrix}\n$$"
          },
          "metadata": {}
        }
      ]
    },
    {
      "cell_type": "markdown",
      "source": [
        "## Operación de desplazamiento de fase. Efecto sobre el $ |0\\rangle $"
      ],
      "metadata": {
        "id": "f56L2jNoLui8"
      }
    },
    {
      "cell_type": "markdown",
      "source": [
        "La puerta $ RX(\\pi) $, aplica una rotación de 180 grados y un cambio en una fase global del sistema. Eso a diferencia de la puerta $X$ que hace el mismo efecto, pero sin cambio fase."
      ],
      "metadata": {
        "id": "JwU83kGdBx-y"
      }
    },
    {
      "cell_type": "code",
      "source": [
        "np.round(rx.dot(ket_0), 5)"
      ],
      "metadata": {
        "colab": {
          "base_uri": "https://localhost:8080/"
        },
        "id": "UpVIwdJ49lpB",
        "outputId": "65768640-3ab5-44a1-b9d4-0795c6965c9c"
      },
      "execution_count": 31,
      "outputs": [
        {
          "output_type": "execute_result",
          "data": {
            "text/plain": [
              "array([[0.+0.j],\n",
              "       [0.-1.j]])"
            ]
          },
          "metadata": {},
          "execution_count": 31
        }
      ]
    },
    {
      "cell_type": "markdown",
      "source": [
        "Si queremos tener el mismo efecto de la puerta $X$. Se puede hacer aplicando con la puerta $RZ(\\pi) RX(\\pi) |0\\rangle $"
      ],
      "metadata": {
        "id": "asgBp_20CkXv"
      }
    },
    {
      "cell_type": "code",
      "source": [
        "np.round(rz.dot(rx.dot(ket_0)), 5)"
      ],
      "metadata": {
        "colab": {
          "base_uri": "https://localhost:8080/"
        },
        "id": "Ygdns502r4M4",
        "outputId": "b3ba621a-e5fe-4071-fc99-6c95b3f46215"
      },
      "execution_count": 32,
      "outputs": [
        {
          "output_type": "execute_result",
          "data": {
            "text/plain": [
              "array([[0.-0.j],\n",
              "       [1.-0.j]])"
            ]
          },
          "metadata": {},
          "execution_count": 32
        }
      ]
    },
    {
      "cell_type": "markdown",
      "source": [
        "# Puertas U\n",
        "\n",
        "Es la operación que permite representar cualquier puerta cuantica. Sus parametros son los angulos que representan la esfera de bloch. Las puertas $ U $ cubren por ejemplo, las puertas de Pauli, la puerta Hadamard y las puertas de Desplazamiento de fase. Para resolver esto necesitamos entender la <a href=\"https://www.youtube.com/watch?v=eaP_rbGWUW4\" target=\"_blank\">exponencial compleja </a>"
      ],
      "metadata": {
        "id": "st35InTArkiP"
      }
    },
    {
      "cell_type": "markdown",
      "source": [
        "$U(\\theta ,\\phi, \\lambda ) =  \\begin{pmatrix} \\cos(\\frac{\\theta}{2}) & -e^{i\\lambda}\\sin(\\frac{\\theta}{2})\\\\\n",
        " e^{i\\phi}\\sin(\\frac{\\theta}{2}) & e^{i(\\phi + \\lambda)}\\cos(\\frac{\\theta}{2}) \\end{pmatrix}$"
      ],
      "metadata": {
        "id": "dM290ZU28LPk"
      }
    },
    {
      "cell_type": "code",
      "source": [
        "def get_matrix_u(theta = np.pi, psi =  np.pi,  lamb =  np.pi ):\n",
        "  return np.array([[np.cos(theta/2), -np.exp(1j*lamb) * np.sin(theta / 2) ], [np.exp(1j*psi) * np.sin(theta / 2), np.exp(1j*(psi + lamb)) * np.cos(theta / 2) ]])\n",
        "  #return np.array([[np.cos(theta/2),  np.exp(1j*psi) * np.sin(theta / 2) ], [-np.exp(1j*lamb) * np.sin(theta / 2) , np.exp(1j*(psi + lamb)) * np.cos(theta / 2) ]])"
      ],
      "metadata": {
        "id": "0jLgvhz4rjvo"
      },
      "execution_count": 92,
      "outputs": []
    },
    {
      "cell_type": "markdown",
      "source": [
        "### Pruebas individuales de operaciones"
      ],
      "metadata": {
        "id": "VXHxBDLHkX6J"
      }
    },
    {
      "cell_type": "code",
      "source": [
        "lamb = np.pi\n",
        "theta = np.pi\n",
        "psi = 0\n",
        "np.exp(1j*(psi + lamb))"
      ],
      "metadata": {
        "colab": {
          "base_uri": "https://localhost:8080/"
        },
        "id": "DdphULrKNJRY",
        "outputId": "08f1f236-3171-4930-b848-ca0395162681"
      },
      "execution_count": 65,
      "outputs": [
        {
          "output_type": "execute_result",
          "data": {
            "text/plain": [
              "(-1+1.2246467991473532e-16j)"
            ]
          },
          "metadata": {},
          "execution_count": 65
        }
      ]
    },
    {
      "cell_type": "code",
      "source": [
        "theta/2"
      ],
      "metadata": {
        "colab": {
          "base_uri": "https://localhost:8080/"
        },
        "id": "cFnRe5vNeh6m",
        "outputId": "b70a5649-5d7e-4767-b68a-c004b9a6fdb0"
      },
      "execution_count": 57,
      "outputs": [
        {
          "output_type": "execute_result",
          "data": {
            "text/plain": [
              "1.5707963267948966"
            ]
          },
          "metadata": {},
          "execution_count": 57
        }
      ]
    },
    {
      "cell_type": "code",
      "source": [
        "1j*lamb"
      ],
      "metadata": {
        "colab": {
          "base_uri": "https://localhost:8080/"
        },
        "id": "zLl42mqANrLZ",
        "outputId": "e26dcb69-58e2-40e3-95ba-13c03ab3f82b"
      },
      "execution_count": 35,
      "outputs": [
        {
          "output_type": "execute_result",
          "data": {
            "text/plain": [
              "3.141592653589793j"
            ]
          },
          "metadata": {},
          "execution_count": 35
        }
      ]
    },
    {
      "cell_type": "code",
      "source": [
        "np.round(-np.exp(1j*lamb) * np.sin(theta / 2) , 5)"
      ],
      "metadata": {
        "colab": {
          "base_uri": "https://localhost:8080/"
        },
        "id": "fu66CPETNSeJ",
        "outputId": "b0d06d81-1194-4b22-e831-8240441092ff"
      },
      "execution_count": 36,
      "outputs": [
        {
          "output_type": "execute_result",
          "data": {
            "text/plain": [
              "(1-0j)"
            ]
          },
          "metadata": {},
          "execution_count": 36
        }
      ]
    },
    {
      "cell_type": "markdown",
      "source": [
        "### Puerta X representada como una puerta U\n",
        "Operación del  $ U(\\pi, 0, \\pi ) |0\\rangle  = X |0\\rangle $"
      ],
      "metadata": {
        "id": "DFj_rkxaFS26"
      }
    },
    {
      "cell_type": "code",
      "source": [
        "x_u = get_matrix_u(theta = np.pi, psi =0, lamb =np.pi)"
      ],
      "metadata": {
        "id": "585XCod-R_3Z"
      },
      "execution_count": 87,
      "outputs": []
    },
    {
      "cell_type": "code",
      "source": [
        "print(x_u.real)"
      ],
      "metadata": {
        "colab": {
          "base_uri": "https://localhost:8080/"
        },
        "id": "0GjSblr8c0aB",
        "outputId": "c3f03230-368c-4bcd-8120-fbbf76efbd4a"
      },
      "execution_count": 83,
      "outputs": [
        {
          "output_type": "stream",
          "name": "stdout",
          "text": [
            "[[ 6.123234e-17  1.000000e+00]\n",
            " [ 1.000000e+00 -6.123234e-17]]\n"
          ]
        }
      ]
    },
    {
      "cell_type": "code",
      "source": [
        "print( np.round(x_u.dot(ket_1), 5)   )"
      ],
      "metadata": {
        "colab": {
          "base_uri": "https://localhost:8080/"
        },
        "id": "vJqzouT_KsMS",
        "outputId": "55dd258c-e896-4c2c-ff59-83ac2d8b73cf"
      },
      "execution_count": 88,
      "outputs": [
        {
          "output_type": "stream",
          "name": "stdout",
          "text": [
            "[[ 1.-0.j]\n",
            " [-0.+0.j]]\n"
          ]
        }
      ]
    },
    {
      "cell_type": "markdown",
      "source": [
        "### Puerta Z representada como una puerta U\n",
        "\n",
        "Operación del $ U(0, 0, \\pi) |1\\rangle = Z |1\\rangle $"
      ],
      "metadata": {
        "id": "Ig44K9CqZfW6"
      }
    },
    {
      "cell_type": "code",
      "source": [
        "z_u = get_matrix_u(theta = 0, psi = 0, lamb =  np.pi)\n",
        "print( np.round(z_u.dot(ket_1), 5)   )"
      ],
      "metadata": {
        "colab": {
          "base_uri": "https://localhost:8080/"
        },
        "id": "ffIUFzCmZhl8",
        "outputId": "8ffb5371-953d-4647-8096-bbef1a89efd1"
      },
      "execution_count": 89,
      "outputs": [
        {
          "output_type": "stream",
          "name": "stdout",
          "text": [
            "[[ 0.+0.j]\n",
            " [-1.+0.j]]\n"
          ]
        }
      ]
    },
    {
      "cell_type": "markdown",
      "source": [
        "### Puerta H representada como una puerta U\n",
        "\n",
        "La puerta de Hadamard es una puerta cuántica fundamental que pone un qubit en una superposición equitativa de  $ |0\\rangle $ ó $ |1\\rangle $, no es una rotación estándar alrededor de un solo eje en la esfera de Bloch, sino que es una combinación de rotaciones y por lo tanto no se puede describir con una única puerta unitaria genérica si seguimos la forma estándar de esta puerta. Sin embargo, si permitimos una fase global adicional, que no tiene efecto en las mediciones cuánticas, podríamos expresar una transformación equivalente a la de Hadamard.\n",
        "\n",
        "Para lograr el cambio de fase, podemos multiplica a la derecha como cambio de fase global:\n",
        "\n",
        "\n",
        "  \\begin{pmatrix} 1 & 0 \\\\ 0 & i \\end{pmatrix}\n"
      ],
      "metadata": {
        "id": "UCQ5YhTBt6VC"
      }
    },
    {
      "cell_type": "markdown",
      "source": [
        "Para que esta matriz sea igual a la matriz de Hadamard, los elementos deben cumplir con las siguientes condiciones:\n",
        "\n",
        "$ \\cos(\\frac{\\theta}{2}) = \\frac{1}{\\sqrt{2}} $\n",
        "\n",
        "$ -e^{i\\lambda}\\sin(\\frac{\\theta}{2})  =  \\frac{1}{\\sqrt{2}} $\n",
        "\n",
        "$  e^{i\\phi}\\sin(\\frac{\\theta}{2}) = \\frac{1}{\\sqrt{2}} $\n",
        "\n",
        "$   e^{i(\\phi + \\lambda)}\\cos(\\frac{\\theta}{2})  = -\\frac{1}{\\sqrt{2}} $\n",
        "\n",
        "\n",
        "Para ello, $ \\theta = \\frac{\\pi}{2} $\n"
      ],
      "metadata": {
        "id": "gUuoi7HYv3Wk"
      }
    },
    {
      "cell_type": "code",
      "source": [
        "h_u = get_matrix_u(theta=np.pi/2, psi=0, lamb =np.pi)\n",
        "h_u = h_u.dot(np.array([[1, 0], [0, 1j]]))\n",
        "print(h_u)"
      ],
      "metadata": {
        "colab": {
          "base_uri": "https://localhost:8080/"
        },
        "id": "NPpGR6WQg7nm",
        "outputId": "377c3f61-0813-4224-f9df-4f6ff9ce6ada"
      },
      "execution_count": 107,
      "outputs": [
        {
          "output_type": "stream",
          "name": "stdout",
          "text": [
            "[[ 7.07106781e-01+0.j          8.65956056e-17+0.70710678j]\n",
            " [ 7.07106781e-01+0.j         -8.65956056e-17-0.70710678j]]\n"
          ]
        }
      ]
    },
    {
      "cell_type": "code",
      "source": [
        "print( np.round(h_u.dot(ket_1), 5)   )"
      ],
      "metadata": {
        "colab": {
          "base_uri": "https://localhost:8080/"
        },
        "id": "OJOn44LSnWQZ",
        "outputId": "a98200f2-4a9d-455e-ed25-2c390b5358cb"
      },
      "execution_count": 108,
      "outputs": [
        {
          "output_type": "stream",
          "name": "stdout",
          "text": [
            "[[ 0.+0.70711j]\n",
            " [-0.-0.70711j]]\n"
          ]
        }
      ]
    },
    {
      "cell_type": "markdown",
      "source": [
        "# Puertas para dos qubits"
      ],
      "metadata": {
        "id": "Im8LoKXgvZBm"
      }
    },
    {
      "cell_type": "markdown",
      "source": [
        "## Puerta CNOT"
      ],
      "metadata": {
        "id": "gGFDAV_yvhPD"
      }
    },
    {
      "cell_type": "markdown",
      "source": [
        "## Puerta SWAP"
      ],
      "metadata": {
        "id": "QBQk_Jm8Odkb"
      }
    },
    {
      "cell_type": "markdown",
      "source": [
        "## Puerta U Controlada"
      ],
      "metadata": {
        "id": "Ln26MLqFOgHA"
      }
    }
  ]
}