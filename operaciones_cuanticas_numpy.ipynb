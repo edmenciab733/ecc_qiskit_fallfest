{
  "nbformat": 4,
  "nbformat_minor": 0,
  "metadata": {
    "colab": {
      "provenance": [],
      "authorship_tag": "ABX9TyOAE4NuUZ4lPtKIY9k8IPBv",
      "include_colab_link": true
    },
    "kernelspec": {
      "name": "python3",
      "display_name": "Python 3"
    },
    "language_info": {
      "name": "python"
    }
  },
  "cells": [
    {
      "cell_type": "markdown",
      "metadata": {
        "id": "view-in-github",
        "colab_type": "text"
      },
      "source": [
        "<a href=\"https://colab.research.google.com/github/edmenciab733/ecc_qiskit_fallfest/blob/main/operaciones_cuanticas_numpy.ipynb\" target=\"_parent\"><img src=\"https://colab.research.google.com/assets/colab-badge.svg\" alt=\"Open In Colab\"/></a>"
      ]
    },
    {
      "cell_type": "code",
      "execution_count": 18,
      "metadata": {
        "id": "bEkftGrjxxgb"
      },
      "outputs": [],
      "source": [
        "import numpy as np"
      ]
    },
    {
      "cell_type": "markdown",
      "source": [
        "# Bases Computacional , Base Hadamard, y Base  Y\n",
        "\n",
        "---\n",
        "\n",
        "**Base computacional**\n",
        "\n",
        "- $ |0\\rangle $\n",
        "- $ |1\\rangle $\n",
        "\n",
        "**Operador de Hadamard y transformación a la Base Hadamard**\n",
        "\n",
        "El operador de Hadamard es una operación unitaria que actúa sobre un único qubit y tiene una variedad de aplicaciones importantes, desde la creación de superposiciones hasta la implementación de algoritmos cuánticos.\n",
        "\n",
        "\n",
        "- $ H = \\frac{1}{\\sqrt{2}}\\begin{pmatrix} 1 & 1 \\\\ 1 & -1 \\end{pmatrix} $  \n",
        "\n",
        "\n",
        "- $ |+\\rangle $ = $H  |0\\rangle $ = $ \\frac{|0\\rangle + |1\\rangle}{\\sqrt{2}} $\n",
        "\n",
        "\n",
        "- $ |-\\rangle $= $H  |1\\rangle $ = $ \\frac{|0\\rangle - |1\\rangle}{\\sqrt{2}} $\n",
        "\n",
        "**Base Y **\n",
        "\n",
        "- $ |i\\rangle $\n",
        "- $ |-i\\rangle $"
      ],
      "metadata": {
        "id": "1scozx4YyuWD"
      }
    },
    {
      "cell_type": "markdown",
      "source": [
        "## Matrices"
      ],
      "metadata": {
        "id": "i1ydJsIkcLJ0"
      }
    },
    {
      "cell_type": "code",
      "source": [
        "ket_0 = np.array([[1], [0]])\n",
        "ket_1 = np.array([[0], [1]])"
      ],
      "metadata": {
        "id": "Aawlcn5SyfLQ"
      },
      "execution_count": 19,
      "outputs": []
    },
    {
      "cell_type": "code",
      "source": [
        "H = 1/np.sqrt(2) * np.array([[1, 1], [1, -1]])"
      ],
      "metadata": {
        "id": "-PBpzOZLzSJR"
      },
      "execution_count": 20,
      "outputs": []
    },
    {
      "cell_type": "code",
      "source": [
        "ket_p  = H.dot(ket_0)"
      ],
      "metadata": {
        "id": "j_uwPcS-zhaD"
      },
      "execution_count": 21,
      "outputs": []
    },
    {
      "cell_type": "code",
      "source": [
        "ket_m = H.dot(ket_1)"
      ],
      "metadata": {
        "id": "ZnQcATyKzxje"
      },
      "execution_count": 22,
      "outputs": []
    },
    {
      "cell_type": "code",
      "source": [
        "ket_ip =  1/np.sqrt(2) * np.array([[1], [1j]])"
      ],
      "metadata": {
        "id": "YKKAijorz6NP"
      },
      "execution_count": 23,
      "outputs": []
    },
    {
      "cell_type": "code",
      "source": [
        "ket_im = 1/np.sqrt(2) * np.array([[1], [-1j]])"
      ],
      "metadata": {
        "id": "mteQ4dEr5mZw"
      },
      "execution_count": 24,
      "outputs": []
    },
    {
      "cell_type": "markdown",
      "source": [
        "# Relaciones entre qubits\n",
        "\n",
        "Las relaciones entre qubits se realizan por medio kronecker\n",
        "\n",
        "$|00\\rangle = |0\\rangle \\otimes |0\\rangle $\n",
        "\n",
        "$  |01\\rangle = |0\\rangle \\otimes |1\\rangle $\n",
        "\n",
        "$|10\\rangle = |1\\rangle \\otimes |0\\rangle $\n",
        "\n",
        "$|11\\rangle = |1\\rangle \\otimes|1\\rangle $\n",
        "\n",
        "\n"
      ],
      "metadata": {
        "id": "eKJojyf5ifDD"
      }
    },
    {
      "cell_type": "code",
      "source": [
        "ket_00 = np.kron(ket_0, ket_0)\n",
        "ket_01 = np.kron(ket_0, ket_1)\n",
        "ket_10 = np.kron(ket_1, ket_0)\n",
        "ket_11 = np.kron(ket_1, ket_1)"
      ],
      "metadata": {
        "id": "a_WUZ6UrkM2S"
      },
      "execution_count": 25,
      "outputs": []
    },
    {
      "cell_type": "markdown",
      "source": [
        "# Operadores(Puertas) de Pauli, combinaciones y operaciones sobre 1 qubit\n",
        "\n",
        "Los operadores de Pauli constituyen una serie de matrices que tiene efecto sobre qubits individuales.\n",
        "\n",
        "La puerta $ X $ es análoga al bit clasico actua sobre el eje $ x $ y su efecto es rotar el eje mencionado un valor $ \\pi $"
      ],
      "metadata": {
        "id": "0xPobEKR1yGy"
      }
    },
    {
      "cell_type": "code",
      "source": [
        "X = np.array([[0,1], [1, 0]])"
      ],
      "metadata": {
        "id": "bU4AgzIP2Itw"
      },
      "execution_count": 26,
      "outputs": []
    },
    {
      "cell_type": "code",
      "source": [
        "Z = np.array([[1,0], [0, -1]])"
      ],
      "metadata": {
        "id": "JN4fDIQ02uWw"
      },
      "execution_count": 27,
      "outputs": []
    },
    {
      "cell_type": "code",
      "source": [
        "Y = np.array([[0, -1j], [1j, 0]])"
      ],
      "metadata": {
        "id": "TBv7ftcz7VUP"
      },
      "execution_count": 28,
      "outputs": []
    },
    {
      "cell_type": "code",
      "source": [
        "I = np.array([[1,0], [0,1]])"
      ],
      "metadata": {
        "id": "NySyLWIiMtfU"
      },
      "execution_count": 29,
      "outputs": []
    },
    {
      "cell_type": "markdown",
      "source": [
        "Para combinar dos o n operadores cuanticos que terminaran a afectando a 2 o $ n $ qubits tambien se realiza el producto de kronecker entre los operados por ejemplo para dos puertas $ XX $ sería:\n",
        "\n",
        "$ XX = X \\otimes X $\n",
        "\n",
        "El <a href=\"https://repositoriodigital.uns.edu.ar/handle/123456789/5841#:~:text=El%20producto%20de%20Kronecker%20se,el%20c%C3%A1lculo%20de%20valores%20singulares.\" > producto de kronocker </a>garantiza que los qubits se mantengan independiente. No es una operación sobre dos qubits"
      ],
      "metadata": {
        "id": "TYj8433Ipi2-"
      }
    },
    {
      "cell_type": "code",
      "source": [
        "XX = np.kron(X, X)\n",
        "XX"
      ],
      "metadata": {
        "colab": {
          "base_uri": "https://localhost:8080/"
        },
        "id": "Z4DSN5B7oE-7",
        "outputId": "a3260c5f-03f3-4703-b6ab-a12061627cd3"
      },
      "execution_count": 30,
      "outputs": [
        {
          "output_type": "execute_result",
          "data": {
            "text/plain": [
              "array([[0, 0, 0, 1],\n",
              "       [0, 0, 1, 0],\n",
              "       [0, 1, 0, 0],\n",
              "       [1, 0, 0, 0]])"
            ]
          },
          "metadata": {},
          "execution_count": 30
        }
      ]
    },
    {
      "cell_type": "markdown",
      "source": [
        "Ejemplo si queres afectar a aplicar al par de de qubits  $|00\\rangle$ con la puerta $ X$ aplicado a ambos qubits. La operación es cuanto sigue:\n",
        "\n",
        "$ XX |00\\rangle $\n"
      ],
      "metadata": {
        "id": "heCFDAJwqSdE"
      }
    },
    {
      "cell_type": "code",
      "source": [
        "np.dot(XX, ket_00)"
      ],
      "metadata": {
        "colab": {
          "base_uri": "https://localhost:8080/"
        },
        "id": "qQXHDkBRoKWE",
        "outputId": "cd2bce66-790d-486c-9f60-aad572fc8b17"
      },
      "execution_count": 31,
      "outputs": [
        {
          "output_type": "execute_result",
          "data": {
            "text/plain": [
              "array([[0],\n",
              "       [0],\n",
              "       [0],\n",
              "       [1]])"
            ]
          },
          "metadata": {},
          "execution_count": 31
        }
      ]
    },
    {
      "cell_type": "markdown",
      "source": [
        "En la notación de bra-ket, comúnmente utilizada en mecánica cuántica, el producto tensorial de operadores lineales se puede definir de la siguiente manera. Consideremos dos espacios vectoriales, $V$ y $U$ con vectores $ |v\\rangle $ en $V$ y $ |u\\rangle $ en $U$. El producto tensorial de los operadores  $ A y  B $ denotado por $ A \\otimes B $ actúa sobre el espacio producto tensorial de $ U \\otimes V $ por tanto se puede decir que tambien actua sobre $ u$  y $ v $\n",
        "\n",
        "\n",
        "\n",
        "\n",
        "\n",
        "\n",
        "$ (A \\otimes B ) ( |v\\rangle \\otimes |u\\rangle ) =  (A \\otimes |v\\rangle ) (B \\otimes |u\\rangle)$\n",
        "\n",
        "Ejemplo\n",
        "\n",
        "$ ZX|10\\rangle = Z|1\\rangle X|0\\rangle $"
      ],
      "metadata": {
        "id": "-jTMlfeRUZ6T"
      }
    },
    {
      "cell_type": "code",
      "source": [
        "ZX = np.kron(Z, X)\n",
        "ket1ket0 = np.kron(ket_1, ket_0)\n",
        "ZXket1ket0 = ZX.dot(ket1ket0)\n",
        "ZXket1ket0"
      ],
      "metadata": {
        "colab": {
          "base_uri": "https://localhost:8080/"
        },
        "id": "99Rait1fN2gO",
        "outputId": "a4123a61-7601-43f4-855b-0114f58015b9"
      },
      "execution_count": 32,
      "outputs": [
        {
          "output_type": "execute_result",
          "data": {
            "text/plain": [
              "array([[ 0],\n",
              "       [ 0],\n",
              "       [ 0],\n",
              "       [-1]])"
            ]
          },
          "metadata": {},
          "execution_count": 32
        }
      ]
    },
    {
      "cell_type": "code",
      "source": [
        "Zket1 = Z.dot(ket_1)\n",
        "Xket0 = X.dot(ket_0)\n",
        "Zket1Xket0 = np.kron(Zket1,Xket0 )\n",
        "Zket1Xket0"
      ],
      "metadata": {
        "colab": {
          "base_uri": "https://localhost:8080/"
        },
        "id": "fEB4s29iSFmV",
        "outputId": "4d35a2c4-144f-4eab-f8df-4592ef8a1e4d"
      },
      "execution_count": 33,
      "outputs": [
        {
          "output_type": "execute_result",
          "data": {
            "text/plain": [
              "array([[ 0],\n",
              "       [ 0],\n",
              "       [ 0],\n",
              "       [-1]])"
            ]
          },
          "metadata": {},
          "execution_count": 33
        }
      ]
    }
  ]
}