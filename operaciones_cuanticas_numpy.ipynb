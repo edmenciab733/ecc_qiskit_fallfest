{
  "nbformat": 4,
  "nbformat_minor": 0,
  "metadata": {
    "colab": {
      "provenance": [],
      "authorship_tag": "ABX9TyNQsbPhpS77ZKBXXLQoC5WM",
      "include_colab_link": true
    },
    "kernelspec": {
      "name": "python3",
      "display_name": "Python 3"
    },
    "language_info": {
      "name": "python"
    }
  },
  "cells": [
    {
      "cell_type": "markdown",
      "metadata": {
        "id": "view-in-github",
        "colab_type": "text"
      },
      "source": [
        "<a href=\"https://colab.research.google.com/github/edmenciab733/ecc_qiskit_fallfest/blob/main/operaciones_cuanticas_numpy.ipynb\" target=\"_parent\"><img src=\"https://colab.research.google.com/assets/colab-badge.svg\" alt=\"Open In Colab\"/></a>"
      ]
    },
    {
      "cell_type": "code",
      "source": [
        "%%capture\n",
        "!pip install qiskit\n",
        "!pip install qiskit-aer"
      ],
      "metadata": {
        "id": "ue5NPADfiVM1"
      },
      "execution_count": 1,
      "outputs": []
    },
    {
      "cell_type": "code",
      "execution_count": 2,
      "metadata": {
        "id": "bEkftGrjxxgb"
      },
      "outputs": [],
      "source": [
        "import numpy as np\n",
        "import qiskit"
      ]
    },
    {
      "cell_type": "markdown",
      "source": [
        "# Bases Computacional , Base Hadamard, y Base  Y\n",
        "\n",
        "---\n",
        "\n",
        "**Base computacional**\n",
        "\n",
        "- $ |0\\rangle $\n",
        "- $ |1\\rangle $\n",
        "\n",
        "**Operador de Hadamard y transformación a la Base Hadamard**\n",
        "\n",
        "El operador de Hadamard es una operación unitaria que actúa sobre un único qubit y tiene una variedad de aplicaciones importantes, desde la creación de superposiciones hasta la implementación de algoritmos cuánticos.\n",
        "\n",
        "\n",
        "- $ H = \\frac{1}{\\sqrt{2}}\\begin{pmatrix} 1 & 1 \\\\ 1 & -1 \\end{pmatrix} $  \n",
        "\n",
        "\n",
        "- $ |+\\rangle $ = $H  |0\\rangle $ = $ \\frac{|0\\rangle + |1\\rangle}{\\sqrt{2}} $\n",
        "\n",
        "\n",
        "- $ |-\\rangle $= $H  |1\\rangle $ = $ \\frac{|0\\rangle - |1\\rangle}{\\sqrt{2}} $\n",
        "\n",
        "**Base Y **\n",
        "\n",
        "- $ |i\\rangle $\n",
        "- $ |-i\\rangle $"
      ],
      "metadata": {
        "id": "1scozx4YyuWD"
      }
    },
    {
      "cell_type": "markdown",
      "source": [
        "## Operadores con numpy"
      ],
      "metadata": {
        "id": "i1ydJsIkcLJ0"
      }
    },
    {
      "cell_type": "code",
      "source": [
        "ket_0 = np.array([[1], [0]])\n",
        "ket_1 = np.array([[0], [1]])"
      ],
      "metadata": {
        "id": "Aawlcn5SyfLQ"
      },
      "execution_count": 3,
      "outputs": []
    },
    {
      "cell_type": "code",
      "source": [
        "H = 1/np.sqrt(2) * np.array([[1, 1], [1, -1]])"
      ],
      "metadata": {
        "id": "-PBpzOZLzSJR"
      },
      "execution_count": 4,
      "outputs": []
    },
    {
      "cell_type": "code",
      "source": [
        "ket_p  = H.dot(ket_0)"
      ],
      "metadata": {
        "id": "j_uwPcS-zhaD"
      },
      "execution_count": 5,
      "outputs": []
    },
    {
      "cell_type": "code",
      "source": [
        "ket_m = H.dot(ket_1)"
      ],
      "metadata": {
        "id": "ZnQcATyKzxje"
      },
      "execution_count": 6,
      "outputs": []
    },
    {
      "cell_type": "code",
      "source": [
        "ket_ip =  1/np.sqrt(2) * np.array([[1], [1j]])"
      ],
      "metadata": {
        "id": "YKKAijorz6NP"
      },
      "execution_count": 7,
      "outputs": []
    },
    {
      "cell_type": "code",
      "source": [
        "ket_im = 1/np.sqrt(2) * np.array([[1], [-1j]])"
      ],
      "metadata": {
        "id": "mteQ4dEr5mZw"
      },
      "execution_count": 8,
      "outputs": []
    },
    {
      "cell_type": "markdown",
      "source": [
        "## Producto Interno\n",
        "El producto intero, también conocido como producto escalar, es una operación matemática que toma dos vectores en este espacio y devuelve un número complejo. El producto interno se denota como:  $ <v|u >$. Un requísito es aplicar el produnto interno es que el número de columnas del primer vector debe coincidir con el número de filas.\n",
        "\n",
        "Ejemplo con: $ <0|0> $\n",
        "\n",
        "$\\begin{pmatrix} 1 \\\\ 0  \\end{pmatrix} \\times \\begin{pmatrix} 1 & 0  \\end{pmatrix} $  \n",
        "\n"
      ],
      "metadata": {
        "id": "wyR5R0iFodqw"
      }
    },
    {
      "cell_type": "code",
      "source": [
        "ket_0_tc = np.conj(ket_0.T)\n",
        "ket_0.shape, ket_0_tc.shape"
      ],
      "metadata": {
        "colab": {
          "base_uri": "https://localhost:8080/"
        },
        "id": "sx6tZIHNoiwT",
        "outputId": "d852832c-1a6b-4554-9ff6-76d43a324134"
      },
      "execution_count": 9,
      "outputs": [
        {
          "output_type": "execute_result",
          "data": {
            "text/plain": [
              "((2, 1), (1, 2))"
            ]
          },
          "metadata": {},
          "execution_count": 9
        }
      ]
    },
    {
      "cell_type": "code",
      "source": [
        "np.vdot(ket_m, ket_0_tc)"
      ],
      "metadata": {
        "colab": {
          "base_uri": "https://localhost:8080/"
        },
        "id": "NfvK_-d1oo-8",
        "outputId": "2eeaaa87-cd28-4dfe-87a2-f32734a8d468"
      },
      "execution_count": 10,
      "outputs": [
        {
          "output_type": "execute_result",
          "data": {
            "text/plain": [
              "0.7071067811865475"
            ]
          },
          "metadata": {},
          "execution_count": 10
        }
      ]
    },
    {
      "cell_type": "code",
      "source": [
        "np.vdot(ket_0, ket_0_tc)"
      ],
      "metadata": {
        "colab": {
          "base_uri": "https://localhost:8080/"
        },
        "id": "eM-YkrzIx9nx",
        "outputId": "5c6a3395-098f-451b-d3e1-ebb9791ef2fd"
      },
      "execution_count": 11,
      "outputs": [
        {
          "output_type": "execute_result",
          "data": {
            "text/plain": [
              "1"
            ]
          },
          "metadata": {},
          "execution_count": 11
        }
      ]
    },
    {
      "cell_type": "code",
      "source": [
        "ket_0_tc = np.conj(ket_0.T)\n",
        "np.vdot(ket_1, ket_0_tc)"
      ],
      "metadata": {
        "colab": {
          "base_uri": "https://localhost:8080/"
        },
        "id": "6P56enGYqZ29",
        "outputId": "a34a9209-f6eb-47a4-d173-0621dd840b40"
      },
      "execution_count": 12,
      "outputs": [
        {
          "output_type": "execute_result",
          "data": {
            "text/plain": [
              "0"
            ]
          },
          "metadata": {},
          "execution_count": 12
        }
      ]
    },
    {
      "cell_type": "markdown",
      "source": [
        "El detalle: El producto interno puede darnos un una idea de cuan cerca o lejos están los estados. Probar con: $ <0|0> = 1 $ ó $ <0|1> = 0 $  ó  $ <0|+> = 0.707 $"
      ],
      "metadata": {
        "id": "hNKNpZPwqtEr"
      }
    },
    {
      "cell_type": "markdown",
      "source": [
        "# Relaciones entre qubits\n",
        "\n",
        "Las relaciones entre qubits se realizan por medio kronecker\n",
        "\n",
        "$|00\\rangle = |0\\rangle \\otimes |0\\rangle $\n",
        "\n",
        "$  |01\\rangle = |0\\rangle \\otimes |1\\rangle $\n",
        "\n",
        "$|10\\rangle = |1\\rangle \\otimes |0\\rangle $\n",
        "\n",
        "$|11\\rangle = |1\\rangle \\otimes|1\\rangle $\n",
        "\n",
        "\n"
      ],
      "metadata": {
        "id": "eKJojyf5ifDD"
      }
    },
    {
      "cell_type": "code",
      "source": [
        "ket_00 = np.kron(ket_0, ket_0)\n",
        "ket_01 = np.kron(ket_0, ket_1)\n",
        "ket_10 = np.kron(ket_1, ket_0)\n",
        "ket_11 = np.kron(ket_1, ket_1)"
      ],
      "metadata": {
        "id": "a_WUZ6UrkM2S"
      },
      "execution_count": 13,
      "outputs": []
    },
    {
      "cell_type": "markdown",
      "source": [
        "# Operadores(Puertas) de Pauli, combinaciones y operaciones sobre 1 qubit\n",
        "\n",
        "Los operadores de Pauli constituyen una serie de matrices que tiene efecto sobre qubits individuales.\n",
        "\n",
        "La puerta $ X $ es análoga al bit clasico actua sobre el eje $ x $ y su efecto es rotar el eje mencionado un valor $ \\pi $"
      ],
      "metadata": {
        "id": "0xPobEKR1yGy"
      }
    },
    {
      "cell_type": "code",
      "source": [
        "X = np.array([[0,1], [1, 0]])"
      ],
      "metadata": {
        "id": "bU4AgzIP2Itw"
      },
      "execution_count": 14,
      "outputs": []
    },
    {
      "cell_type": "code",
      "source": [
        "Z = np.array([[1,0], [0, -1]])"
      ],
      "metadata": {
        "id": "JN4fDIQ02uWw"
      },
      "execution_count": 15,
      "outputs": []
    },
    {
      "cell_type": "code",
      "source": [
        "Y = np.array([[0, -1j], [1j, 0]])"
      ],
      "metadata": {
        "id": "TBv7ftcz7VUP"
      },
      "execution_count": 16,
      "outputs": []
    },
    {
      "cell_type": "code",
      "source": [
        "I = np.array([[1,0], [0,1]])"
      ],
      "metadata": {
        "id": "NySyLWIiMtfU"
      },
      "execution_count": 17,
      "outputs": []
    },
    {
      "cell_type": "code",
      "source": [
        "np.dot(X, ket_1)"
      ],
      "metadata": {
        "colab": {
          "base_uri": "https://localhost:8080/"
        },
        "id": "ttD1Xwz6S7Hm",
        "outputId": "33bad546-f238-411c-8b78-5bdf40d3a129"
      },
      "execution_count": 18,
      "outputs": [
        {
          "output_type": "execute_result",
          "data": {
            "text/plain": [
              "array([[1],\n",
              "       [0]])"
            ]
          },
          "metadata": {},
          "execution_count": 18
        }
      ]
    },
    {
      "cell_type": "markdown",
      "source": [
        "Para combinar dos o n operadores cuanticos que terminaran a afectando a 2 o $ n $ qubits tambien se realiza el producto de kronecker entre los operados por ejemplo para dos puertas $ XX $ sería:\n",
        "\n",
        "$ XX = X \\otimes X $\n",
        "\n",
        "El <a href=\"https://repositoriodigital.uns.edu.ar/handle/123456789/5841#:~:text=El%20producto%20de%20Kronecker%20se,el%20c%C3%A1lculo%20de%20valores%20singulares.\" > producto de kronocker </a>garantiza que los qubits se mantengan independiente. No es una operación sobre dos qubits"
      ],
      "metadata": {
        "id": "TYj8433Ipi2-"
      }
    },
    {
      "cell_type": "code",
      "source": [
        "XX = np.kron(X, X)\n",
        "XX"
      ],
      "metadata": {
        "colab": {
          "base_uri": "https://localhost:8080/"
        },
        "id": "Z4DSN5B7oE-7",
        "outputId": "f35e73b0-8677-4813-c858-23d54fdcb788"
      },
      "execution_count": 19,
      "outputs": [
        {
          "output_type": "execute_result",
          "data": {
            "text/plain": [
              "array([[0, 0, 0, 1],\n",
              "       [0, 0, 1, 0],\n",
              "       [0, 1, 0, 0],\n",
              "       [1, 0, 0, 0]])"
            ]
          },
          "metadata": {},
          "execution_count": 19
        }
      ]
    },
    {
      "cell_type": "markdown",
      "source": [
        "Ejemplo si queres afectar a aplicar al par de de qubits  $|00\\rangle$ con la puerta $ X$ aplicado a ambos qubits. La operación es cuanto sigue:\n",
        "\n",
        "$ XX |00\\rangle $\n"
      ],
      "metadata": {
        "id": "heCFDAJwqSdE"
      }
    },
    {
      "cell_type": "code",
      "source": [
        "np.dot(XX, ket_00)"
      ],
      "metadata": {
        "colab": {
          "base_uri": "https://localhost:8080/"
        },
        "id": "qQXHDkBRoKWE",
        "outputId": "949a67fd-f3bf-4408-a73a-c99692abcf41"
      },
      "execution_count": 20,
      "outputs": [
        {
          "output_type": "execute_result",
          "data": {
            "text/plain": [
              "array([[0],\n",
              "       [0],\n",
              "       [0],\n",
              "       [1]])"
            ]
          },
          "metadata": {},
          "execution_count": 20
        }
      ]
    },
    {
      "cell_type": "markdown",
      "source": [
        "En la notación de bra-ket, comúnmente utilizada en mecánica cuántica, el producto tensorial de operadores lineales se puede definir de la siguiente manera. Consideremos dos espacios vectoriales, $V$ y $U$ con vectores $ |v\\rangle $ en $V$ y $ |u\\rangle $ en $U$. El producto tensorial de los operadores  $ A y  B $ denotado por $ A \\otimes B $ actúa sobre el espacio producto tensorial de $ U \\otimes V $ por tanto se puede decir que tambien actua sobre $ u$  y $ v $\n",
        "\n",
        "\n",
        "\n",
        "\n",
        "\n",
        "\n",
        "$ (A \\otimes B ) ( |v\\rangle \\otimes |u\\rangle ) =  (A \\otimes |v\\rangle ) (B \\otimes |u\\rangle)$\n",
        "\n",
        "Ejemplo\n",
        "\n",
        "$ ZX|10\\rangle = Z|1\\rangle X|0\\rangle $"
      ],
      "metadata": {
        "id": "-jTMlfeRUZ6T"
      }
    },
    {
      "cell_type": "code",
      "source": [
        "ZX = np.kron(Z, X)\n",
        "ket1ket0 = np.kron(ket_1, ket_0)\n",
        "ZXket1ket0 = ZX.dot(ket1ket0)\n",
        "ZXket1ket0"
      ],
      "metadata": {
        "colab": {
          "base_uri": "https://localhost:8080/"
        },
        "id": "99Rait1fN2gO",
        "outputId": "cc18dbfe-5dad-4663-8987-9501e6539757"
      },
      "execution_count": 21,
      "outputs": [
        {
          "output_type": "execute_result",
          "data": {
            "text/plain": [
              "array([[ 0],\n",
              "       [ 0],\n",
              "       [ 0],\n",
              "       [-1]])"
            ]
          },
          "metadata": {},
          "execution_count": 21
        }
      ]
    },
    {
      "cell_type": "code",
      "source": [
        "Zket1 = Z.dot(ket_1)\n",
        "Xket0 = X.dot(ket_0)\n",
        "Zket1Xket0 = np.kron(Zket1,Xket0 )\n",
        "Zket1Xket0"
      ],
      "metadata": {
        "colab": {
          "base_uri": "https://localhost:8080/"
        },
        "id": "fEB4s29iSFmV",
        "outputId": "8b017ee2-48f3-4ab6-f8c6-aadbe2a25a39"
      },
      "execution_count": 22,
      "outputs": [
        {
          "output_type": "execute_result",
          "data": {
            "text/plain": [
              "array([[ 0],\n",
              "       [ 0],\n",
              "       [ 0],\n",
              "       [-1]])"
            ]
          },
          "metadata": {},
          "execution_count": 22
        }
      ]
    },
    {
      "cell_type": "markdown",
      "source": [
        "# Puertas RX, RY, RZ o Puertas de desplazamiento de fase.\n",
        "\n",
        "Las puertas de desplazamiento de fase, o puertas de cambio de fase, en la computación cuántica se utilizan para modificar la fase de un estado cuántico sin cambiar sus probabilidades de medición. Estas puertas son esenciales para controlar y manipular las fases relativas de los estados cuánticos, lo que es crucial para muchos algoritmos cuánticos.\n",
        "\n",
        "\n",
        "Las puertas desplazamientos no cambia la probabilidad de medir un qubit de manera individual, pero utiliza la propiedad de la interferencia cuantica para incidir en la medida generar del sistema, en el cual se combinan amplitudes de manera constructiva o destructiva. Normalmente inciden en la medida de aquellos estados entrelazados."
      ],
      "metadata": {
        "id": "FkQb49Legijy"
      }
    },
    {
      "cell_type": "markdown",
      "source": [
        "$RX(\\theta) =  \\begin{pmatrix} \\cos(\\frac{\\phi}{2}) & -i * \\sin(\\frac{\\phi}{2}) \\\\  -i * \\sin(\\frac{\\phi}{2}) & \\cos(\\frac{\\phi}{2}) \\end{pmatrix}$\n",
        "\n",
        "----------\n",
        "$RZ(\\theta) =  \\begin{pmatrix} e^{-i\\theta/2} & 0 \\\\\n",
        "0 & e^{i\\theta/2} \\end{pmatrix}$\n",
        "\n",
        "----------\n",
        "\n",
        "$RY(\\theta) =  \\begin{pmatrix} \\cos(\\frac{\\phi}{2}) & -\\sin(\\frac{\\phi}{2})  \\\\\n",
        "\\sin(\\frac{\\phi}{2})  & \\cos(\\frac{\\phi}{2}) \\end{pmatrix}$\n"
      ],
      "metadata": {
        "id": "S_JlKR0R3LOt"
      }
    },
    {
      "cell_type": "code",
      "source": [
        "def get_matrix_rotacion(puerta, phi=np.pi):\n",
        "  if puerta == \"x\":\n",
        "    return np.array([[np.cos(phi/2), -1j * np.sin(phi/2)], [-1j * np.sin(phi/2), np.cos(phi/2) ]])\n",
        "  if puerta == \"z\":\n",
        "    return np.array([[np.exp(-1j*phi/2), 0], [0 , np.exp(1j*phi/2)  ]])\n",
        "  if puerta == \"y\":\n",
        "    return np.array([[np.cos(phi/2), -1j* np.sin(phi/2)], [np.sin(phi/2) ,np.cos(phi/2)  ]])"
      ],
      "metadata": {
        "id": "XiWGH2AtQJV0"
      },
      "execution_count": 23,
      "outputs": []
    },
    {
      "cell_type": "code",
      "source": [
        "rx = get_matrix_rotacion(\"x\")\n",
        "rz = get_matrix_rotacion(\"z\")\n",
        "ry = get_matrix_rotacion(\"y\")\n",
        "aux = rz.dot(rx.dot(ket_0))"
      ],
      "metadata": {
        "id": "3dxlV8jlRaHj"
      },
      "execution_count": 24,
      "outputs": []
    },
    {
      "cell_type": "markdown",
      "source": [
        "La puerta $ RX(\\pi) $, aplica una rotación de 180 grados y un cambio en una fase global del sistema. Eso a diferencia de la puerta $X$ que hace el mismo efecto, pero no cambio la fase."
      ],
      "metadata": {
        "id": "JwU83kGdBx-y"
      }
    },
    {
      "cell_type": "code",
      "source": [
        "np.round(rx.dot(ket_0), 5)"
      ],
      "metadata": {
        "colab": {
          "base_uri": "https://localhost:8080/"
        },
        "id": "UpVIwdJ49lpB",
        "outputId": "939f22f8-30b1-4440-f98b-bec05adf1a6f"
      },
      "execution_count": 26,
      "outputs": [
        {
          "output_type": "execute_result",
          "data": {
            "text/plain": [
              "array([[0.+0.j],\n",
              "       [0.-1.j]])"
            ]
          },
          "metadata": {},
          "execution_count": 26
        }
      ]
    },
    {
      "cell_type": "markdown",
      "source": [
        "Para hacer un cambio de fase. Se puede ayudar con la puerta $RZ(\\pi) RX(\\pi) |0\\rangle $"
      ],
      "metadata": {
        "id": "asgBp_20CkXv"
      }
    },
    {
      "cell_type": "code",
      "source": [
        "np.round(rz.dot(rx.dot(ket_0)), 5)"
      ],
      "metadata": {
        "colab": {
          "base_uri": "https://localhost:8080/"
        },
        "id": "Ygdns502r4M4",
        "outputId": "917f8e28-b41d-4d79-8aaa-8ab11865ea25"
      },
      "execution_count": 29,
      "outputs": [
        {
          "output_type": "execute_result",
          "data": {
            "text/plain": [
              "array([[0.-0.j],\n",
              "       [1.-0.j]])"
            ]
          },
          "metadata": {},
          "execution_count": 29
        }
      ]
    },
    {
      "cell_type": "code",
      "source": [
        "from qiskit import QuantumCircuit\n",
        "from qiskit.visualization import array_to_latex\n",
        "from qiskit.quantum_info import Operator\n",
        "\n",
        "qc = QuantumCircuit(1,1)\n",
        "qc.rx(np.pi, 0)\n",
        "operator = Operator(qc)\n",
        "display(array_to_latex(operator, prefix=\"\\\\text{Circuito como matriz unitaria} = \"))"
      ],
      "metadata": {
        "colab": {
          "base_uri": "https://localhost:8080/",
          "height": 57
        },
        "id": "-BclSLaO-QZj",
        "outputId": "cd4bb1c5-240a-4ebc-8327-b04dceb4463d"
      },
      "execution_count": null,
      "outputs": [
        {
          "output_type": "display_data",
          "data": {
            "text/plain": [
              "<IPython.core.display.Latex object>"
            ],
            "text/latex": "$$\n\\text{Circuito como matriz unitaria} = \n\\begin{bmatrix}\n0 & - i  \\\\\n - i & 0  \\\\\n \\end{bmatrix}\n$$"
          },
          "metadata": {}
        }
      ]
    },
    {
      "cell_type": "markdown",
      "source": [
        "# Puertas U"
      ],
      "metadata": {
        "id": "st35InTArkiP"
      }
    },
    {
      "cell_type": "code",
      "source": [
        "def get_matrix_u(theta, psi,  lambda ):\n",
        "  return port"
      ],
      "metadata": {
        "id": "0jLgvhz4rjvo"
      },
      "execution_count": null,
      "outputs": []
    },
    {
      "cell_type": "code",
      "source": [],
      "metadata": {
        "colab": {
          "base_uri": "https://localhost:8080/"
        },
        "id": "585XCod-R_3Z",
        "outputId": "a62f64a7-79c0-4fef-eca8-0f662fdf6fd5"
      },
      "execution_count": null,
      "outputs": [
        {
          "output_type": "execute_result",
          "data": {
            "text/plain": [
              "array([[0.+0.j],\n",
              "       [0.-1.j]])"
            ]
          },
          "metadata": {},
          "execution_count": 40
        }
      ]
    },
    {
      "cell_type": "markdown",
      "source": [
        "# Puertas para dos qubits"
      ],
      "metadata": {
        "id": "Im8LoKXgvZBm"
      }
    },
    {
      "cell_type": "markdown",
      "source": [
        "## Puerta CNOT"
      ],
      "metadata": {
        "id": "gGFDAV_yvhPD"
      }
    }
  ]
}