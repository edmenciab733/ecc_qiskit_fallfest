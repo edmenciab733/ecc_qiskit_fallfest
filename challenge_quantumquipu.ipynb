{
  "nbformat": 4,
  "nbformat_minor": 0,
  "metadata": {
    "colab": {
      "provenance": [],
      "gpuType": "V100",
      "authorship_tag": "ABX9TyNHORm0ogg5pmBv8l4G4I0a",
      "include_colab_link": true
    },
    "kernelspec": {
      "name": "python3",
      "display_name": "Python 3"
    },
    "language_info": {
      "name": "python"
    },
    "accelerator": "GPU"
  },
  "cells": [
    {
      "cell_type": "markdown",
      "metadata": {
        "id": "view-in-github",
        "colab_type": "text"
      },
      "source": [
        "<a href=\"https://colab.research.google.com/github/edmenciab733/ecc_qiskit_fallfest/blob/main/challenge_quantumquipu.ipynb\" target=\"_parent\"><img src=\"https://colab.research.google.com/assets/colab-badge.svg\" alt=\"Open In Colab\"/></a>"
      ]
    },
    {
      "cell_type": "markdown",
      "source": [
        "# Paquetes requeridos"
      ],
      "metadata": {
        "id": "0VjGZYk9NKAd"
      }
    },
    {
      "cell_type": "code",
      "execution_count": 1,
      "metadata": {
        "id": "ry7Frv_w6bwv"
      },
      "outputs": [],
      "source": [
        "%%capture\n",
        "!pip install qiskit\n",
        "!pip install pylatexenc\n",
        "!pip install qiskit-aer\n",
        "!pip install pennylane\n",
        "!pip install ipython-autotime\n",
        "!python -m pip install pennylane pennylane-lightning-gpu custatevec-cu11 --upgrade\n",
        "!pip install qiskit-machine-learning"
      ]
    },
    {
      "cell_type": "code",
      "source": [
        "%load_ext autotime"
      ],
      "metadata": {
        "colab": {
          "base_uri": "https://localhost:8080/"
        },
        "id": "75S5Xf0fGJrK",
        "outputId": "32e9d16e-17c5-4b98-fda9-b6c00ff7823b"
      },
      "execution_count": 2,
      "outputs": [
        {
          "output_type": "stream",
          "name": "stdout",
          "text": [
            "time: 353 µs (started: 2023-11-12 17:19:40 +00:00)\n"
          ]
        }
      ]
    },
    {
      "cell_type": "code",
      "source": [
        "import pandas as pd\n",
        "import pennylane  as qml\n",
        "from sklearn.metrics import accuracy_score\n",
        "from sklearn.preprocessing import MaxAbsScaler\n",
        "import numpy as np\n",
        "import matplotlib.pyplot as plt\n",
        "from itertools import combinations"
      ],
      "metadata": {
        "id": "OeMN9BmN6itJ",
        "colab": {
          "base_uri": "https://localhost:8080/"
        },
        "outputId": "5cba39dd-aa50-41da-9c9e-d62add02367c"
      },
      "execution_count": 3,
      "outputs": [
        {
          "output_type": "stream",
          "name": "stdout",
          "text": [
            "time: 2.8 s (started: 2023-11-12 17:19:40 +00:00)\n"
          ]
        }
      ]
    },
    {
      "cell_type": "markdown",
      "source": [
        "# Datos"
      ],
      "metadata": {
        "id": "TWTgMHS6Nmno"
      }
    },
    {
      "cell_type": "code",
      "source": [
        "df_train = pd.read_csv(\"https://raw.githubusercontent.com/QuantumQuipu/QuantumChallenge/main/challenge_train.csv\")\n",
        "df_test = pd.read_csv(\"https://raw.githubusercontent.com/QuantumQuipu/QuantumChallenge/main/challenge_test.csv\")"
      ],
      "metadata": {
        "id": "Ywr0mu9d6vAA",
        "colab": {
          "base_uri": "https://localhost:8080/"
        },
        "outputId": "f432a55a-9e2b-46f7-a046-a12962e6d076"
      },
      "execution_count": 4,
      "outputs": [
        {
          "output_type": "stream",
          "name": "stdout",
          "text": [
            "time: 457 ms (started: 2023-11-12 17:19:42 +00:00)\n"
          ]
        }
      ]
    },
    {
      "cell_type": "code",
      "source": [
        "df_train.drop(df_train.columns[0], axis=1, inplace=True)\n",
        "df_test.drop(df_test.columns[0], axis=1, inplace=True)"
      ],
      "metadata": {
        "id": "Vdz-jlXC6vFR",
        "colab": {
          "base_uri": "https://localhost:8080/"
        },
        "outputId": "eb3c40c5-d53f-4b9f-f8f3-f00bce52944f"
      },
      "execution_count": 5,
      "outputs": [
        {
          "output_type": "stream",
          "name": "stdout",
          "text": [
            "time: 14.5 ms (started: 2023-11-12 17:19:43 +00:00)\n"
          ]
        }
      ]
    },
    {
      "cell_type": "code",
      "source": [
        "df_test.head()"
      ],
      "metadata": {
        "colab": {
          "base_uri": "https://localhost:8080/",
          "height": 217
        },
        "id": "cpzkuCXT7dmF",
        "outputId": "816fe55a-0aa3-4a01-9748-aa60abe827c5"
      },
      "execution_count": 6,
      "outputs": [
        {
          "output_type": "execute_result",
          "data": {
            "text/plain": [
              "         F1        F2        F3        F4  Target\n",
              "0  1.866088  1.574254  0.138930 -0.351542       1\n",
              "1  0.839427 -1.069518 -0.432655 -0.964800       0\n",
              "2  0.557187 -0.921264 -0.379198 -0.003020       0\n",
              "3 -0.694573  1.875495  0.533211  0.659735       1\n",
              "4 -1.844339 -1.116098  1.074549 -0.156043       0"
            ],
            "text/html": [
              "\n",
              "  <div id=\"df-78b7767d-9f19-4484-a45f-e97e61b8c419\" class=\"colab-df-container\">\n",
              "    <div>\n",
              "<style scoped>\n",
              "    .dataframe tbody tr th:only-of-type {\n",
              "        vertical-align: middle;\n",
              "    }\n",
              "\n",
              "    .dataframe tbody tr th {\n",
              "        vertical-align: top;\n",
              "    }\n",
              "\n",
              "    .dataframe thead th {\n",
              "        text-align: right;\n",
              "    }\n",
              "</style>\n",
              "<table border=\"1\" class=\"dataframe\">\n",
              "  <thead>\n",
              "    <tr style=\"text-align: right;\">\n",
              "      <th></th>\n",
              "      <th>F1</th>\n",
              "      <th>F2</th>\n",
              "      <th>F3</th>\n",
              "      <th>F4</th>\n",
              "      <th>Target</th>\n",
              "    </tr>\n",
              "  </thead>\n",
              "  <tbody>\n",
              "    <tr>\n",
              "      <th>0</th>\n",
              "      <td>1.866088</td>\n",
              "      <td>1.574254</td>\n",
              "      <td>0.138930</td>\n",
              "      <td>-0.351542</td>\n",
              "      <td>1</td>\n",
              "    </tr>\n",
              "    <tr>\n",
              "      <th>1</th>\n",
              "      <td>0.839427</td>\n",
              "      <td>-1.069518</td>\n",
              "      <td>-0.432655</td>\n",
              "      <td>-0.964800</td>\n",
              "      <td>0</td>\n",
              "    </tr>\n",
              "    <tr>\n",
              "      <th>2</th>\n",
              "      <td>0.557187</td>\n",
              "      <td>-0.921264</td>\n",
              "      <td>-0.379198</td>\n",
              "      <td>-0.003020</td>\n",
              "      <td>0</td>\n",
              "    </tr>\n",
              "    <tr>\n",
              "      <th>3</th>\n",
              "      <td>-0.694573</td>\n",
              "      <td>1.875495</td>\n",
              "      <td>0.533211</td>\n",
              "      <td>0.659735</td>\n",
              "      <td>1</td>\n",
              "    </tr>\n",
              "    <tr>\n",
              "      <th>4</th>\n",
              "      <td>-1.844339</td>\n",
              "      <td>-1.116098</td>\n",
              "      <td>1.074549</td>\n",
              "      <td>-0.156043</td>\n",
              "      <td>0</td>\n",
              "    </tr>\n",
              "  </tbody>\n",
              "</table>\n",
              "</div>\n",
              "    <div class=\"colab-df-buttons\">\n",
              "\n",
              "  <div class=\"colab-df-container\">\n",
              "    <button class=\"colab-df-convert\" onclick=\"convertToInteractive('df-78b7767d-9f19-4484-a45f-e97e61b8c419')\"\n",
              "            title=\"Convert this dataframe to an interactive table.\"\n",
              "            style=\"display:none;\">\n",
              "\n",
              "  <svg xmlns=\"http://www.w3.org/2000/svg\" height=\"24px\" viewBox=\"0 -960 960 960\">\n",
              "    <path d=\"M120-120v-720h720v720H120Zm60-500h600v-160H180v160Zm220 220h160v-160H400v160Zm0 220h160v-160H400v160ZM180-400h160v-160H180v160Zm440 0h160v-160H620v160ZM180-180h160v-160H180v160Zm440 0h160v-160H620v160Z\"/>\n",
              "  </svg>\n",
              "    </button>\n",
              "\n",
              "  <style>\n",
              "    .colab-df-container {\n",
              "      display:flex;\n",
              "      gap: 12px;\n",
              "    }\n",
              "\n",
              "    .colab-df-convert {\n",
              "      background-color: #E8F0FE;\n",
              "      border: none;\n",
              "      border-radius: 50%;\n",
              "      cursor: pointer;\n",
              "      display: none;\n",
              "      fill: #1967D2;\n",
              "      height: 32px;\n",
              "      padding: 0 0 0 0;\n",
              "      width: 32px;\n",
              "    }\n",
              "\n",
              "    .colab-df-convert:hover {\n",
              "      background-color: #E2EBFA;\n",
              "      box-shadow: 0px 1px 2px rgba(60, 64, 67, 0.3), 0px 1px 3px 1px rgba(60, 64, 67, 0.15);\n",
              "      fill: #174EA6;\n",
              "    }\n",
              "\n",
              "    .colab-df-buttons div {\n",
              "      margin-bottom: 4px;\n",
              "    }\n",
              "\n",
              "    [theme=dark] .colab-df-convert {\n",
              "      background-color: #3B4455;\n",
              "      fill: #D2E3FC;\n",
              "    }\n",
              "\n",
              "    [theme=dark] .colab-df-convert:hover {\n",
              "      background-color: #434B5C;\n",
              "      box-shadow: 0px 1px 3px 1px rgba(0, 0, 0, 0.15);\n",
              "      filter: drop-shadow(0px 1px 2px rgba(0, 0, 0, 0.3));\n",
              "      fill: #FFFFFF;\n",
              "    }\n",
              "  </style>\n",
              "\n",
              "    <script>\n",
              "      const buttonEl =\n",
              "        document.querySelector('#df-78b7767d-9f19-4484-a45f-e97e61b8c419 button.colab-df-convert');\n",
              "      buttonEl.style.display =\n",
              "        google.colab.kernel.accessAllowed ? 'block' : 'none';\n",
              "\n",
              "      async function convertToInteractive(key) {\n",
              "        const element = document.querySelector('#df-78b7767d-9f19-4484-a45f-e97e61b8c419');\n",
              "        const dataTable =\n",
              "          await google.colab.kernel.invokeFunction('convertToInteractive',\n",
              "                                                    [key], {});\n",
              "        if (!dataTable) return;\n",
              "\n",
              "        const docLinkHtml = 'Like what you see? Visit the ' +\n",
              "          '<a target=\"_blank\" href=https://colab.research.google.com/notebooks/data_table.ipynb>data table notebook</a>'\n",
              "          + ' to learn more about interactive tables.';\n",
              "        element.innerHTML = '';\n",
              "        dataTable['output_type'] = 'display_data';\n",
              "        await google.colab.output.renderOutput(dataTable, element);\n",
              "        const docLink = document.createElement('div');\n",
              "        docLink.innerHTML = docLinkHtml;\n",
              "        element.appendChild(docLink);\n",
              "      }\n",
              "    </script>\n",
              "  </div>\n",
              "\n",
              "\n",
              "<div id=\"df-1cb2a961-68de-425b-a9b5-4b0b87042e91\">\n",
              "  <button class=\"colab-df-quickchart\" onclick=\"quickchart('df-1cb2a961-68de-425b-a9b5-4b0b87042e91')\"\n",
              "            title=\"Suggest charts\"\n",
              "            style=\"display:none;\">\n",
              "\n",
              "<svg xmlns=\"http://www.w3.org/2000/svg\" height=\"24px\"viewBox=\"0 0 24 24\"\n",
              "     width=\"24px\">\n",
              "    <g>\n",
              "        <path d=\"M19 3H5c-1.1 0-2 .9-2 2v14c0 1.1.9 2 2 2h14c1.1 0 2-.9 2-2V5c0-1.1-.9-2-2-2zM9 17H7v-7h2v7zm4 0h-2V7h2v10zm4 0h-2v-4h2v4z\"/>\n",
              "    </g>\n",
              "</svg>\n",
              "  </button>\n",
              "\n",
              "<style>\n",
              "  .colab-df-quickchart {\n",
              "      --bg-color: #E8F0FE;\n",
              "      --fill-color: #1967D2;\n",
              "      --hover-bg-color: #E2EBFA;\n",
              "      --hover-fill-color: #174EA6;\n",
              "      --disabled-fill-color: #AAA;\n",
              "      --disabled-bg-color: #DDD;\n",
              "  }\n",
              "\n",
              "  [theme=dark] .colab-df-quickchart {\n",
              "      --bg-color: #3B4455;\n",
              "      --fill-color: #D2E3FC;\n",
              "      --hover-bg-color: #434B5C;\n",
              "      --hover-fill-color: #FFFFFF;\n",
              "      --disabled-bg-color: #3B4455;\n",
              "      --disabled-fill-color: #666;\n",
              "  }\n",
              "\n",
              "  .colab-df-quickchart {\n",
              "    background-color: var(--bg-color);\n",
              "    border: none;\n",
              "    border-radius: 50%;\n",
              "    cursor: pointer;\n",
              "    display: none;\n",
              "    fill: var(--fill-color);\n",
              "    height: 32px;\n",
              "    padding: 0;\n",
              "    width: 32px;\n",
              "  }\n",
              "\n",
              "  .colab-df-quickchart:hover {\n",
              "    background-color: var(--hover-bg-color);\n",
              "    box-shadow: 0 1px 2px rgba(60, 64, 67, 0.3), 0 1px 3px 1px rgba(60, 64, 67, 0.15);\n",
              "    fill: var(--button-hover-fill-color);\n",
              "  }\n",
              "\n",
              "  .colab-df-quickchart-complete:disabled,\n",
              "  .colab-df-quickchart-complete:disabled:hover {\n",
              "    background-color: var(--disabled-bg-color);\n",
              "    fill: var(--disabled-fill-color);\n",
              "    box-shadow: none;\n",
              "  }\n",
              "\n",
              "  .colab-df-spinner {\n",
              "    border: 2px solid var(--fill-color);\n",
              "    border-color: transparent;\n",
              "    border-bottom-color: var(--fill-color);\n",
              "    animation:\n",
              "      spin 1s steps(1) infinite;\n",
              "  }\n",
              "\n",
              "  @keyframes spin {\n",
              "    0% {\n",
              "      border-color: transparent;\n",
              "      border-bottom-color: var(--fill-color);\n",
              "      border-left-color: var(--fill-color);\n",
              "    }\n",
              "    20% {\n",
              "      border-color: transparent;\n",
              "      border-left-color: var(--fill-color);\n",
              "      border-top-color: var(--fill-color);\n",
              "    }\n",
              "    30% {\n",
              "      border-color: transparent;\n",
              "      border-left-color: var(--fill-color);\n",
              "      border-top-color: var(--fill-color);\n",
              "      border-right-color: var(--fill-color);\n",
              "    }\n",
              "    40% {\n",
              "      border-color: transparent;\n",
              "      border-right-color: var(--fill-color);\n",
              "      border-top-color: var(--fill-color);\n",
              "    }\n",
              "    60% {\n",
              "      border-color: transparent;\n",
              "      border-right-color: var(--fill-color);\n",
              "    }\n",
              "    80% {\n",
              "      border-color: transparent;\n",
              "      border-right-color: var(--fill-color);\n",
              "      border-bottom-color: var(--fill-color);\n",
              "    }\n",
              "    90% {\n",
              "      border-color: transparent;\n",
              "      border-bottom-color: var(--fill-color);\n",
              "    }\n",
              "  }\n",
              "</style>\n",
              "\n",
              "  <script>\n",
              "    async function quickchart(key) {\n",
              "      const quickchartButtonEl =\n",
              "        document.querySelector('#' + key + ' button');\n",
              "      quickchartButtonEl.disabled = true;  // To prevent multiple clicks.\n",
              "      quickchartButtonEl.classList.add('colab-df-spinner');\n",
              "      try {\n",
              "        const charts = await google.colab.kernel.invokeFunction(\n",
              "            'suggestCharts', [key], {});\n",
              "      } catch (error) {\n",
              "        console.error('Error during call to suggestCharts:', error);\n",
              "      }\n",
              "      quickchartButtonEl.classList.remove('colab-df-spinner');\n",
              "      quickchartButtonEl.classList.add('colab-df-quickchart-complete');\n",
              "    }\n",
              "    (() => {\n",
              "      let quickchartButtonEl =\n",
              "        document.querySelector('#df-1cb2a961-68de-425b-a9b5-4b0b87042e91 button');\n",
              "      quickchartButtonEl.style.display =\n",
              "        google.colab.kernel.accessAllowed ? 'block' : 'none';\n",
              "    })();\n",
              "  </script>\n",
              "</div>\n",
              "    </div>\n",
              "  </div>\n"
            ]
          },
          "metadata": {},
          "execution_count": 6
        },
        {
          "output_type": "stream",
          "name": "stdout",
          "text": [
            "time: 12.2 ms (started: 2023-11-12 17:19:43 +00:00)\n"
          ]
        }
      ]
    },
    {
      "cell_type": "code",
      "source": [
        "print(df_train.shape, df_test.shape)"
      ],
      "metadata": {
        "colab": {
          "base_uri": "https://localhost:8080/"
        },
        "id": "2GU9gx0U8H3u",
        "outputId": "eb612d58-af5c-46b4-bd75-2c3733140f09"
      },
      "execution_count": 7,
      "outputs": [
        {
          "output_type": "stream",
          "name": "stdout",
          "text": [
            "(800, 5) (200, 5)\n",
            "time: 657 µs (started: 2023-11-12 17:19:43 +00:00)\n"
          ]
        }
      ]
    },
    {
      "cell_type": "markdown",
      "source": [
        "## Datos Balanceados"
      ],
      "metadata": {
        "id": "8a2eCe-SOPN4"
      }
    },
    {
      "cell_type": "code",
      "source": [
        "df_train[\"Target\"].hist()"
      ],
      "metadata": {
        "colab": {
          "base_uri": "https://localhost:8080/",
          "height": 462
        },
        "id": "MtZcTjqYOELl",
        "outputId": "9bc9f5a6-9661-48e5-fc3a-36bac8231803"
      },
      "execution_count": 8,
      "outputs": [
        {
          "output_type": "execute_result",
          "data": {
            "text/plain": [
              "<Axes: >"
            ]
          },
          "metadata": {},
          "execution_count": 8
        },
        {
          "output_type": "display_data",
          "data": {
            "text/plain": [
              "<Figure size 640x480 with 1 Axes>"
            ],
            "image/png": "[encoded data removed]"
          },
          "metadata": {}
        },
        {
          "output_type": "stream",
          "name": "stdout",
          "text": [
            "time: 377 ms (started: 2023-11-12 17:19:43 +00:00)\n"
          ]
        }
      ]
    },
    {
      "cell_type": "code",
      "source": [
        "features = ['F1', 'F2', 'F3', 'F4']\n",
        "\n",
        "\n",
        "fig, axes = plt.subplots(2, 3, figsize=(10, 5))\n",
        "axes = axes.ravel()\n",
        "\n",
        "# Crear los gráficos\n",
        "for i, (feature1, feature2) in enumerate(combinations(features, 2)):\n",
        "    ax = axes[i]\n",
        "    scatter = ax.scatter(df_train[feature1], df_train[feature2], c=df_train['Target'])\n",
        "    ax.set_title(f'{feature1} vs {feature2}')\n",
        "    ax.set_xlabel(feature1)\n",
        "    ax.set_ylabel(feature2)\n",
        "\n",
        "\n",
        "for j in range(i+1, len(axes)):\n",
        "    fig.delaxes(axes[j])\n",
        "\n",
        "\n",
        "fig.colorbar(scatter, label='Target')\n",
        "\n",
        "# Mostrar el gráfico\n",
        "plt.tight_layout()  # Ajusta automáticamente los parámetros del subplot\n",
        "plt.show()\n"
      ],
      "metadata": {
        "colab": {
          "base_uri": "https://localhost:8080/",
          "height": 523
        },
        "id": "mrympHzYO69Q",
        "outputId": "c48954c5-0a2e-43e5-b300-3b74d06086b6"
      },
      "execution_count": 9,
      "outputs": [
        {
          "output_type": "display_data",
          "data": {
            "text/plain": [
              "<Figure size 1000x500 with 7 Axes>"
            ],
            "image/png": "[encoded data removed]"
          },
          "metadata": {}
        },
        {
          "output_type": "stream",
          "name": "stdout",
          "text": [
            "time: 1.71 s (started: 2023-11-12 17:19:43 +00:00)\n"
          ]
        }
      ]
    },
    {
      "cell_type": "markdown",
      "source": [
        "## PCA"
      ],
      "metadata": {
        "id": "Y7QuukA0iv8k"
      }
    },
    {
      "cell_type": "code",
      "source": [
        "from sklearn.decomposition import PCA\n",
        "pca = PCA()\n",
        "pca.fit(df_train)\n",
        "X = pca.transform(df_train)\n",
        "print(pca.explained_variance_)\n",
        "print(pca.explained_variance_ratio_ * 100)\n",
        "print(pca.explained_variance_ratio_.cumsum() *100)\n",
        "plt.plot(np.cumsum(pca.explained_variance_ratio_))\n",
        "plt.xlabel('Componentes')\n",
        "plt.ylabel('Varianza explicada Acumulada')\n",
        "# Con el pca, notamos que con dos dimensiones se puede explicar el 97 por ciento de la varianza de las muestras. Lo que se puede verificar en la propia gráfica anterior, ya que todas\n",
        "# combinaciones de dos dimensiones.\n",
        "# Ademas se hacen precisiones con un modelo de Arbol de Desición, la intención es demostrar que tanto de precisión, se pierde o gana como menos columnas."
      ],
      "metadata": {
        "colab": {
          "base_uri": "https://localhost:8080/",
          "height": 530
        },
        "id": "6KQBfLndbzGj",
        "outputId": "9d12abbc-30de-4105-f906-6549576db6da"
      },
      "execution_count": 10,
      "outputs": [
        {
          "output_type": "stream",
          "name": "stdout",
          "text": [
            "[1.49141493 1.07626371 0.98609999 0.92975252 0.0486541 ]\n",
            "[32.90719263 23.74712524 21.75771594 20.51444213  1.07352406]\n",
            "[ 32.90719263  56.65431787  78.41203381  98.92647594 100.        ]\n"
          ]
        },
        {
          "output_type": "execute_result",
          "data": {
            "text/plain": [
              "Text(0, 0.5, 'Varianza explicada Acumulada')"
            ]
          },
          "metadata": {},
          "execution_count": 10
        },
        {
          "output_type": "display_data",
          "data": {
            "text/plain": [
              "<Figure size 640x480 with 1 Axes>"
            ],
            "image/png": "[encoded data removed]"
          },
          "metadata": {}
        },
        {
          "output_type": "stream",
          "name": "stdout",
          "text": [
            "time: 399 ms (started: 2023-11-12 17:22:19 +00:00)\n"
          ]
        }
      ]
    },
    {
      "cell_type": "markdown",
      "source": [
        "Las 3 primeras columnas explican lo 98% de los datos para el tanto para El AngleEmbedding como el ZZFeaturedMap podriamos usar solo 3 qubits. Inicialmente probaremos con la totalidad pero más abajo veremos si el mejor modelo es uno de los, podriamos reducir el tiempo sin ver que se pierdo tanto acurracy"
      ],
      "metadata": {
        "id": "jZn6fCXgi0Y-"
      }
    },
    {
      "cell_type": "markdown",
      "source": [
        "## Datos adicionales de la composición de nuestros datos"
      ],
      "metadata": {
        "id": "73ROHmy4jYa7"
      }
    },
    {
      "cell_type": "code",
      "source": [
        "df_train.describe()"
      ],
      "metadata": {
        "colab": {
          "base_uri": "https://localhost:8080/",
          "height": 308
        },
        "id": "CQ71cy5kOa10",
        "outputId": "65bf6568-02b5-4a80-ceeb-bca9138c3a19"
      },
      "execution_count": 11,
      "outputs": [
        {
          "output_type": "execute_result",
          "data": {
            "text/plain": [
              "               F1          F2          F3          F4      Target\n",
              "count  800.000000  800.000000  800.000000  800.000000  800.000000\n",
              "mean    -0.022675    0.018758    0.011646   -0.020326    0.506250\n",
              "std      1.003272    1.128938    1.030749    0.968716    0.500274\n",
              "min     -3.118159   -1.263462   -3.213591   -3.197503    0.000000\n",
              "25%     -0.713586   -0.995735   -0.680477   -0.652490    0.000000\n",
              "50%     -0.021669   -0.508522   -0.003524   -0.011651    1.000000\n",
              "75%      0.660294    1.000536    0.694698    0.645487    1.000000\n",
              "max      2.879529    3.612707    3.561504    3.249360    1.000000"
            ],
            "text/html": [
              "\n",
              "  <div id=\"df-fe9a5d2f-983c-452c-9cd6-9e35a2fa4e12\" class=\"colab-df-container\">\n",
              "    <div>\n",
              "<style scoped>\n",
              "    .dataframe tbody tr th:only-of-type {\n",
              "        vertical-align: middle;\n",
              "    }\n",
              "\n",
              "    .dataframe tbody tr th {\n",
              "        vertical-align: top;\n",
              "    }\n",
              "\n",
              "    .dataframe thead th {\n",
              "        text-align: right;\n",
              "    }\n",
              "</style>\n",
              "<table border=\"1\" class=\"dataframe\">\n",
              "  <thead>\n",
              "    <tr style=\"text-align: right;\">\n",
              "      <th></th>\n",
              "      <th>F1</th>\n",
              "      <th>F2</th>\n",
              "      <th>F3</th>\n",
              "      <th>F4</th>\n",
              "      <th>Target</th>\n",
              "    </tr>\n",
              "  </thead>\n",
              "  <tbody>\n",
              "    <tr>\n",
              "      <th>count</th>\n",
              "      <td>800.000000</td>\n",
              "      <td>800.000000</td>\n",
              "      <td>800.000000</td>\n",
              "      <td>800.000000</td>\n",
              "      <td>800.000000</td>\n",
              "    </tr>\n",
              "    <tr>\n",
              "      <th>mean</th>\n",
              "      <td>-0.022675</td>\n",
              "      <td>0.018758</td>\n",
              "      <td>0.011646</td>\n",
              "      <td>-0.020326</td>\n",
              "      <td>0.506250</td>\n",
              "    </tr>\n",
              "    <tr>\n",
              "      <th>std</th>\n",
              "      <td>1.003272</td>\n",
              "      <td>1.128938</td>\n",
              "      <td>1.030749</td>\n",
              "      <td>0.968716</td>\n",
              "      <td>0.500274</td>\n",
              "    </tr>\n",
              "    <tr>\n",
              "      <th>min</th>\n",
              "      <td>-3.118159</td>\n",
              "      <td>-1.263462</td>\n",
              "      <td>-3.213591</td>\n",
              "      <td>-3.197503</td>\n",
              "      <td>0.000000</td>\n",
              "    </tr>\n",
              "    <tr>\n",
              "      <th>25%</th>\n",
              "      <td>-0.713586</td>\n",
              "      <td>-0.995735</td>\n",
              "      <td>-0.680477</td>\n",
              "      <td>-0.652490</td>\n",
              "      <td>0.000000</td>\n",
              "    </tr>\n",
              "    <tr>\n",
              "      <th>50%</th>\n",
              "      <td>-0.021669</td>\n",
              "      <td>-0.508522</td>\n",
              "      <td>-0.003524</td>\n",
              "      <td>-0.011651</td>\n",
              "      <td>1.000000</td>\n",
              "    </tr>\n",
              "    <tr>\n",
              "      <th>75%</th>\n",
              "      <td>0.660294</td>\n",
              "      <td>1.000536</td>\n",
              "      <td>0.694698</td>\n",
              "      <td>0.645487</td>\n",
              "      <td>1.000000</td>\n",
              "    </tr>\n",
              "    <tr>\n",
              "      <th>max</th>\n",
              "      <td>2.879529</td>\n",
              "      <td>3.612707</td>\n",
              "      <td>3.561504</td>\n",
              "      <td>3.249360</td>\n",
              "      <td>1.000000</td>\n",
              "    </tr>\n",
              "  </tbody>\n",
              "</table>\n",
              "</div>\n",
              "    <div class=\"colab-df-buttons\">\n",
              "\n",
              "  <div class=\"colab-df-container\">\n",
              "    <button class=\"colab-df-convert\" onclick=\"convertToInteractive('df-fe9a5d2f-983c-452c-9cd6-9e35a2fa4e12')\"\n",
              "            title=\"Convert this dataframe to an interactive table.\"\n",
              "            style=\"display:none;\">\n",
              "\n",
              "  <svg xmlns=\"http://www.w3.org/2000/svg\" height=\"24px\" viewBox=\"0 -960 960 960\">\n",
              "    <path d=\"M120-120v-720h720v720H120Zm60-500h600v-160H180v160Zm220 220h160v-160H400v160Zm0 220h160v-160H400v160ZM180-400h160v-160H180v160Zm440 0h160v-160H620v160ZM180-180h160v-160H180v160Zm440 0h160v-160H620v160Z\"/>\n",
              "  </svg>\n",
              "    </button>\n",
              "\n",
              "  <style>\n",
              "    .colab-df-container {\n",
              "      display:flex;\n",
              "      gap: 12px;\n",
              "    }\n",
              "\n",
              "    .colab-df-convert {\n",
              "      background-color: #E8F0FE;\n",
              "      border: none;\n",
              "      border-radius: 50%;\n",
              "      cursor: pointer;\n",
              "      display: none;\n",
              "      fill: #1967D2;\n",
              "      height: 32px;\n",
              "      padding: 0 0 0 0;\n",
              "      width: 32px;\n",
              "    }\n",
              "\n",
              "    .colab-df-convert:hover {\n",
              "      background-color: #E2EBFA;\n",
              "      box-shadow: 0px 1px 2px rgba(60, 64, 67, 0.3), 0px 1px 3px 1px rgba(60, 64, 67, 0.15);\n",
              "      fill: #174EA6;\n",
              "    }\n",
              "\n",
              "    .colab-df-buttons div {\n",
              "      margin-bottom: 4px;\n",
              "    }\n",
              "\n",
              "    [theme=dark] .colab-df-convert {\n",
              "      background-color: #3B4455;\n",
              "      fill: #D2E3FC;\n",
              "    }\n",
              "\n",
              "    [theme=dark] .colab-df-convert:hover {\n",
              "      background-color: #434B5C;\n",
              "      box-shadow: 0px 1px 3px 1px rgba(0, 0, 0, 0.15);\n",
              "      filter: drop-shadow(0px 1px 2px rgba(0, 0, 0, 0.3));\n",
              "      fill: #FFFFFF;\n",
              "    }\n",
              "  </style>\n",
              "\n",
              "    <script>\n",
              "      const buttonEl =\n",
              "        document.querySelector('#df-fe9a5d2f-983c-452c-9cd6-9e35a2fa4e12 button.colab-df-convert');\n",
              "      buttonEl.style.display =\n",
              "        google.colab.kernel.accessAllowed ? 'block' : 'none';\n",
              "\n",
              "      async function convertToInteractive(key) {\n",
              "        const element = document.querySelector('#df-fe9a5d2f-983c-452c-9cd6-9e35a2fa4e12');\n",
              "        const dataTable =\n",
              "          await google.colab.kernel.invokeFunction('convertToInteractive',\n",
              "                                                    [key], {});\n",
              "        if (!dataTable) return;\n",
              "\n",
              "        const docLinkHtml = 'Like what you see? Visit the ' +\n",
              "          '<a target=\"_blank\" href=https://colab.research.google.com/notebooks/data_table.ipynb>data table notebook</a>'\n",
              "          + ' to learn more about interactive tables.';\n",
              "        element.innerHTML = '';\n",
              "        dataTable['output_type'] = 'display_data';\n",
              "        await google.colab.output.renderOutput(dataTable, element);\n",
              "        const docLink = document.createElement('div');\n",
              "        docLink.innerHTML = docLinkHtml;\n",
              "        element.appendChild(docLink);\n",
              "      }\n",
              "    </script>\n",
              "  </div>\n",
              "\n",
              "\n",
              "<div id=\"df-9bbf18b4-8178-439d-99bc-5ffc2caf0cf0\">\n",
              "  <button class=\"colab-df-quickchart\" onclick=\"quickchart('df-9bbf18b4-8178-439d-99bc-5ffc2caf0cf0')\"\n",
              "            title=\"Suggest charts\"\n",
              "            style=\"display:none;\">\n",
              "\n",
              "<svg xmlns=\"http://www.w3.org/2000/svg\" height=\"24px\"viewBox=\"0 0 24 24\"\n",
              "     width=\"24px\">\n",
              "    <g>\n",
              "        <path d=\"M19 3H5c-1.1 0-2 .9-2 2v14c0 1.1.9 2 2 2h14c1.1 0 2-.9 2-2V5c0-1.1-.9-2-2-2zM9 17H7v-7h2v7zm4 0h-2V7h2v10zm4 0h-2v-4h2v4z\"/>\n",
              "    </g>\n",
              "</svg>\n",
              "  </button>\n",
              "\n",
              "<style>\n",
              "  .colab-df-quickchart {\n",
              "      --bg-color: #E8F0FE;\n",
              "      --fill-color: #1967D2;\n",
              "      --hover-bg-color: #E2EBFA;\n",
              "      --hover-fill-color: #174EA6;\n",
              "      --disabled-fill-color: #AAA;\n",
              "      --disabled-bg-color: #DDD;\n",
              "  }\n",
              "\n",
              "  [theme=dark] .colab-df-quickchart {\n",
              "      --bg-color: #3B4455;\n",
              "      --fill-color: #D2E3FC;\n",
              "      --hover-bg-color: #434B5C;\n",
              "      --hover-fill-color: #FFFFFF;\n",
              "      --disabled-bg-color: #3B4455;\n",
              "      --disabled-fill-color: #666;\n",
              "  }\n",
              "\n",
              "  .colab-df-quickchart {\n",
              "    background-color: var(--bg-color);\n",
              "    border: none;\n",
              "    border-radius: 50%;\n",
              "    cursor: pointer;\n",
              "    display: none;\n",
              "    fill: var(--fill-color);\n",
              "    height: 32px;\n",
              "    padding: 0;\n",
              "    width: 32px;\n",
              "  }\n",
              "\n",
              "  .colab-df-quickchart:hover {\n",
              "    background-color: var(--hover-bg-color);\n",
              "    box-shadow: 0 1px 2px rgba(60, 64, 67, 0.3), 0 1px 3px 1px rgba(60, 64, 67, 0.15);\n",
              "    fill: var(--button-hover-fill-color);\n",
              "  }\n",
              "\n",
              "  .colab-df-quickchart-complete:disabled,\n",
              "  .colab-df-quickchart-complete:disabled:hover {\n",
              "    background-color: var(--disabled-bg-color);\n",
              "    fill: var(--disabled-fill-color);\n",
              "    box-shadow: none;\n",
              "  }\n",
              "\n",
              "  .colab-df-spinner {\n",
              "    border: 2px solid var(--fill-color);\n",
              "    border-color: transparent;\n",
              "    border-bottom-color: var(--fill-color);\n",
              "    animation:\n",
              "      spin 1s steps(1) infinite;\n",
              "  }\n",
              "\n",
              "  @keyframes spin {\n",
              "    0% {\n",
              "      border-color: transparent;\n",
              "      border-bottom-color: var(--fill-color);\n",
              "      border-left-color: var(--fill-color);\n",
              "    }\n",
              "    20% {\n",
              "      border-color: transparent;\n",
              "      border-left-color: var(--fill-color);\n",
              "      border-top-color: var(--fill-color);\n",
              "    }\n",
              "    30% {\n",
              "      border-color: transparent;\n",
              "      border-left-color: var(--fill-color);\n",
              "      border-top-color: var(--fill-color);\n",
              "      border-right-color: var(--fill-color);\n",
              "    }\n",
              "    40% {\n",
              "      border-color: transparent;\n",
              "      border-right-color: var(--fill-color);\n",
              "      border-top-color: var(--fill-color);\n",
              "    }\n",
              "    60% {\n",
              "      border-color: transparent;\n",
              "      border-right-color: var(--fill-color);\n",
              "    }\n",
              "    80% {\n",
              "      border-color: transparent;\n",
              "      border-right-color: var(--fill-color);\n",
              "      border-bottom-color: var(--fill-color);\n",
              "    }\n",
              "    90% {\n",
              "      border-color: transparent;\n",
              "      border-bottom-color: var(--fill-color);\n",
              "    }\n",
              "  }\n",
              "</style>\n",
              "\n",
              "  <script>\n",
              "    async function quickchart(key) {\n",
              "      const quickchartButtonEl =\n",
              "        document.querySelector('#' + key + ' button');\n",
              "      quickchartButtonEl.disabled = true;  // To prevent multiple clicks.\n",
              "      quickchartButtonEl.classList.add('colab-df-spinner');\n",
              "      try {\n",
              "        const charts = await google.colab.kernel.invokeFunction(\n",
              "            'suggestCharts', [key], {});\n",
              "      } catch (error) {\n",
              "        console.error('Error during call to suggestCharts:', error);\n",
              "      }\n",
              "      quickchartButtonEl.classList.remove('colab-df-spinner');\n",
              "      quickchartButtonEl.classList.add('colab-df-quickchart-complete');\n",
              "    }\n",
              "    (() => {\n",
              "      let quickchartButtonEl =\n",
              "        document.querySelector('#df-9bbf18b4-8178-439d-99bc-5ffc2caf0cf0 button');\n",
              "      quickchartButtonEl.style.display =\n",
              "        google.colab.kernel.accessAllowed ? 'block' : 'none';\n",
              "    })();\n",
              "  </script>\n",
              "</div>\n",
              "    </div>\n",
              "  </div>\n"
            ]
          },
          "metadata": {},
          "execution_count": 11
        },
        {
          "output_type": "stream",
          "name": "stdout",
          "text": [
            "time: 22.1 ms (started: 2023-11-12 17:22:24 +00:00)\n"
          ]
        }
      ]
    },
    {
      "cell_type": "markdown",
      "source": [
        "## Prepapración de los datos"
      ],
      "metadata": {
        "id": "1IGOmjHSjdDy"
      }
    },
    {
      "cell_type": "code",
      "source": [
        "x_train = df_train.iloc[:, :-1].values\n",
        "y_train = df_train.iloc[:, -1].values\n",
        "x_test = df_test.iloc[:, :-1].values\n",
        "y_test = df_test.iloc[:, -1].values"
      ],
      "metadata": {
        "colab": {
          "base_uri": "https://localhost:8080/"
        },
        "id": "aAlpIfoGHGcf",
        "outputId": "9e0b9aeb-bc76-4adc-a568-f39ea84b3263"
      },
      "execution_count": 12,
      "outputs": [
        {
          "output_type": "stream",
          "name": "stdout",
          "text": [
            "time: 1.91 ms (started: 2023-11-12 17:22:31 +00:00)\n"
          ]
        }
      ]
    },
    {
      "cell_type": "code",
      "source": [
        "scaler = MaxAbsScaler()\n",
        "x_trscaler = scaler.fit_transform(x_train)"
      ],
      "metadata": {
        "colab": {
          "base_uri": "https://localhost:8080/"
        },
        "id": "zwq7rRLPQ977",
        "outputId": "2b91f65b-fdb6-4b1e-c81b-1aa8da48da03"
      },
      "execution_count": 13,
      "outputs": [
        {
          "output_type": "stream",
          "name": "stdout",
          "text": [
            "time: 1.35 ms (started: 2023-11-12 17:22:32 +00:00)\n"
          ]
        }
      ]
    },
    {
      "cell_type": "code",
      "source": [
        "df_train[\"Target\"].value_counts()"
      ],
      "metadata": {
        "colab": {
          "base_uri": "https://localhost:8080/"
        },
        "id": "eE0A61bRRg-p",
        "outputId": "8fedad46-1127-4d57-b817-4f84914a416e"
      },
      "execution_count": 14,
      "outputs": [
        {
          "output_type": "execute_result",
          "data": {
            "text/plain": [
              "1    405\n",
              "0    395\n",
              "Name: Target, dtype: int64"
            ]
          },
          "metadata": {},
          "execution_count": 14
        },
        {
          "output_type": "stream",
          "name": "stdout",
          "text": [
            "time: 5.46 ms (started: 2023-11-12 17:22:33 +00:00)\n"
          ]
        }
      ]
    },
    {
      "cell_type": "code",
      "source": [
        "x_trscaler"
      ],
      "metadata": {
        "colab": {
          "base_uri": "https://localhost:8080/"
        },
        "id": "LtKUqRIoR2hO",
        "outputId": "d482305b-297c-4acf-9025-a563fe354aec"
      },
      "execution_count": 15,
      "outputs": [
        {
          "output_type": "execute_result",
          "data": {
            "text/plain": [
              "array([[-0.09351405,  0.51335636, -0.06345758,  0.52156551],\n",
              "       [ 0.10503011,  0.43865928, -0.36516632,  0.14517601],\n",
              "       [ 0.07311527,  0.41852907, -0.18166023, -0.22887792],\n",
              "       ...,\n",
              "       [ 0.21745571, -0.28535903, -0.33957967,  0.39072768],\n",
              "       [-0.32939082,  0.14265007,  0.32825804, -0.47205864],\n",
              "       [ 0.27475071,  0.45982156,  0.03640087, -0.21937293]])"
            ]
          },
          "metadata": {},
          "execution_count": 15
        },
        {
          "output_type": "stream",
          "name": "stdout",
          "text": [
            "time: 4.26 ms (started: 2023-11-12 17:22:35 +00:00)\n"
          ]
        }
      ]
    },
    {
      "cell_type": "code",
      "source": [
        "x_tescaler = scaler.transform(x_test)"
      ],
      "metadata": {
        "id": "ljsAbX5WwAUu"
      },
      "execution_count": null,
      "outputs": []
    },
    {
      "cell_type": "code",
      "source": [
        "print(np.min(x_trscaler), np.max(x_trscaler))"
      ],
      "metadata": {
        "colab": {
          "base_uri": "https://localhost:8080/"
        },
        "id": "rKtvlIX6wWjp",
        "outputId": "46b27efd-c585-49a6-c29d-6900dada0bc3"
      },
      "execution_count": 17,
      "outputs": [
        {
          "output_type": "stream",
          "name": "stdout",
          "text": [
            "-1.0 1.0\n",
            "time: 1.14 ms (started: 2023-11-12 17:22:38 +00:00)\n"
          ]
        }
      ]
    },
    {
      "cell_type": "code",
      "source": [
        "print(np.min(x_tescaler), np.max(x_tescaler))"
      ],
      "metadata": {
        "colab": {
          "base_uri": "https://localhost:8080/"
        },
        "id": "pmbK84kjwMLW",
        "outputId": "bf8b99ed-02eb-4f0e-ecec-063565afd6e3"
      },
      "execution_count": 18,
      "outputs": [
        {
          "output_type": "stream",
          "name": "stdout",
          "text": [
            "-1.0 1.0\n",
            "time: 670 µs (started: 2023-11-12 17:22:39 +00:00)\n"
          ]
        }
      ]
    },
    {
      "cell_type": "markdown",
      "source": [
        "# Encodig"
      ],
      "metadata": {
        "id": "RaD0-RVuG6yZ"
      }
    },
    {
      "cell_type": "markdown",
      "source": [
        "## Amplitud Embedding"
      ],
      "metadata": {
        "id": "QbpoAiL2HzyR"
      }
    },
    {
      "cell_type": "code",
      "source": [
        "nqubits = 2\n",
        "dev = qml.device(\"lightning.gpu\", wires=nqubits)\n",
        "@qml.qnode(dev)\n",
        "def kernel_circuit_amplitude(a,b):\n",
        "  normalize= True\n",
        "  qml.AmplitudeEmbedding(a, wires=range(nqubits), normalize=normalize)\n",
        "  qml.adjoint( qml.AmplitudeEmbedding(b, wires=range(nqubits), normalize=normalize) )\n",
        "  return qml.probs(wires= range(nqubits))"
      ],
      "metadata": {
        "colab": {
          "base_uri": "https://localhost:8080/"
        },
        "id": "6x2erZtAG5yD",
        "outputId": "80712224-16a5-4f20-cf6b-20db9becb4d6"
      },
      "execution_count": null,
      "outputs": [
        {
          "output_type": "stream",
          "name": "stdout",
          "text": [
            "time: 4.87 ms (started: 2023-11-11 23:55:56 +00:00)\n"
          ]
        }
      ]
    },
    {
      "cell_type": "code",
      "source": [
        "drawer = qml.draw(kernel_circuit_amplitude)\n",
        "print(drawer(x_trscaler[0], x_trscaler[3]))"
      ],
      "metadata": {
        "colab": {
          "base_uri": "https://localhost:8080/"
        },
        "id": "8YNzpAcsQWpG",
        "outputId": "76caffc0-d70a-43e6-ea09-835fe71c033b"
      },
      "execution_count": null,
      "outputs": [
        {
          "output_type": "stream",
          "name": "stdout",
          "text": [
            "0: ─╭|Ψ⟩─╭|Ψ⟩†─┤ ╭Probs\n",
            "1: ─╰|Ψ⟩─╰|Ψ⟩†─┤ ╰Probs\n",
            "time: 45.5 ms (started: 2023-11-11 23:30:13 +00:00)\n"
          ]
        }
      ]
    },
    {
      "cell_type": "code",
      "source": [
        "kernel_circuit_amplitude(x_trscaler[0], x_trscaler[1]), kernel_circuit_amplitude(x_trscaler[0], x_trscaler[0])"
      ],
      "metadata": {
        "colab": {
          "base_uri": "https://localhost:8080/"
        },
        "id": "sam5tI9DQZ3T",
        "outputId": "7ed8eaf1-0fcc-43a1-8085-5351de8a5fd4"
      },
      "execution_count": null,
      "outputs": [
        {
          "output_type": "execute_result",
          "data": {
            "text/plain": [
              "(array([0.50326073, 0.38870318, 0.02799519, 0.0800409 ]),\n",
              " array([1.00000000e+00, 4.96867485e-32, 7.03479004e-33, 6.10562578e-32]))"
            ]
          },
          "metadata": {},
          "execution_count": 17
        },
        {
          "output_type": "stream",
          "name": "stdout",
          "text": [
            "time: 22 ms (started: 2023-11-11 23:30:15 +00:00)\n"
          ]
        }
      ]
    },
    {
      "cell_type": "markdown",
      "source": [
        "## Angle Embedding"
      ],
      "metadata": {
        "id": "WG5he1wluNYT"
      }
    },
    {
      "cell_type": "code",
      "source": [
        "nqubits = 4\n",
        "dev = qml.device(\"lightning.gpu\", wires=nqubits)\n",
        "@qml.qnode(dev)\n",
        "def kernel_circuit_angle(a,b):\n",
        "  qml.AngleEmbedding(a, wires=range(nqubits))\n",
        "  qml.adjoint( qml.AngleEmbedding(b, wires=range(nqubits)) )\n",
        "  return qml.probs(wires= range(nqubits))"
      ],
      "metadata": {
        "colab": {
          "base_uri": "https://localhost:8080/"
        },
        "id": "fap_mmmpuGEB",
        "outputId": "04e262bb-55ea-4904-b40a-62df2f8b236a"
      },
      "execution_count": null,
      "outputs": [
        {
          "output_type": "stream",
          "name": "stdout",
          "text": [
            "time: 6.67 ms (started: 2023-11-12 01:11:49 +00:00)\n"
          ]
        }
      ]
    },
    {
      "cell_type": "code",
      "source": [
        "drawer = qml.draw(kernel_circuit_angle)\n",
        "print(drawer(x_trscaler[0], x_trscaler[3]))"
      ],
      "metadata": {
        "colab": {
          "base_uri": "https://localhost:8080/"
        },
        "id": "7hP5JZNZFgeq",
        "outputId": "d49948cf-1bc6-435e-9b09-806eb2778c5f"
      },
      "execution_count": null,
      "outputs": [
        {
          "output_type": "stream",
          "name": "stdout",
          "text": [
            "0: ─╭AngleEmbedding(M0)─╭AngleEmbedding(M1)†─┤ ╭Probs\n",
            "1: ─├AngleEmbedding(M0)─├AngleEmbedding(M1)†─┤ ├Probs\n",
            "2: ─├AngleEmbedding(M0)─├AngleEmbedding(M1)†─┤ ├Probs\n",
            "3: ─╰AngleEmbedding(M0)─╰AngleEmbedding(M1)†─┤ ╰Probs\n",
            "M0 = \n",
            "[-0.09351405  0.51335636 -0.06345758  0.52156551]\n",
            "M1 = \n",
            "[-0.14544626  0.50351198 -0.24454744 -0.44697715]\n",
            "time: 84.8 ms (started: 2023-11-12 01:12:14 +00:00)\n"
          ]
        }
      ]
    },
    {
      "cell_type": "markdown",
      "source": [
        "## ZFeaturedMap"
      ],
      "metadata": {
        "id": "8CQ5kjVT0roS"
      }
    },
    {
      "cell_type": "code",
      "source": [
        "from itertools import combinations\n",
        "def ZZFeatureMap(nqubits, data):\n",
        "  nload = min(len(data), nqubits)\n",
        "  for i in range(nload):\n",
        "    qml.Hadamard(i)\n",
        "    qml.RZ(2* data[i], wires = i)\n",
        "  for pair in list(combinations(range(nload), 2 )):\n",
        "    q0 = pair[0]\n",
        "    q1 = pair[1]\n",
        "    qml.CZ(wires=[q0, q1])\n",
        "    qml.RZ(2* (np.pi -  data[q0]) * (np.pi -  data[q1]), wires = q1)\n",
        "    qml.CZ(wires = [q0, q1])\n",
        "\n",
        "\n",
        "nqubits = 4\n",
        "dev = qml.device(\"lightning.gpu\", wires=nqubits)\n",
        "@qml.qnode(dev)\n",
        "def kernel_circuit_zzfeature_map(a,b):\n",
        "  ZZFeatureMap(nqubits, a)\n",
        "  qml.adjoint(ZZFeatureMap)(nqubits, b)\n",
        "  return qml.probs(wires= range(nqubits))"
      ],
      "metadata": {
        "colab": {
          "base_uri": "https://localhost:8080/"
        },
        "id": "6xFyj3Sv0qt9",
        "outputId": "85f063bf-0c24-4545-adf7-e4ad1c691df6"
      },
      "execution_count": 44,
      "outputs": [
        {
          "output_type": "stream",
          "name": "stdout",
          "text": [
            "time: 10.6 ms (started: 2023-11-12 01:48:13 +00:00)\n"
          ]
        }
      ]
    },
    {
      "cell_type": "markdown",
      "source": [
        "# SVM"
      ],
      "metadata": {
        "id": "2sgwpGM1vfxr"
      }
    },
    {
      "cell_type": "code",
      "source": [
        "from sklearn import svm\n",
        "svm  = svm.SVC().fit(x_trscaler, y_train)"
      ],
      "metadata": {
        "colab": {
          "base_uri": "https://localhost:8080/"
        },
        "id": "34AuMvxxvdwR",
        "outputId": "b9fb7f68-7938-4ae6-a568-1cf8b896b109"
      },
      "execution_count": null,
      "outputs": [
        {
          "output_type": "stream",
          "name": "stdout",
          "text": [
            "time: 111 ms (started: 2023-11-11 23:41:46 +00:00)\n"
          ]
        }
      ]
    },
    {
      "cell_type": "code",
      "source": [
        "y_predict = svm.predict(x_tescaler)\n",
        "print(accuracy_score (y_predict, y_test ))"
      ],
      "metadata": {
        "colab": {
          "base_uri": "https://localhost:8080/"
        },
        "id": "xN1Uu6G1w2iy",
        "outputId": "1b064646-2ee2-4303-bb82-4c906429eee6"
      },
      "execution_count": null,
      "outputs": [
        {
          "output_type": "stream",
          "name": "stdout",
          "text": [
            "0.98\n",
            "time: 7.26 ms (started: 2023-11-11 23:42:09 +00:00)\n"
          ]
        }
      ]
    },
    {
      "cell_type": "markdown",
      "source": [
        "#QSVM"
      ],
      "metadata": {
        "id": "JsK_zX7c-ZFs"
      }
    },
    {
      "cell_type": "code",
      "source": [
        "x_trscaler.shape"
      ],
      "metadata": {
        "colab": {
          "base_uri": "https://localhost:8080/"
        },
        "id": "ppIZRi1vz3Ig",
        "outputId": "642d6ace-351a-4669-d258-a351454ff20f"
      },
      "execution_count": null,
      "outputs": [
        {
          "output_type": "execute_result",
          "data": {
            "text/plain": [
              "(800, 4)"
            ]
          },
          "metadata": {},
          "execution_count": 31
        },
        {
          "output_type": "stream",
          "name": "stdout",
          "text": [
            "time: 7.28 ms (started: 2023-11-11 23:55:11 +00:00)\n"
          ]
        }
      ]
    },
    {
      "cell_type": "code",
      "source": [
        "from sklearn.svm import SVC\n",
        "\n",
        "def qkernel(A, B):\n",
        "  return np.array([[ kernel_circuit_amplitude(a, b) [0] for b in B ] for a in A])\n",
        "\n",
        "svm = SVC(kernel = qkernel).fit(x_trscaler, y_train)"
      ],
      "metadata": {
        "colab": {
          "base_uri": "https://localhost:8080/"
        },
        "id": "kbPo8hSnukSL",
        "outputId": "891c1e7c-1f0d-4d52-d18f-e4f4f14da9de"
      },
      "execution_count": null,
      "outputs": [
        {
          "output_type": "stream",
          "name": "stdout",
          "text": [
            "time: 57min 16s (started: 2023-11-11 23:56:08 +00:00)\n"
          ]
        }
      ]
    },
    {
      "cell_type": "code",
      "source": [
        "y_predict = svm.predict(x_tescaler)\n",
        "print(accuracy_score(y_predict, y_test ))"
      ],
      "metadata": {
        "colab": {
          "base_uri": "https://localhost:8080/"
        },
        "id": "pkqogfvounhu",
        "outputId": "e4702225-d620-4043-c6f0-0c9b26b09353"
      },
      "execution_count": null,
      "outputs": [
        {
          "output_type": "stream",
          "name": "stdout",
          "text": [
            "0.51\n",
            "time: 13min 37s (started: 2023-11-12 00:54:28 +00:00)\n"
          ]
        }
      ]
    },
    {
      "cell_type": "code",
      "source": [
        "def qkernel(A, B):\n",
        "  return np.array([[ kernel_circuit_angle(a, b) [0] for b in B ] for a in A])\n",
        "\n",
        "svm = SVC(kernel = qkernel).fit(x_trscaler, y_train)"
      ],
      "metadata": {
        "colab": {
          "base_uri": "https://localhost:8080/"
        },
        "id": "Ezal-QX4E_lf",
        "outputId": "b4a2126f-d440-4aef-f86a-6ee8e320cd8b"
      },
      "execution_count": null,
      "outputs": [
        {
          "output_type": "stream",
          "name": "stdout",
          "text": [
            "time: 22min 1s (started: 2023-11-12 01:13:04 +00:00)\n"
          ]
        }
      ]
    },
    {
      "cell_type": "code",
      "source": [
        "y_predict = svm.predict(x_tescaler)\n",
        "print(accuracy_score(y_predict, y_test ))"
      ],
      "metadata": {
        "colab": {
          "base_uri": "https://localhost:8080/"
        },
        "id": "zsvXp4kfK5NA",
        "outputId": "c3f7cfe2-3611-4dd9-d641-a978250b6f54"
      },
      "execution_count": null,
      "outputs": [
        {
          "output_type": "stream",
          "name": "stdout",
          "text": [
            "0.975\n",
            "time: 5min 32s (started: 2023-11-12 01:35:44 +00:00)\n"
          ]
        }
      ]
    },
    {
      "cell_type": "code",
      "source": [
        "def qkernel(A, B):\n",
        "  return np.array([[ kernel_circuit_zzfeature_map(a, b) [0] for b in B ] for a in A])\n",
        "\n",
        "svm = SVC(kernel = qkernel).fit(x_trscaler, y_train)"
      ],
      "metadata": {
        "colab": {
          "base_uri": "https://localhost:8080/"
        },
        "id": "pn_VcihtM_MQ",
        "outputId": "42dc8077-2dd1-450c-97ff-f36dac60ac9c"
      },
      "execution_count": 45,
      "outputs": [
        {
          "output_type": "stream",
          "name": "stdout",
          "text": [
            "time: 1h 40min 39s (started: 2023-11-12 01:48:21 +00:00)\n"
          ]
        }
      ]
    },
    {
      "cell_type": "code",
      "source": [
        "y_predict = svm.predict(x_tescaler)\n",
        "print(accuracy_score(y_predict, y_test ))"
      ],
      "metadata": {
        "colab": {
          "base_uri": "https://localhost:8080/"
        },
        "id": "H1Aoq1IYZg3o",
        "outputId": "4362eb8b-a842-45f9-c9a1-32254e831f77"
      },
      "execution_count": 47,
      "outputs": [
        {
          "output_type": "stream",
          "name": "stdout",
          "text": [
            "0.785\n",
            "time: 24min 46s (started: 2023-11-12 03:35:15 +00:00)\n"
          ]
        }
      ]
    },
    {
      "cell_type": "markdown",
      "source": [
        "## ZZFeatureMap  - Qiskit"
      ],
      "metadata": {
        "id": "5crx018ftQxj"
      }
    },
    {
      "cell_type": "code",
      "source": [
        "from qiskit import *\n",
        "from qiskit.algorithms.state_fidelities import ComputeUncompute\n",
        "from qiskit.primitives import Sampler\n",
        "from qiskit.circuit.library import ZZFeatureMap\n",
        "from qiskit_machine_learning.kernels import FidelityQuantumKernel\n"
      ],
      "metadata": {
        "colab": {
          "base_uri": "https://localhost:8080/"
        },
        "id": "yEToIlxLvkNL",
        "outputId": "b5d09e2a-a917-4ae3-f997-4ccd7dbbda92"
      },
      "execution_count": 19,
      "outputs": [
        {
          "output_type": "stream",
          "name": "stdout",
          "text": [
            "time: 632 ms (started: 2023-11-12 17:23:06 +00:00)\n"
          ]
        },
        {
          "output_type": "stream",
          "name": "stderr",
          "text": [
            "<ipython-input-19-8c33754fbaa1>:2: DeprecationWarning: ``qiskit.algorithms`` has been migrated to an independent package: https://github.com/qiskit-community/qiskit-algorithms. The ``qiskit.algorithms`` import path is deprecated as of qiskit-terra 0.25.0 and will be removed no earlier than 3 months after the release date. Please run ``pip install qiskit_algorithms`` and use ``import qiskit_algorithms`` instead.\n",
            "  from qiskit.algorithms.state_fidelities import ComputeUncompute\n"
          ]
        }
      ]
    },
    {
      "cell_type": "code",
      "source": [
        "fidelity = ComputeUncompute(sampler=Sampler())\n",
        "zzfm = ZZFeatureMap(4)\n",
        "new_kernel = FidelityQuantumKernel(feature_map=zzfm, fidelity=fidelity)"
      ],
      "metadata": {
        "colab": {
          "base_uri": "https://localhost:8080/"
        },
        "id": "D3z8e8hMvm61",
        "outputId": "1566e86f-a724-4dd2-8d8b-cf24dc75e048"
      },
      "execution_count": 20,
      "outputs": [
        {
          "output_type": "stream",
          "name": "stdout",
          "text": [
            "time: 23.5 ms (started: 2023-11-12 17:23:07 +00:00)\n"
          ]
        }
      ]
    },
    {
      "cell_type": "code",
      "source": [
        "from qiskit_machine_learning.algorithms import QSVC\n",
        "qsvc = QSVC(quantum_kernel=new_kernel)\n",
        "qsvc.fit(x_trscaler, y_train)"
      ],
      "metadata": {
        "id": "Dw4THzXRv1OP"
      },
      "execution_count": null,
      "outputs": []
    },
    {
      "cell_type": "code",
      "source": [
        "y_predict = qsvc.predict(x_tescaler )\n",
        "print(accuracy_score(y_predict, y_test ))"
      ],
      "metadata": {
        "id": "62IkMHeNxevO"
      },
      "execution_count": null,
      "outputs": []
    },
    {
      "cell_type": "markdown",
      "source": [
        "## Modelo ganador AngleEmbedding con PCA"
      ],
      "metadata": {
        "id": "Y-X6Lmecl3f6"
      }
    },
    {
      "cell_type": "code",
      "source": [
        "nqubits = 3\n",
        "dev = qml.device(\"lightning.gpu\", wires=nqubits)\n",
        "@qml.qnode(dev)\n",
        "def kernel_circuit_angle(a,b):\n",
        "  qml.AngleEmbedding(a, wires=range(nqubits))\n",
        "  qml.adjoint( qml.AngleEmbedding(b, wires=range(nqubits)) )\n",
        "  return qml.probs(wires= range(nqubits))\n",
        "\n"
      ],
      "metadata": {
        "id": "U_1daa01l-0w"
      },
      "execution_count": null,
      "outputs": []
    },
    {
      "cell_type": "code",
      "source": [
        "x_train = df_train.iloc[:, :-2].values\n",
        "y_train = df_train.iloc[:, -1].values\n",
        "x_test = df_test.iloc[:, :-2].values\n",
        "y_test = df_test.iloc[:, -1].values"
      ],
      "metadata": {
        "id": "zQQ1_tV8moPR"
      },
      "execution_count": null,
      "outputs": []
    },
    {
      "cell_type": "code",
      "source": [
        "scaler = MaxAbsScaler()\n",
        "x_trscaler = scaler.fit_transform(x_train)\n",
        "x_tescaler = scaler.transform(x_test)"
      ],
      "metadata": {
        "id": "dt4UGsOEm1ih"
      },
      "execution_count": null,
      "outputs": []
    },
    {
      "cell_type": "code",
      "source": [
        "from sklearn.svm import SVC\n",
        "\n",
        "def qkernel(A, B):\n",
        "  return np.array([[ kernel_circuit_angle(a, b) [0] for b in B ] for a in A])\n",
        "\n",
        "svm = SVC(kernel = qkernel).fit(x_trscaler, y_train)"
      ],
      "metadata": {
        "id": "UZY0Mp0Pmp1z"
      },
      "execution_count": null,
      "outputs": []
    },
    {
      "cell_type": "markdown",
      "source": [
        "# Conclusiones"
      ],
      "metadata": {
        "id": "QuryYwjKdeaM"
      }
    },
    {
      "cell_type": "markdown",
      "source": [
        "Para este grupo de datos, la implementación funciona es el SVM clásico. El acuraccy es del 98%. En un tiempo de ajuste del modelo de 7.26 ms.\n",
        "\n",
        "Para los modelos tipo QSVM\n",
        "\n",
        "El modelo de embbeging ha sido mucho siendo el modelo aquel que aplica el AngleEmbbeding con un tiempo de compilación de 22min 1s y un 97.5% de acurracy\n",
        "\n"
      ],
      "metadata": {
        "id": "Iz8eHs0XeGzH"
      }
    }
  ]
}