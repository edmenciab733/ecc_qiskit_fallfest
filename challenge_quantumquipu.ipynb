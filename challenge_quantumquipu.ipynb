{
  "nbformat": 4,
  "nbformat_minor": 0,
  "metadata": {
    "colab": {
      "provenance": [],
      "gpuType": "V100",
      "authorship_tag": "ABX9TyPHlxnjlOZXe9JsTwMvaemF",
      "include_colab_link": true
    },
    "kernelspec": {
      "name": "python3",
      "display_name": "Python 3"
    },
    "language_info": {
      "name": "python"
    },
    "accelerator": "GPU"
  },
  "cells": [
    {
      "cell_type": "markdown",
      "metadata": {
        "id": "view-in-github",
        "colab_type": "text"
      },
      "source": [
        "<a href=\"https://colab.research.google.com/github/edmenciab733/ecc_qiskit_fallfest/blob/main/challenge_quantumquipu.ipynb\" target=\"_parent\"><img src=\"https://colab.research.google.com/assets/colab-badge.svg\" alt=\"Open In Colab\"/></a>"
      ]
    },
    {
      "cell_type": "code",
      "execution_count": 1,
      "metadata": {
        "id": "ry7Frv_w6bwv"
      },
      "outputs": [],
      "source": [
        "%%capture\n",
        "#!pip install qiskit\n",
        "!pip install pylatexenc\n",
        "#!pip install qiskit-aer\n",
        "!pip install pennylane\n",
        "!pip install ipython-autotime\n",
        "!python -m pip install pennylane pennylane-lightning-gpu custatevec-cu11 --upgrade"
      ]
    },
    {
      "cell_type": "code",
      "source": [
        "%load_ext autotime"
      ],
      "metadata": {
        "colab": {
          "base_uri": "https://localhost:8080/"
        },
        "id": "75S5Xf0fGJrK",
        "outputId": "7f42365d-0f88-411c-d350-5c12ab0959d3"
      },
      "execution_count": 2,
      "outputs": [
        {
          "output_type": "stream",
          "name": "stdout",
          "text": [
            "time: 314 µs (started: 2023-11-11 23:29:46 +00:00)\n"
          ]
        }
      ]
    },
    {
      "cell_type": "code",
      "source": [
        "\n",
        "import pandas as pd\n",
        "import pennylane  as qml\n",
        "from sklearn.metrics import accuracy_score\n",
        "from sklearn.preprocessing import MaxAbsScaler\n",
        "import numpy as np\n"
      ],
      "metadata": {
        "id": "OeMN9BmN6itJ",
        "colab": {
          "base_uri": "https://localhost:8080/"
        },
        "outputId": "aa9646cd-8168-46a3-9e00-e996cf5bbe7f"
      },
      "execution_count": 21,
      "outputs": [
        {
          "output_type": "stream",
          "name": "stdout",
          "text": [
            "time: 583 µs (started: 2023-11-11 23:40:15 +00:00)\n"
          ]
        }
      ]
    },
    {
      "cell_type": "code",
      "source": [
        "df_train = pd.read_csv(\"https://raw.githubusercontent.com/QuantumQuipu/QuantumChallenge/main/challenge_train.csv\")\n",
        "df_test = pd.read_csv(\"https://raw.githubusercontent.com/QuantumQuipu/QuantumChallenge/main/challenge_test.csv\")"
      ],
      "metadata": {
        "id": "Ywr0mu9d6vAA",
        "colab": {
          "base_uri": "https://localhost:8080/"
        },
        "outputId": "b4af7f56-fd99-4832-8ae2-82dc55ecdbf4"
      },
      "execution_count": 4,
      "outputs": [
        {
          "output_type": "stream",
          "name": "stdout",
          "text": [
            "time: 413 ms (started: 2023-11-11 23:29:49 +00:00)\n"
          ]
        }
      ]
    },
    {
      "cell_type": "code",
      "source": [
        "df_train.drop(df_train.columns[0], axis=1, inplace=True)\n",
        "df_test.drop(df_test.columns[0], axis=1, inplace=True)"
      ],
      "metadata": {
        "id": "Vdz-jlXC6vFR",
        "colab": {
          "base_uri": "https://localhost:8080/"
        },
        "outputId": "e28e9a67-eec6-4479-bc78-85d19e9d072d"
      },
      "execution_count": 5,
      "outputs": [
        {
          "output_type": "stream",
          "name": "stdout",
          "text": [
            "time: 15.6 ms (started: 2023-11-11 23:29:50 +00:00)\n"
          ]
        }
      ]
    },
    {
      "cell_type": "code",
      "source": [
        "df_test.head()"
      ],
      "metadata": {
        "colab": {
          "base_uri": "https://localhost:8080/",
          "height": 217
        },
        "id": "cpzkuCXT7dmF",
        "outputId": "a98b50e4-3da1-437a-c879-3b80b9df3e7b"
      },
      "execution_count": 6,
      "outputs": [
        {
          "output_type": "execute_result",
          "data": {
            "text/plain": [
              "         F1        F2        F3        F4  Target\n",
              "0  1.866088  1.574254  0.138930 -0.351542       1\n",
              "1  0.839427 -1.069518 -0.432655 -0.964800       0\n",
              "2  0.557187 -0.921264 -0.379198 -0.003020       0\n",
              "3 -0.694573  1.875495  0.533211  0.659735       1\n",
              "4 -1.844339 -1.116098  1.074549 -0.156043       0"
            ],
            "text/html": [
              "\n",
              "  <div id=\"df-dda568fa-d694-48be-b79c-26bc10312179\" class=\"colab-df-container\">\n",
              "    <div>\n",
              "<style scoped>\n",
              "    .dataframe tbody tr th:only-of-type {\n",
              "        vertical-align: middle;\n",
              "    }\n",
              "\n",
              "    .dataframe tbody tr th {\n",
              "        vertical-align: top;\n",
              "    }\n",
              "\n",
              "    .dataframe thead th {\n",
              "        text-align: right;\n",
              "    }\n",
              "</style>\n",
              "<table border=\"1\" class=\"dataframe\">\n",
              "  <thead>\n",
              "    <tr style=\"text-align: right;\">\n",
              "      <th></th>\n",
              "      <th>F1</th>\n",
              "      <th>F2</th>\n",
              "      <th>F3</th>\n",
              "      <th>F4</th>\n",
              "      <th>Target</th>\n",
              "    </tr>\n",
              "  </thead>\n",
              "  <tbody>\n",
              "    <tr>\n",
              "      <th>0</th>\n",
              "      <td>1.866088</td>\n",
              "      <td>1.574254</td>\n",
              "      <td>0.138930</td>\n",
              "      <td>-0.351542</td>\n",
              "      <td>1</td>\n",
              "    </tr>\n",
              "    <tr>\n",
              "      <th>1</th>\n",
              "      <td>0.839427</td>\n",
              "      <td>-1.069518</td>\n",
              "      <td>-0.432655</td>\n",
              "      <td>-0.964800</td>\n",
              "      <td>0</td>\n",
              "    </tr>\n",
              "    <tr>\n",
              "      <th>2</th>\n",
              "      <td>0.557187</td>\n",
              "      <td>-0.921264</td>\n",
              "      <td>-0.379198</td>\n",
              "      <td>-0.003020</td>\n",
              "      <td>0</td>\n",
              "    </tr>\n",
              "    <tr>\n",
              "      <th>3</th>\n",
              "      <td>-0.694573</td>\n",
              "      <td>1.875495</td>\n",
              "      <td>0.533211</td>\n",
              "      <td>0.659735</td>\n",
              "      <td>1</td>\n",
              "    </tr>\n",
              "    <tr>\n",
              "      <th>4</th>\n",
              "      <td>-1.844339</td>\n",
              "      <td>-1.116098</td>\n",
              "      <td>1.074549</td>\n",
              "      <td>-0.156043</td>\n",
              "      <td>0</td>\n",
              "    </tr>\n",
              "  </tbody>\n",
              "</table>\n",
              "</div>\n",
              "    <div class=\"colab-df-buttons\">\n",
              "\n",
              "  <div class=\"colab-df-container\">\n",
              "    <button class=\"colab-df-convert\" onclick=\"convertToInteractive('df-dda568fa-d694-48be-b79c-26bc10312179')\"\n",
              "            title=\"Convert this dataframe to an interactive table.\"\n",
              "            style=\"display:none;\">\n",
              "\n",
              "  <svg xmlns=\"http://www.w3.org/2000/svg\" height=\"24px\" viewBox=\"0 -960 960 960\">\n",
              "    <path d=\"M120-120v-720h720v720H120Zm60-500h600v-160H180v160Zm220 220h160v-160H400v160Zm0 220h160v-160H400v160ZM180-400h160v-160H180v160Zm440 0h160v-160H620v160ZM180-180h160v-160H180v160Zm440 0h160v-160H620v160Z\"/>\n",
              "  </svg>\n",
              "    </button>\n",
              "\n",
              "  <style>\n",
              "    .colab-df-container {\n",
              "      display:flex;\n",
              "      gap: 12px;\n",
              "    }\n",
              "\n",
              "    .colab-df-convert {\n",
              "      background-color: #E8F0FE;\n",
              "      border: none;\n",
              "      border-radius: 50%;\n",
              "      cursor: pointer;\n",
              "      display: none;\n",
              "      fill: #1967D2;\n",
              "      height: 32px;\n",
              "      padding: 0 0 0 0;\n",
              "      width: 32px;\n",
              "    }\n",
              "\n",
              "    .colab-df-convert:hover {\n",
              "      background-color: #E2EBFA;\n",
              "      box-shadow: 0px 1px 2px rgba(60, 64, 67, 0.3), 0px 1px 3px 1px rgba(60, 64, 67, 0.15);\n",
              "      fill: #174EA6;\n",
              "    }\n",
              "\n",
              "    .colab-df-buttons div {\n",
              "      margin-bottom: 4px;\n",
              "    }\n",
              "\n",
              "    [theme=dark] .colab-df-convert {\n",
              "      background-color: #3B4455;\n",
              "      fill: #D2E3FC;\n",
              "    }\n",
              "\n",
              "    [theme=dark] .colab-df-convert:hover {\n",
              "      background-color: #434B5C;\n",
              "      box-shadow: 0px 1px 3px 1px rgba(0, 0, 0, 0.15);\n",
              "      filter: drop-shadow(0px 1px 2px rgba(0, 0, 0, 0.3));\n",
              "      fill: #FFFFFF;\n",
              "    }\n",
              "  </style>\n",
              "\n",
              "    <script>\n",
              "      const buttonEl =\n",
              "        document.querySelector('#df-dda568fa-d694-48be-b79c-26bc10312179 button.colab-df-convert');\n",
              "      buttonEl.style.display =\n",
              "        google.colab.kernel.accessAllowed ? 'block' : 'none';\n",
              "\n",
              "      async function convertToInteractive(key) {\n",
              "        const element = document.querySelector('#df-dda568fa-d694-48be-b79c-26bc10312179');\n",
              "        const dataTable =\n",
              "          await google.colab.kernel.invokeFunction('convertToInteractive',\n",
              "                                                    [key], {});\n",
              "        if (!dataTable) return;\n",
              "\n",
              "        const docLinkHtml = 'Like what you see? Visit the ' +\n",
              "          '<a target=\"_blank\" href=https://colab.research.google.com/notebooks/data_table.ipynb>data table notebook</a>'\n",
              "          + ' to learn more about interactive tables.';\n",
              "        element.innerHTML = '';\n",
              "        dataTable['output_type'] = 'display_data';\n",
              "        await google.colab.output.renderOutput(dataTable, element);\n",
              "        const docLink = document.createElement('div');\n",
              "        docLink.innerHTML = docLinkHtml;\n",
              "        element.appendChild(docLink);\n",
              "      }\n",
              "    </script>\n",
              "  </div>\n",
              "\n",
              "\n",
              "<div id=\"df-c398588d-5bd2-4f77-b3d2-86ec4e269585\">\n",
              "  <button class=\"colab-df-quickchart\" onclick=\"quickchart('df-c398588d-5bd2-4f77-b3d2-86ec4e269585')\"\n",
              "            title=\"Suggest charts\"\n",
              "            style=\"display:none;\">\n",
              "\n",
              "<svg xmlns=\"http://www.w3.org/2000/svg\" height=\"24px\"viewBox=\"0 0 24 24\"\n",
              "     width=\"24px\">\n",
              "    <g>\n",
              "        <path d=\"M19 3H5c-1.1 0-2 .9-2 2v14c0 1.1.9 2 2 2h14c1.1 0 2-.9 2-2V5c0-1.1-.9-2-2-2zM9 17H7v-7h2v7zm4 0h-2V7h2v10zm4 0h-2v-4h2v4z\"/>\n",
              "    </g>\n",
              "</svg>\n",
              "  </button>\n",
              "\n",
              "<style>\n",
              "  .colab-df-quickchart {\n",
              "      --bg-color: #E8F0FE;\n",
              "      --fill-color: #1967D2;\n",
              "      --hover-bg-color: #E2EBFA;\n",
              "      --hover-fill-color: #174EA6;\n",
              "      --disabled-fill-color: #AAA;\n",
              "      --disabled-bg-color: #DDD;\n",
              "  }\n",
              "\n",
              "  [theme=dark] .colab-df-quickchart {\n",
              "      --bg-color: #3B4455;\n",
              "      --fill-color: #D2E3FC;\n",
              "      --hover-bg-color: #434B5C;\n",
              "      --hover-fill-color: #FFFFFF;\n",
              "      --disabled-bg-color: #3B4455;\n",
              "      --disabled-fill-color: #666;\n",
              "  }\n",
              "\n",
              "  .colab-df-quickchart {\n",
              "    background-color: var(--bg-color);\n",
              "    border: none;\n",
              "    border-radius: 50%;\n",
              "    cursor: pointer;\n",
              "    display: none;\n",
              "    fill: var(--fill-color);\n",
              "    height: 32px;\n",
              "    padding: 0;\n",
              "    width: 32px;\n",
              "  }\n",
              "\n",
              "  .colab-df-quickchart:hover {\n",
              "    background-color: var(--hover-bg-color);\n",
              "    box-shadow: 0 1px 2px rgba(60, 64, 67, 0.3), 0 1px 3px 1px rgba(60, 64, 67, 0.15);\n",
              "    fill: var(--button-hover-fill-color);\n",
              "  }\n",
              "\n",
              "  .colab-df-quickchart-complete:disabled,\n",
              "  .colab-df-quickchart-complete:disabled:hover {\n",
              "    background-color: var(--disabled-bg-color);\n",
              "    fill: var(--disabled-fill-color);\n",
              "    box-shadow: none;\n",
              "  }\n",
              "\n",
              "  .colab-df-spinner {\n",
              "    border: 2px solid var(--fill-color);\n",
              "    border-color: transparent;\n",
              "    border-bottom-color: var(--fill-color);\n",
              "    animation:\n",
              "      spin 1s steps(1) infinite;\n",
              "  }\n",
              "\n",
              "  @keyframes spin {\n",
              "    0% {\n",
              "      border-color: transparent;\n",
              "      border-bottom-color: var(--fill-color);\n",
              "      border-left-color: var(--fill-color);\n",
              "    }\n",
              "    20% {\n",
              "      border-color: transparent;\n",
              "      border-left-color: var(--fill-color);\n",
              "      border-top-color: var(--fill-color);\n",
              "    }\n",
              "    30% {\n",
              "      border-color: transparent;\n",
              "      border-left-color: var(--fill-color);\n",
              "      border-top-color: var(--fill-color);\n",
              "      border-right-color: var(--fill-color);\n",
              "    }\n",
              "    40% {\n",
              "      border-color: transparent;\n",
              "      border-right-color: var(--fill-color);\n",
              "      border-top-color: var(--fill-color);\n",
              "    }\n",
              "    60% {\n",
              "      border-color: transparent;\n",
              "      border-right-color: var(--fill-color);\n",
              "    }\n",
              "    80% {\n",
              "      border-color: transparent;\n",
              "      border-right-color: var(--fill-color);\n",
              "      border-bottom-color: var(--fill-color);\n",
              "    }\n",
              "    90% {\n",
              "      border-color: transparent;\n",
              "      border-bottom-color: var(--fill-color);\n",
              "    }\n",
              "  }\n",
              "</style>\n",
              "\n",
              "  <script>\n",
              "    async function quickchart(key) {\n",
              "      const quickchartButtonEl =\n",
              "        document.querySelector('#' + key + ' button');\n",
              "      quickchartButtonEl.disabled = true;  // To prevent multiple clicks.\n",
              "      quickchartButtonEl.classList.add('colab-df-spinner');\n",
              "      try {\n",
              "        const charts = await google.colab.kernel.invokeFunction(\n",
              "            'suggestCharts', [key], {});\n",
              "      } catch (error) {\n",
              "        console.error('Error during call to suggestCharts:', error);\n",
              "      }\n",
              "      quickchartButtonEl.classList.remove('colab-df-spinner');\n",
              "      quickchartButtonEl.classList.add('colab-df-quickchart-complete');\n",
              "    }\n",
              "    (() => {\n",
              "      let quickchartButtonEl =\n",
              "        document.querySelector('#df-c398588d-5bd2-4f77-b3d2-86ec4e269585 button');\n",
              "      quickchartButtonEl.style.display =\n",
              "        google.colab.kernel.accessAllowed ? 'block' : 'none';\n",
              "    })();\n",
              "  </script>\n",
              "</div>\n",
              "    </div>\n",
              "  </div>\n"
            ]
          },
          "metadata": {},
          "execution_count": 6
        },
        {
          "output_type": "stream",
          "name": "stdout",
          "text": [
            "time: 14.8 ms (started: 2023-11-11 23:29:50 +00:00)\n"
          ]
        }
      ]
    },
    {
      "cell_type": "code",
      "source": [
        "df_train.shape, df_test.shape"
      ],
      "metadata": {
        "colab": {
          "base_uri": "https://localhost:8080/"
        },
        "id": "2GU9gx0U8H3u",
        "outputId": "8744b017-6fb4-46b7-8e06-ef8dd1fdee81"
      },
      "execution_count": 7,
      "outputs": [
        {
          "output_type": "execute_result",
          "data": {
            "text/plain": [
              "((800, 5), (200, 5))"
            ]
          },
          "metadata": {},
          "execution_count": 7
        },
        {
          "output_type": "stream",
          "name": "stdout",
          "text": [
            "time: 3.59 ms (started: 2023-11-11 23:29:50 +00:00)\n"
          ]
        }
      ]
    },
    {
      "cell_type": "code",
      "source": [
        "df_train.describe()\n",
        "\n",
        "x_train = df_train.iloc[:, :-1].values\n",
        "y_train = df_train.iloc[:, -1].values\n",
        "x_test = df_test.iloc[:, :-1].values\n",
        "y_test = df_test.iloc[:, -1].values"
      ],
      "metadata": {
        "colab": {
          "base_uri": "https://localhost:8080/"
        },
        "id": "aAlpIfoGHGcf",
        "outputId": "d7a27656-f552-4406-89d3-df981f5eb05d"
      },
      "execution_count": 8,
      "outputs": [
        {
          "output_type": "stream",
          "name": "stdout",
          "text": [
            "time: 19.4 ms (started: 2023-11-11 23:29:50 +00:00)\n"
          ]
        }
      ]
    },
    {
      "cell_type": "code",
      "source": [
        "scaler = MaxAbsScaler()\n",
        "x_trscaler = scaler.fit_transform(x_train)"
      ],
      "metadata": {
        "colab": {
          "base_uri": "https://localhost:8080/"
        },
        "id": "zwq7rRLPQ977",
        "outputId": "cdf330f0-e73c-41b1-b91c-ae663ead9ada"
      },
      "execution_count": 9,
      "outputs": [
        {
          "output_type": "stream",
          "name": "stdout",
          "text": [
            "time: 1.64 ms (started: 2023-11-11 23:29:50 +00:00)\n"
          ]
        }
      ]
    },
    {
      "cell_type": "code",
      "source": [
        "df_train[\"Target\"].value_counts()"
      ],
      "metadata": {
        "colab": {
          "base_uri": "https://localhost:8080/"
        },
        "id": "eE0A61bRRg-p",
        "outputId": "e5601567-12f7-4da9-fa57-aafed3f70a11"
      },
      "execution_count": 10,
      "outputs": [
        {
          "output_type": "execute_result",
          "data": {
            "text/plain": [
              "1    405\n",
              "0    395\n",
              "Name: Target, dtype: int64"
            ]
          },
          "metadata": {},
          "execution_count": 10
        },
        {
          "output_type": "stream",
          "name": "stdout",
          "text": [
            "time: 4.35 ms (started: 2023-11-11 23:29:50 +00:00)\n"
          ]
        }
      ]
    },
    {
      "cell_type": "code",
      "source": [
        "x_trscaler"
      ],
      "metadata": {
        "colab": {
          "base_uri": "https://localhost:8080/"
        },
        "id": "LtKUqRIoR2hO",
        "outputId": "e46a8075-e524-40f4-e5b3-8b1a85acdd04"
      },
      "execution_count": 11,
      "outputs": [
        {
          "output_type": "execute_result",
          "data": {
            "text/plain": [
              "array([[-0.09351405,  0.51335636, -0.06345758,  0.52156551],\n",
              "       [ 0.10503011,  0.43865928, -0.36516632,  0.14517601],\n",
              "       [ 0.07311527,  0.41852907, -0.18166023, -0.22887792],\n",
              "       ...,\n",
              "       [ 0.21745571, -0.28535903, -0.33957967,  0.39072768],\n",
              "       [-0.32939082,  0.14265007,  0.32825804, -0.47205864],\n",
              "       [ 0.27475071,  0.45982156,  0.03640087, -0.21937293]])"
            ]
          },
          "metadata": {},
          "execution_count": 11
        },
        {
          "output_type": "stream",
          "name": "stdout",
          "text": [
            "time: 5.97 ms (started: 2023-11-11 23:29:50 +00:00)\n"
          ]
        }
      ]
    },
    {
      "cell_type": "code",
      "source": [
        "x_tescaler = scaler.fit_transform(x_test)"
      ],
      "metadata": {
        "colab": {
          "base_uri": "https://localhost:8080/"
        },
        "id": "ljsAbX5WwAUu",
        "outputId": "ffc5c931-2d4e-4acc-c3f3-9795f5e14a41"
      },
      "execution_count": 19,
      "outputs": [
        {
          "output_type": "stream",
          "name": "stdout",
          "text": [
            "time: 1.42 ms (started: 2023-11-11 23:38:57 +00:00)\n"
          ]
        }
      ]
    },
    {
      "cell_type": "code",
      "source": [
        "np.min(x_trscaler), np.max(x_trscaler)"
      ],
      "metadata": {
        "colab": {
          "base_uri": "https://localhost:8080/"
        },
        "id": "rKtvlIX6wWjp",
        "outputId": "1e79b361-ffda-497b-9810-dd1b94527d52"
      },
      "execution_count": 23,
      "outputs": [
        {
          "output_type": "execute_result",
          "data": {
            "text/plain": [
              "(-1.0, 1.0)"
            ]
          },
          "metadata": {},
          "execution_count": 23
        },
        {
          "output_type": "stream",
          "name": "stdout",
          "text": [
            "time: 3.56 ms (started: 2023-11-11 23:40:32 +00:00)\n"
          ]
        }
      ]
    },
    {
      "cell_type": "code",
      "source": [
        "np.min(x_tescaler), np.max(x_tescaler)"
      ],
      "metadata": {
        "colab": {
          "base_uri": "https://localhost:8080/"
        },
        "id": "pmbK84kjwMLW",
        "outputId": "94821d90-2a68-44e8-8207-960673d19ee5"
      },
      "execution_count": 25,
      "outputs": [
        {
          "output_type": "execute_result",
          "data": {
            "text/plain": [
              "(-1.0, 1.0)"
            ]
          },
          "metadata": {},
          "execution_count": 25
        },
        {
          "output_type": "stream",
          "name": "stdout",
          "text": [
            "time: 5.58 ms (started: 2023-11-11 23:41:08 +00:00)\n"
          ]
        }
      ]
    },
    {
      "cell_type": "markdown",
      "source": [
        "# Encodig"
      ],
      "metadata": {
        "id": "RaD0-RVuG6yZ"
      }
    },
    {
      "cell_type": "markdown",
      "source": [
        "## Amplitud Embedding"
      ],
      "metadata": {
        "id": "QbpoAiL2HzyR"
      }
    },
    {
      "cell_type": "code",
      "source": [
        "nqubits = 2\n",
        "dev = qml.device(\"lightning.gpu\", wires=nqubits)\n",
        "@qml.qnode(dev)\n",
        "def kernel_circuit_amplitude(a,b):\n",
        "  normalize= True\n",
        "  qml.AmplitudeEmbedding(a, wires=range(nqubits), normalize=normalize)\n",
        "  qml.adjoint( qml.AmplitudeEmbedding(b, wires=range(nqubits), normalize=normalize) )\n",
        "  return qml.probs(wires= range(nqubits))"
      ],
      "metadata": {
        "colab": {
          "base_uri": "https://localhost:8080/"
        },
        "id": "6x2erZtAG5yD",
        "outputId": "80712224-16a5-4f20-cf6b-20db9becb4d6"
      },
      "execution_count": 32,
      "outputs": [
        {
          "output_type": "stream",
          "name": "stdout",
          "text": [
            "time: 4.87 ms (started: 2023-11-11 23:55:56 +00:00)\n"
          ]
        }
      ]
    },
    {
      "cell_type": "code",
      "source": [
        "drawer = qml.draw(kernel_circuit_amplitude)\n",
        "print(drawer(x_trscaler[0], x_trscaler[3]))"
      ],
      "metadata": {
        "colab": {
          "base_uri": "https://localhost:8080/"
        },
        "id": "8YNzpAcsQWpG",
        "outputId": "76caffc0-d70a-43e6-ea09-835fe71c033b"
      },
      "execution_count": 16,
      "outputs": [
        {
          "output_type": "stream",
          "name": "stdout",
          "text": [
            "0: ─╭|Ψ⟩─╭|Ψ⟩†─┤ ╭Probs\n",
            "1: ─╰|Ψ⟩─╰|Ψ⟩†─┤ ╰Probs\n",
            "time: 45.5 ms (started: 2023-11-11 23:30:13 +00:00)\n"
          ]
        }
      ]
    },
    {
      "cell_type": "code",
      "source": [
        "kernel_circuit_amplitude(x_trscaler[0], x_trscaler[1]), kernel_circuit_amplitude(x_trscaler[0], x_trscaler[0])"
      ],
      "metadata": {
        "colab": {
          "base_uri": "https://localhost:8080/"
        },
        "id": "sam5tI9DQZ3T",
        "outputId": "7ed8eaf1-0fcc-43a1-8085-5351de8a5fd4"
      },
      "execution_count": 17,
      "outputs": [
        {
          "output_type": "execute_result",
          "data": {
            "text/plain": [
              "(array([0.50326073, 0.38870318, 0.02799519, 0.0800409 ]),\n",
              " array([1.00000000e+00, 4.96867485e-32, 7.03479004e-33, 6.10562578e-32]))"
            ]
          },
          "metadata": {},
          "execution_count": 17
        },
        {
          "output_type": "stream",
          "name": "stdout",
          "text": [
            "time: 22 ms (started: 2023-11-11 23:30:15 +00:00)\n"
          ]
        }
      ]
    },
    {
      "cell_type": "markdown",
      "source": [
        "## Angle Embedding"
      ],
      "metadata": {
        "id": "WG5he1wluNYT"
      }
    },
    {
      "cell_type": "code",
      "source": [
        "nqubits = 4\n",
        "dev = qml.device(\"lightning.gpu\", wires=nqubits)\n",
        "@qml.qnode(dev)\n",
        "def kernel_circuit_angle(a,b):\n",
        "  normalize= True\n",
        "  qml.AngleEmbedding(a, wires=range(nqubits))\n",
        "  qml.adjoint( qml.AngleEmbedding(b, wires=range(nqubits)) )\n",
        "  return qml.probs(wires= range(nqubits))"
      ],
      "metadata": {
        "colab": {
          "base_uri": "https://localhost:8080/"
        },
        "id": "fap_mmmpuGEB",
        "outputId": "04e262bb-55ea-4904-b40a-62df2f8b236a"
      },
      "execution_count": 38,
      "outputs": [
        {
          "output_type": "stream",
          "name": "stdout",
          "text": [
            "time: 6.67 ms (started: 2023-11-12 01:11:49 +00:00)\n"
          ]
        }
      ]
    },
    {
      "cell_type": "code",
      "source": [
        "drawer = qml.draw(kernel_circuit_angle)\n",
        "print(drawer(x_trscaler[0], x_trscaler[3]))"
      ],
      "metadata": {
        "colab": {
          "base_uri": "https://localhost:8080/"
        },
        "id": "7hP5JZNZFgeq",
        "outputId": "d49948cf-1bc6-435e-9b09-806eb2778c5f"
      },
      "execution_count": 39,
      "outputs": [
        {
          "output_type": "stream",
          "name": "stdout",
          "text": [
            "0: ─╭AngleEmbedding(M0)─╭AngleEmbedding(M1)†─┤ ╭Probs\n",
            "1: ─├AngleEmbedding(M0)─├AngleEmbedding(M1)†─┤ ├Probs\n",
            "2: ─├AngleEmbedding(M0)─├AngleEmbedding(M1)†─┤ ├Probs\n",
            "3: ─╰AngleEmbedding(M0)─╰AngleEmbedding(M1)†─┤ ╰Probs\n",
            "M0 = \n",
            "[-0.09351405  0.51335636 -0.06345758  0.52156551]\n",
            "M1 = \n",
            "[-0.14544626  0.50351198 -0.24454744 -0.44697715]\n",
            "time: 84.8 ms (started: 2023-11-12 01:12:14 +00:00)\n"
          ]
        }
      ]
    },
    {
      "cell_type": "markdown",
      "source": [
        "## ZFeaturedMap"
      ],
      "metadata": {
        "id": "8CQ5kjVT0roS"
      }
    },
    {
      "cell_type": "code",
      "source": [
        "from itertools import combinations\n",
        "def ZZFeatureMap(nqubits, data):\n",
        "  nload = min(len(data), nqubits)\n",
        "  for i in range(nload):\n",
        "    qml.Hadamard(i)\n",
        "    qml.RZ(2* data[i], wire = i)\n",
        "  for pair in list(combinations(range(nload), 2 )):\n",
        "    q0 = pair[0]\n",
        "    q1 = pair[1]\n",
        "    qml.CZ(wires=[q0, q1])\n",
        "    qml.RZ(2* (np.pi -  data[q0]) * (np.pi -  data[q1]), wires = q1)\n",
        "    qml.CZ(wires = [q0, q1])\n",
        "\n",
        "\n",
        "nqubits = 4\n",
        "dev = qml.device(\"lightning.gpu\", wires=nqubits)\n",
        "@qml.qnode(dev)\n",
        "def kernel_circuit_zzfeature_map(a,b):\n",
        "  normalize= True\n",
        "  ZZFeatureMap(nqubits, a)\n",
        "  qml.adjoint(ZZFeatureMap)(nqubits, b)\n",
        "  return qml.probs(wires= range(nqubits))"
      ],
      "metadata": {
        "colab": {
          "base_uri": "https://localhost:8080/"
        },
        "id": "6xFyj3Sv0qt9",
        "outputId": "66a0bce9-2211-4d3d-c5f0-5dffe57c6853"
      },
      "execution_count": 35,
      "outputs": [
        {
          "output_type": "stream",
          "name": "stdout",
          "text": [
            "time: 8.35 ms (started: 2023-11-12 01:10:03 +00:00)\n"
          ]
        }
      ]
    },
    {
      "cell_type": "markdown",
      "source": [
        "# SVM"
      ],
      "metadata": {
        "id": "2sgwpGM1vfxr"
      }
    },
    {
      "cell_type": "code",
      "source": [
        "from sklearn import svm\n",
        "svm  = svm.SVC().fit(x_trscaler, y_train)"
      ],
      "metadata": {
        "colab": {
          "base_uri": "https://localhost:8080/"
        },
        "id": "34AuMvxxvdwR",
        "outputId": "b9fb7f68-7938-4ae6-a568-1cf8b896b109"
      },
      "execution_count": 26,
      "outputs": [
        {
          "output_type": "stream",
          "name": "stdout",
          "text": [
            "time: 111 ms (started: 2023-11-11 23:41:46 +00:00)\n"
          ]
        }
      ]
    },
    {
      "cell_type": "code",
      "source": [
        "y_predict = svm.predict(x_tescaler)\n",
        "print(accuracy_score (y_predict, y_test ))"
      ],
      "metadata": {
        "colab": {
          "base_uri": "https://localhost:8080/"
        },
        "id": "xN1Uu6G1w2iy",
        "outputId": "1b064646-2ee2-4303-bb82-4c906429eee6"
      },
      "execution_count": 27,
      "outputs": [
        {
          "output_type": "stream",
          "name": "stdout",
          "text": [
            "0.98\n",
            "time: 7.26 ms (started: 2023-11-11 23:42:09 +00:00)\n"
          ]
        }
      ]
    },
    {
      "cell_type": "markdown",
      "source": [
        "#QSVM"
      ],
      "metadata": {
        "id": "JsK_zX7c-ZFs"
      }
    },
    {
      "cell_type": "code",
      "source": [
        "x_trscaler.shape"
      ],
      "metadata": {
        "colab": {
          "base_uri": "https://localhost:8080/"
        },
        "id": "ppIZRi1vz3Ig",
        "outputId": "642d6ace-351a-4669-d258-a351454ff20f"
      },
      "execution_count": 31,
      "outputs": [
        {
          "output_type": "execute_result",
          "data": {
            "text/plain": [
              "(800, 4)"
            ]
          },
          "metadata": {},
          "execution_count": 31
        },
        {
          "output_type": "stream",
          "name": "stdout",
          "text": [
            "time: 7.28 ms (started: 2023-11-11 23:55:11 +00:00)\n"
          ]
        }
      ]
    },
    {
      "cell_type": "code",
      "source": [
        "from sklearn.svm import SVC\n",
        "\n",
        "def qkernel(A, B):\n",
        "  return np.array([[ kernel_circuit_amplitude(a, b) [0] for b in B ] for a in A])\n",
        "\n",
        "svm = SVC(kernel = qkernel).fit(x_trscaler, y_train)"
      ],
      "metadata": {
        "colab": {
          "base_uri": "https://localhost:8080/"
        },
        "id": "kbPo8hSnukSL",
        "outputId": "891c1e7c-1f0d-4d52-d18f-e4f4f14da9de"
      },
      "execution_count": 33,
      "outputs": [
        {
          "output_type": "stream",
          "name": "stdout",
          "text": [
            "time: 57min 16s (started: 2023-11-11 23:56:08 +00:00)\n"
          ]
        }
      ]
    },
    {
      "cell_type": "code",
      "source": [
        "y_predict = svm.predict(x_tescaler)\n",
        "print(accuracy_score(y_predict, y_test ))"
      ],
      "metadata": {
        "colab": {
          "base_uri": "https://localhost:8080/"
        },
        "id": "pkqogfvounhu",
        "outputId": "e4702225-d620-4043-c6f0-0c9b26b09353"
      },
      "execution_count": 34,
      "outputs": [
        {
          "output_type": "stream",
          "name": "stdout",
          "text": [
            "0.51\n",
            "time: 13min 37s (started: 2023-11-12 00:54:28 +00:00)\n"
          ]
        }
      ]
    },
    {
      "cell_type": "code",
      "source": [
        "def qkernel(A, B):\n",
        "  return np.array([[ kernel_circuit_angle(a, b) [0] for b in B ] for a in A])\n",
        "\n",
        "svm = SVC(kernel = qkernel).fit(x_trscaler, y_train)"
      ],
      "metadata": {
        "colab": {
          "base_uri": "https://localhost:8080/"
        },
        "id": "Ezal-QX4E_lf",
        "outputId": "b4a2126f-d440-4aef-f86a-6ee8e320cd8b"
      },
      "execution_count": 41,
      "outputs": [
        {
          "output_type": "stream",
          "name": "stdout",
          "text": [
            "time: 22min 1s (started: 2023-11-12 01:13:04 +00:00)\n"
          ]
        }
      ]
    },
    {
      "cell_type": "code",
      "source": [
        "y_predict = svm.predict(x_tescaler)\n",
        "print(accuracy_score(y_predict, y_test ))"
      ],
      "metadata": {
        "colab": {
          "base_uri": "https://localhost:8080/"
        },
        "id": "zsvXp4kfK5NA",
        "outputId": "c3f7cfe2-3611-4dd9-d641-a978250b6f54"
      },
      "execution_count": 42,
      "outputs": [
        {
          "output_type": "stream",
          "name": "stdout",
          "text": [
            "0.975\n",
            "time: 5min 32s (started: 2023-11-12 01:35:44 +00:00)\n"
          ]
        }
      ]
    }
  ]
}